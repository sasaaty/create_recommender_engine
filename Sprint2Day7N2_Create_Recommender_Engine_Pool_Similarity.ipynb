{
 "cells": [
  {
   "cell_type": "markdown",
   "metadata": {},
   "source": [
    "# The Recommender Engine Pool - Similarity Measures Approach"
   ]
  },
  {
   "cell_type": "markdown",
   "metadata": {},
   "source": [
    "*What is a recommender engine pool?*\n",
    "\n",
    "\n",
    "The recommender engine pool is the data source from which the recommender engine gets its recommendations. It is made up of the (1)items considered for the recommendation and (2) measure/s that determines its fitness to be recommended.\n",
    "\n",
    "We will create a Spotify track recommendation pool based on its genre."
   ]
  },
  {
   "cell_type": "markdown",
   "metadata": {},
   "source": [
    "## Tracks Genre Classification\n",
    "\n",
    "- What does each playlist set sound like? What are their defining characteristics?\n",
    "\n",
    "- Using user-marked playlist genres as training data, can we build a model to correctly classify songs from a separate track dataset?"
   ]
  },
  {
   "cell_type": "code",
   "execution_count": 1,
   "metadata": {
    "ExecuteTime": {
     "end_time": "2021-01-21T15:12:52.278399Z",
     "start_time": "2021-01-21T15:12:46.980742Z"
    }
   },
   "outputs": [],
   "source": [
    "import pandas as pd\n",
    "import numpy as np\n",
    "\n",
    "import seaborn as sns\n",
    "import matplotlib.pyplot as plt\n",
    "%matplotlib inline"
   ]
  },
  {
   "cell_type": "markdown",
   "metadata": {},
   "source": [
    "## 1. Read the training data"
   ]
  },
  {
   "cell_type": "code",
   "execution_count": 2,
   "metadata": {
    "ExecuteTime": {
     "end_time": "2021-01-21T15:12:52.636973Z",
     "start_time": "2021-01-21T15:12:52.282149Z"
    }
   },
   "outputs": [
    {
     "name": "stdout",
     "output_type": "stream",
     "text": [
      "R&B\n",
      "Classical\n",
      "Country\n",
      "Electronic\n",
      "Jazz\n",
      "Pop\n",
      "Rock\n",
      "Rap\n"
     ]
    }
   ],
   "source": [
    "#genre_names = [\"R&B\", \"Classical\", \"Country\", \"Electronic\", \"Hiphop\",\"Jazz\", \"Pop\", \"Rock\", \"Reggae\", \"Rap\"]\n",
    "genre_names = [\"R&B\", \"Classical\", \"Country\", \"Electronic\",\"Jazz\", \"Pop\", \"Rock\", \"Rap\"]\n",
    "\n",
    "playlist_df_list = []\n",
    "track_df_list = []\n",
    "for genre in genre_names:\n",
    "    # read and process the playlist data for keyword\n",
    "    print(genre)\n",
    "    pdf = pd.read_csv('data/'+genre.lower()+'_playlist_data.csv')\n",
    "    pdf['genre'] = genre.lower().replace('&','n')\n",
    "    playlist_df_list.append(pdf)\n",
    "\n",
    "    tdf = pd.read_csv('data/'+genre.lower()+'_playlist_tracks_data.csv')\n",
    "    tdf['genre'] = genre.lower().replace('&','n')\n",
    "    tdf = tdf.drop(columns=['playlist_name'])\n",
    "    tdf = tdf.merge(pdf[['playlist_id','playlist_name']], on=['playlist_id'], how='left')\n",
    "    \n",
    "    track_df_list.append(tdf)\n",
    "    \n",
    "    \n",
    "        \n",
    "playlist_df = pd.concat(playlist_df_list)\n",
    "tracks_df = pd.concat(track_df_list)\n"
   ]
  },
  {
   "cell_type": "code",
   "execution_count": 3,
   "metadata": {
    "ExecuteTime": {
     "end_time": "2021-01-21T15:12:52.656009Z",
     "start_time": "2021-01-21T15:12:52.643350Z"
    }
   },
   "outputs": [
    {
     "data": {
      "text/plain": [
       "electronic    2536\n",
       "classical     2441\n",
       "jazz          1746\n",
       "pop           1651\n",
       "rock          1605\n",
       "rnb           1515\n",
       "country       1350\n",
       "rap           1318\n",
       "Name: genre, dtype: int64"
      ]
     },
     "execution_count": 3,
     "metadata": {},
     "output_type": "execute_result"
    }
   ],
   "source": [
    "tracks_df['genre'].value_counts()"
   ]
  },
  {
   "cell_type": "code",
   "execution_count": 4,
   "metadata": {
    "ExecuteTime": {
     "end_time": "2021-01-21T15:12:52.663866Z",
     "start_time": "2021-01-21T15:12:52.658654Z"
    }
   },
   "outputs": [
    {
     "data": {
      "text/plain": [
       "((707, 7), (14162, 22))"
      ]
     },
     "execution_count": 4,
     "metadata": {},
     "output_type": "execute_result"
    }
   ],
   "source": [
    "#check shape\n",
    "playlist_df.shape, tracks_df.shape"
   ]
  },
  {
   "cell_type": "code",
   "execution_count": 5,
   "metadata": {
    "ExecuteTime": {
     "end_time": "2021-01-21T15:12:52.673219Z",
     "start_time": "2021-01-21T15:12:52.666973Z"
    }
   },
   "outputs": [
    {
     "name": "stdout",
     "output_type": "stream",
     "text": [
      "Playlist dataset columns: ['playlist_id' 'playlist_name' 'playlist_total_tracks' 'owner_id'\n",
      " 'owner_name' 'total_followers' 'genre'] \n",
      "\n",
      "Tracks dataset columns: ['track_id' 'track_name' 'artist_id' 'artist_name' 'album_id' 'duration'\n",
      " 'release_date' 'popularity' 'danceability' 'energy' 'key' 'loudness'\n",
      " 'mode' 'speechiness' 'acousticness' 'instrumentalness' 'liveness'\n",
      " 'valence' 'tempo' 'playlist_id' 'genre' 'playlist_name']\n"
     ]
    }
   ],
   "source": [
    "#check columns\n",
    "print(\"Playlist dataset columns: %s \\n\" % playlist_df.columns.values)\n",
    "print(\"Tracks dataset columns: %s\" % tracks_df.columns.values)"
   ]
  },
  {
   "cell_type": "code",
   "execution_count": 6,
   "metadata": {
    "ExecuteTime": {
     "end_time": "2021-01-21T15:12:52.715839Z",
     "start_time": "2021-01-21T15:12:52.676094Z"
    }
   },
   "outputs": [
    {
     "data": {
      "text/html": [
       "<div>\n",
       "<style scoped>\n",
       "    .dataframe tbody tr th:only-of-type {\n",
       "        vertical-align: middle;\n",
       "    }\n",
       "\n",
       "    .dataframe tbody tr th {\n",
       "        vertical-align: top;\n",
       "    }\n",
       "\n",
       "    .dataframe thead th {\n",
       "        text-align: right;\n",
       "    }\n",
       "</style>\n",
       "<table border=\"1\" class=\"dataframe\">\n",
       "  <thead>\n",
       "    <tr style=\"text-align: right;\">\n",
       "      <th></th>\n",
       "      <th>playlist_id</th>\n",
       "      <th>playlist_name</th>\n",
       "      <th>playlist_total_tracks</th>\n",
       "      <th>owner_id</th>\n",
       "      <th>owner_name</th>\n",
       "      <th>total_followers</th>\n",
       "      <th>genre</th>\n",
       "    </tr>\n",
       "  </thead>\n",
       "  <tbody>\n",
       "  </tbody>\n",
       "</table>\n",
       "</div>"
      ],
      "text/plain": [
       "Empty DataFrame\n",
       "Columns: [playlist_id, playlist_name, playlist_total_tracks, owner_id, owner_name, total_followers, genre]\n",
       "Index: []"
      ]
     },
     "execution_count": 6,
     "metadata": {},
     "output_type": "execute_result"
    }
   ],
   "source": [
    "#check null rows\n",
    "playlist_df[playlist_df.isnull().any(1)]\n",
    "#tracks_df[tracks_df.isnull().any(1)]\n"
   ]
  },
  {
   "cell_type": "code",
   "execution_count": 7,
   "metadata": {
    "ExecuteTime": {
     "end_time": "2021-01-21T15:12:52.754172Z",
     "start_time": "2021-01-21T15:12:52.721035Z"
    }
   },
   "outputs": [
    {
     "data": {
      "text/plain": [
       "(14162, 22)"
      ]
     },
     "execution_count": 7,
     "metadata": {},
     "output_type": "execute_result"
    }
   ],
   "source": [
    "#remove null rows\n",
    "tracks_df = tracks_df[~tracks_df.isnull().any(1)]\n",
    "tracks_df.shape"
   ]
  },
  {
   "cell_type": "code",
   "execution_count": 8,
   "metadata": {
    "ExecuteTime": {
     "end_time": "2021-01-21T15:12:52.769684Z",
     "start_time": "2021-01-21T15:12:52.758544Z"
    }
   },
   "outputs": [
    {
     "data": {
      "text/plain": [
       "13687"
      ]
     },
     "execution_count": 8,
     "metadata": {},
     "output_type": "execute_result"
    }
   ],
   "source": [
    "# How many unique tracks are in the combined dataset?\n",
    "len(tracks_df['track_id'].unique())"
   ]
  },
  {
   "cell_type": "code",
   "execution_count": 9,
   "metadata": {
    "ExecuteTime": {
     "end_time": "2021-01-21T15:12:52.791899Z",
     "start_time": "2021-01-21T15:12:52.773111Z"
    }
   },
   "outputs": [
    {
     "data": {
      "text/plain": [
       "(13687, 22)"
      ]
     },
     "execution_count": 9,
     "metadata": {},
     "output_type": "execute_result"
    }
   ],
   "source": [
    "#retain only distinct tracks per keyword\n",
    "tracks_df =tracks_df.drop_duplicates(subset='track_id')\n",
    "tracks_df.shape"
   ]
  },
  {
   "cell_type": "code",
   "execution_count": 10,
   "metadata": {
    "ExecuteTime": {
     "end_time": "2021-01-21T15:12:53.100130Z",
     "start_time": "2021-01-21T15:12:52.794480Z"
    }
   },
   "outputs": [
    {
     "data": {
      "text/plain": [
       "<matplotlib.axes._subplots.AxesSubplot at 0x7f68550cc670>"
      ]
     },
     "execution_count": 10,
     "metadata": {},
     "output_type": "execute_result"
    },
    {
     "data": {
      "image/png": "[encoded data removed]",
      "text/plain": [
       "<Figure size 432x288 with 1 Axes>"
      ]
     },
     "metadata": {
      "needs_background": "light"
     },
     "output_type": "display_data"
    }
   ],
   "source": [
    "# What is the distribution of playlist's total tracks?\n",
    "playlist_df['playlist_total_tracks'].hist()"
   ]
  },
  {
   "cell_type": "code",
   "execution_count": 11,
   "metadata": {
    "ExecuteTime": {
     "end_time": "2021-01-21T15:12:53.321673Z",
     "start_time": "2021-01-21T15:12:53.102990Z"
    }
   },
   "outputs": [
    {
     "data": {
      "text/plain": [
       "<matplotlib.axes._subplots.AxesSubplot at 0x7f68529a7160>"
      ]
     },
     "execution_count": 11,
     "metadata": {},
     "output_type": "execute_result"
    },
    {
     "data": {
      "image/png": "[encoded data removed]",
      "text/plain": [
       "<Figure size 432x288 with 1 Axes>"
      ]
     },
     "metadata": {
      "needs_background": "light"
     },
     "output_type": "display_data"
    }
   ],
   "source": [
    "# What is the distribution of playlist's total tracks?\n",
    "playlist_df['total_followers'].hist()"
   ]
  },
  {
   "cell_type": "code",
   "execution_count": 12,
   "metadata": {
    "ExecuteTime": {
     "end_time": "2021-01-21T15:12:53.671378Z",
     "start_time": "2021-01-21T15:12:53.327018Z"
    }
   },
   "outputs": [
    {
     "data": {
      "text/plain": [
       "electronic    0.183678\n",
       "classical     0.178344\n",
       "jazz          0.123621\n",
       "pop           0.115146\n",
       "rnb           0.110689\n",
       "rock          0.103237\n",
       "country       0.098634\n",
       "rap           0.086652\n",
       "Name: genre, dtype: float64"
      ]
     },
     "execution_count": 12,
     "metadata": {},
     "output_type": "execute_result"
    }
   ],
   "source": [
    "#tally of tracks\n",
    "#tracks_df['genre'].value_counts()\n",
    "tracks_df['genre'].value_counts(normalize=True)"
   ]
  },
  {
   "cell_type": "markdown",
   "metadata": {},
   "source": [
    "## 2. Refine the training data"
   ]
  },
  {
   "cell_type": "code",
   "execution_count": 13,
   "metadata": {
    "ExecuteTime": {
     "end_time": "2021-01-21T15:12:53.688262Z",
     "start_time": "2021-01-21T15:12:53.673620Z"
    }
   },
   "outputs": [
    {
     "data": {
      "text/html": [
       "<div>\n",
       "<style scoped>\n",
       "    .dataframe tbody tr th:only-of-type {\n",
       "        vertical-align: middle;\n",
       "    }\n",
       "\n",
       "    .dataframe tbody tr th {\n",
       "        vertical-align: top;\n",
       "    }\n",
       "\n",
       "    .dataframe thead th {\n",
       "        text-align: right;\n",
       "    }\n",
       "</style>\n",
       "<table border=\"1\" class=\"dataframe\">\n",
       "  <thead>\n",
       "    <tr style=\"text-align: right;\">\n",
       "      <th></th>\n",
       "      <th>playlist_id</th>\n",
       "      <th>playlist_name</th>\n",
       "      <th>playlist_total_tracks</th>\n",
       "      <th>owner_id</th>\n",
       "      <th>owner_name</th>\n",
       "      <th>total_followers</th>\n",
       "      <th>genre</th>\n",
       "    </tr>\n",
       "  </thead>\n",
       "  <tbody>\n",
       "    <tr>\n",
       "      <th>0</th>\n",
       "      <td>37i9dQZF1DWYmmr74INQlb</td>\n",
       "      <td>I Love My '00s R&amp;B</td>\n",
       "      <td>40</td>\n",
       "      <td>spotify</td>\n",
       "      <td>Spotify</td>\n",
       "      <td>3323675</td>\n",
       "      <td>rnb</td>\n",
       "    </tr>\n",
       "    <tr>\n",
       "      <th>1</th>\n",
       "      <td>37i9dQZF1DX6VDO8a6cQME</td>\n",
       "      <td>I Love My '90s R&amp;B</td>\n",
       "      <td>45</td>\n",
       "      <td>spotify</td>\n",
       "      <td>Spotify</td>\n",
       "      <td>2474867</td>\n",
       "      <td>rnb</td>\n",
       "    </tr>\n",
       "    <tr>\n",
       "      <th>2</th>\n",
       "      <td>37i9dQZF1DX2UgsUIg75Vg</td>\n",
       "      <td>Chilled R&amp;B</td>\n",
       "      <td>50</td>\n",
       "      <td>spotify</td>\n",
       "      <td>Spotify</td>\n",
       "      <td>2065347</td>\n",
       "      <td>rnb</td>\n",
       "    </tr>\n",
       "    <tr>\n",
       "      <th>3</th>\n",
       "      <td>37i9dQZF1DWSfMe9z89s9B</td>\n",
       "      <td>Alternative R&amp;B</td>\n",
       "      <td>100</td>\n",
       "      <td>spotify</td>\n",
       "      <td>Spotify</td>\n",
       "      <td>935056</td>\n",
       "      <td>rnb</td>\n",
       "    </tr>\n",
       "    <tr>\n",
       "      <th>4</th>\n",
       "      <td>37i9dQZF1DXbirtHQBuwCo</td>\n",
       "      <td>TrenChill K-R&amp;B</td>\n",
       "      <td>70</td>\n",
       "      <td>spotify</td>\n",
       "      <td>Spotify</td>\n",
       "      <td>530051</td>\n",
       "      <td>rnb</td>\n",
       "    </tr>\n",
       "  </tbody>\n",
       "</table>\n",
       "</div>"
      ],
      "text/plain": [
       "              playlist_id       playlist_name  playlist_total_tracks owner_id  \\\n",
       "0  37i9dQZF1DWYmmr74INQlb  I Love My '00s R&B                     40  spotify   \n",
       "1  37i9dQZF1DX6VDO8a6cQME  I Love My '90s R&B                     45  spotify   \n",
       "2  37i9dQZF1DX2UgsUIg75Vg         Chilled R&B                     50  spotify   \n",
       "3  37i9dQZF1DWSfMe9z89s9B     Alternative R&B                    100  spotify   \n",
       "4  37i9dQZF1DXbirtHQBuwCo     TrenChill K-R&B                     70  spotify   \n",
       "\n",
       "  owner_name  total_followers genre  \n",
       "0    Spotify          3323675   rnb  \n",
       "1    Spotify          2474867   rnb  \n",
       "2    Spotify          2065347   rnb  \n",
       "3    Spotify           935056   rnb  \n",
       "4    Spotify           530051   rnb  "
      ]
     },
     "execution_count": 13,
     "metadata": {},
     "output_type": "execute_result"
    }
   ],
   "source": [
    "#get top 5 playlists per genre\n",
    "top_playlists_df = playlist_df.groupby('genre').head(5)\n",
    "top_playlists_df.head()"
   ]
  },
  {
   "cell_type": "code",
   "execution_count": 14,
   "metadata": {
    "ExecuteTime": {
     "end_time": "2021-01-21T15:12:53.706525Z",
     "start_time": "2021-01-21T15:12:53.691178Z"
    }
   },
   "outputs": [
    {
     "data": {
      "text/plain": [
       "jazz          812\n",
       "electronic    506\n",
       "classical     474\n",
       "pop           470\n",
       "rock          468\n",
       "rnb           299\n",
       "country       260\n",
       "rap           151\n",
       "Name: genre, dtype: int64"
      ]
     },
     "execution_count": 14,
     "metadata": {},
     "output_type": "execute_result"
    }
   ],
   "source": [
    "tracks_df = tracks_df[tracks_df['playlist_id'].isin(top_playlists_df['playlist_id'].values)]\n",
    "tracks_df['genre'].value_counts()"
   ]
  },
  {
   "cell_type": "markdown",
   "metadata": {},
   "source": [
    "## 3. Feature Engineering"
   ]
  },
  {
   "cell_type": "markdown",
   "metadata": {},
   "source": [
    "##### Conversions/Normalizations"
   ]
  },
  {
   "cell_type": "code",
   "execution_count": 15,
   "metadata": {
    "ExecuteTime": {
     "end_time": "2021-01-21T15:12:53.713900Z",
     "start_time": "2021-01-21T15:12:53.709413Z"
    }
   },
   "outputs": [],
   "source": [
    "#convert duration from ms to mins\n",
    "tracks_df['duration_mins']=tracks_df['duration']/60000"
   ]
  },
  {
   "cell_type": "code",
   "execution_count": 16,
   "metadata": {
    "ExecuteTime": {
     "end_time": "2021-01-21T15:12:55.732448Z",
     "start_time": "2021-01-21T15:12:53.717230Z"
    }
   },
   "outputs": [
    {
     "data": {
      "text/plain": [
       "count    3440.000000\n",
       "mean        0.772593\n",
       "std         0.153263\n",
       "min         0.000000\n",
       "25%         0.713103\n",
       "50%         0.823636\n",
       "75%         0.878079\n",
       "max         1.000000\n",
       "Name: loudness, dtype: float64"
      ]
     },
     "execution_count": 16,
     "metadata": {},
     "output_type": "execute_result"
    }
   ],
   "source": [
    "#Normalize loudness\n",
    "from sklearn.preprocessing import MinMaxScaler\n",
    "scaler = MinMaxScaler()\n",
    "\n",
    "tracks_df['loudness'] = scaler.fit_transform(tracks_df[['loudness']])\n",
    "tracks_df['loudness'].describe()\n"
   ]
  },
  {
   "cell_type": "code",
   "execution_count": 17,
   "metadata": {
    "ExecuteTime": {
     "end_time": "2021-01-21T15:12:55.756376Z",
     "start_time": "2021-01-21T15:12:55.734859Z"
    }
   },
   "outputs": [
    {
     "data": {
      "text/plain": [
       "count    3440.000000\n",
       "mean        0.522633\n",
       "std         0.134753\n",
       "min         0.000000\n",
       "25%         0.412018\n",
       "50%         0.525024\n",
       "75%         0.603994\n",
       "max         1.000000\n",
       "Name: tempo, dtype: float64"
      ]
     },
     "execution_count": 17,
     "metadata": {},
     "output_type": "execute_result"
    }
   ],
   "source": [
    "#Normalize tempo\n",
    "tracks_df['tempo'] =  scaler.fit_transform(tracks_df[['tempo']])\n",
    "#check\n",
    "tracks_df['tempo'].describe()\n"
   ]
  },
  {
   "cell_type": "markdown",
   "metadata": {},
   "source": [
    "###### Categorical Encoding"
   ]
  },
  {
   "cell_type": "code",
   "execution_count": 18,
   "metadata": {
    "ExecuteTime": {
     "end_time": "2021-01-21T15:12:55.771503Z",
     "start_time": "2021-01-21T15:12:55.759010Z"
    }
   },
   "outputs": [
    {
     "data": {
      "text/plain": [
       "track_id              object\n",
       "track_name            object\n",
       "artist_id             object\n",
       "artist_name           object\n",
       "album_id              object\n",
       "duration               int64\n",
       "release_date          object\n",
       "popularity             int64\n",
       "danceability         float64\n",
       "energy               float64\n",
       "key                    int64\n",
       "loudness             float64\n",
       "mode                   int64\n",
       "speechiness          float64\n",
       "acousticness         float64\n",
       "instrumentalness     float64\n",
       "liveness             float64\n",
       "valence              float64\n",
       "tempo                float64\n",
       "playlist_id           object\n",
       "genre               category\n",
       "playlist_name         object\n",
       "duration_mins        float64\n",
       "dtype: object"
      ]
     },
     "execution_count": 18,
     "metadata": {},
     "output_type": "execute_result"
    }
   ],
   "source": [
    "tracks_df[\"genre\"] = tracks_df[\"genre\"].astype('category')\n",
    "tracks_df.dtypes"
   ]
  },
  {
   "cell_type": "code",
   "execution_count": 19,
   "metadata": {
    "ExecuteTime": {
     "end_time": "2021-01-21T15:12:55.784436Z",
     "start_time": "2021-01-21T15:12:55.774867Z"
    }
   },
   "outputs": [
    {
     "data": {
      "text/plain": [
       "jazz          812\n",
       "electronic    506\n",
       "classical     474\n",
       "pop           470\n",
       "rock          468\n",
       "rnb           299\n",
       "country       260\n",
       "rap           151\n",
       "Name: genre, dtype: int64"
      ]
     },
     "execution_count": 19,
     "metadata": {},
     "output_type": "execute_result"
    }
   ],
   "source": [
    "tracks_df['genre'].value_counts()"
   ]
  },
  {
   "cell_type": "code",
   "execution_count": 20,
   "metadata": {
    "ExecuteTime": {
     "end_time": "2021-01-21T15:12:55.822459Z",
     "start_time": "2021-01-21T15:12:55.786994Z"
    }
   },
   "outputs": [
    {
     "data": {
      "text/html": [
       "<div>\n",
       "<style scoped>\n",
       "    .dataframe tbody tr th:only-of-type {\n",
       "        vertical-align: middle;\n",
       "    }\n",
       "\n",
       "    .dataframe tbody tr th {\n",
       "        vertical-align: top;\n",
       "    }\n",
       "\n",
       "    .dataframe thead th {\n",
       "        text-align: right;\n",
       "    }\n",
       "</style>\n",
       "<table border=\"1\" class=\"dataframe\">\n",
       "  <thead>\n",
       "    <tr style=\"text-align: right;\">\n",
       "      <th></th>\n",
       "      <th>track_id</th>\n",
       "      <th>track_name</th>\n",
       "      <th>artist_id</th>\n",
       "      <th>artist_name</th>\n",
       "      <th>album_id</th>\n",
       "      <th>duration</th>\n",
       "      <th>release_date</th>\n",
       "      <th>popularity</th>\n",
       "      <th>danceability</th>\n",
       "      <th>energy</th>\n",
       "      <th>...</th>\n",
       "      <th>acousticness</th>\n",
       "      <th>instrumentalness</th>\n",
       "      <th>liveness</th>\n",
       "      <th>valence</th>\n",
       "      <th>tempo</th>\n",
       "      <th>playlist_id</th>\n",
       "      <th>genre</th>\n",
       "      <th>playlist_name</th>\n",
       "      <th>duration_mins</th>\n",
       "      <th>genre_id</th>\n",
       "    </tr>\n",
       "  </thead>\n",
       "  <tbody>\n",
       "    <tr>\n",
       "      <th>0</th>\n",
       "      <td>0JC3ynTNoZaWjZHXzeapYy</td>\n",
       "      <td>Into You (feat. Fabolous)</td>\n",
       "      <td>0le01dl1WllSHhjEXRl4in</td>\n",
       "      <td>Tamia</td>\n",
       "      <td>0WdxQHUdLZBGbscwYV72zM</td>\n",
       "      <td>294093</td>\n",
       "      <td>2004</td>\n",
       "      <td>56</td>\n",
       "      <td>0.677</td>\n",
       "      <td>0.531</td>\n",
       "      <td>...</td>\n",
       "      <td>0.2190</td>\n",
       "      <td>0.00000</td>\n",
       "      <td>0.173</td>\n",
       "      <td>0.570</td>\n",
       "      <td>0.417156</td>\n",
       "      <td>37i9dQZF1DWYmmr74INQlb</td>\n",
       "      <td>rnb</td>\n",
       "      <td>I Love My '00s R&amp;B</td>\n",
       "      <td>4.901550</td>\n",
       "      <td>6</td>\n",
       "    </tr>\n",
       "    <tr>\n",
       "      <th>1</th>\n",
       "      <td>1zpu1PZ8ecmcX525Z3X8cl</td>\n",
       "      <td>Yo (Excuse Me Miss)</td>\n",
       "      <td>7bXgB6jMjp9ATFy66eO08Z</td>\n",
       "      <td>Chris Brown</td>\n",
       "      <td>2gRm1k9fVkhTfZDHvBI2sR</td>\n",
       "      <td>229040</td>\n",
       "      <td>2005-11-29</td>\n",
       "      <td>0</td>\n",
       "      <td>0.605</td>\n",
       "      <td>0.633</td>\n",
       "      <td>...</td>\n",
       "      <td>0.1190</td>\n",
       "      <td>0.00000</td>\n",
       "      <td>0.225</td>\n",
       "      <td>0.592</td>\n",
       "      <td>0.399555</td>\n",
       "      <td>37i9dQZF1DWYmmr74INQlb</td>\n",
       "      <td>rnb</td>\n",
       "      <td>I Love My '00s R&amp;B</td>\n",
       "      <td>3.817333</td>\n",
       "      <td>6</td>\n",
       "    </tr>\n",
       "    <tr>\n",
       "      <th>2</th>\n",
       "      <td>2RqZFOLOnzVmHUX7ZMcaES</td>\n",
       "      <td>Let It Go</td>\n",
       "      <td>1vfezMIyCr4XUdYRaKIKi3</td>\n",
       "      <td>Keyshia Cole</td>\n",
       "      <td>7mdy09EO4q6F9VWBtXDDjK</td>\n",
       "      <td>238333</td>\n",
       "      <td>2007-01-01</td>\n",
       "      <td>69</td>\n",
       "      <td>0.806</td>\n",
       "      <td>0.721</td>\n",
       "      <td>...</td>\n",
       "      <td>0.1970</td>\n",
       "      <td>0.00000</td>\n",
       "      <td>0.209</td>\n",
       "      <td>0.781</td>\n",
       "      <td>0.434845</td>\n",
       "      <td>37i9dQZF1DWYmmr74INQlb</td>\n",
       "      <td>rnb</td>\n",
       "      <td>I Love My '00s R&amp;B</td>\n",
       "      <td>3.972217</td>\n",
       "      <td>6</td>\n",
       "    </tr>\n",
       "    <tr>\n",
       "      <th>3</th>\n",
       "      <td>4iuNZTcvT9diFySSzVsnVS</td>\n",
       "      <td>When I See U</td>\n",
       "      <td>7xAcVHPiirnUqfdqo0USb1</td>\n",
       "      <td>Fantasia</td>\n",
       "      <td>42DybH3gl3WcfXAQySOEiX</td>\n",
       "      <td>217346</td>\n",
       "      <td>2006-12-09</td>\n",
       "      <td>70</td>\n",
       "      <td>0.569</td>\n",
       "      <td>0.596</td>\n",
       "      <td>...</td>\n",
       "      <td>0.4570</td>\n",
       "      <td>0.00009</td>\n",
       "      <td>0.205</td>\n",
       "      <td>0.757</td>\n",
       "      <td>0.426451</td>\n",
       "      <td>37i9dQZF1DWYmmr74INQlb</td>\n",
       "      <td>rnb</td>\n",
       "      <td>I Love My '00s R&amp;B</td>\n",
       "      <td>3.622433</td>\n",
       "      <td>6</td>\n",
       "    </tr>\n",
       "    <tr>\n",
       "      <th>4</th>\n",
       "      <td>3LmvfNUQtglbTrydsdIqFU</td>\n",
       "      <td>We Belong Together</td>\n",
       "      <td>4iHNK0tOyZPYnBU7nGAgpQ</td>\n",
       "      <td>Mariah Carey</td>\n",
       "      <td>43iBTEWECK7hSnE0p6GgNo</td>\n",
       "      <td>201400</td>\n",
       "      <td>2005-01-01</td>\n",
       "      <td>70</td>\n",
       "      <td>0.837</td>\n",
       "      <td>0.462</td>\n",
       "      <td>...</td>\n",
       "      <td>0.0339</td>\n",
       "      <td>0.00000</td>\n",
       "      <td>0.090</td>\n",
       "      <td>0.762</td>\n",
       "      <td>0.640982</td>\n",
       "      <td>37i9dQZF1DWYmmr74INQlb</td>\n",
       "      <td>rnb</td>\n",
       "      <td>I Love My '00s R&amp;B</td>\n",
       "      <td>3.356667</td>\n",
       "      <td>6</td>\n",
       "    </tr>\n",
       "  </tbody>\n",
       "</table>\n",
       "<p>5 rows × 24 columns</p>\n",
       "</div>"
      ],
      "text/plain": [
       "                 track_id                 track_name               artist_id  \\\n",
       "0  0JC3ynTNoZaWjZHXzeapYy  Into You (feat. Fabolous)  0le01dl1WllSHhjEXRl4in   \n",
       "1  1zpu1PZ8ecmcX525Z3X8cl        Yo (Excuse Me Miss)  7bXgB6jMjp9ATFy66eO08Z   \n",
       "2  2RqZFOLOnzVmHUX7ZMcaES                  Let It Go  1vfezMIyCr4XUdYRaKIKi3   \n",
       "3  4iuNZTcvT9diFySSzVsnVS               When I See U  7xAcVHPiirnUqfdqo0USb1   \n",
       "4  3LmvfNUQtglbTrydsdIqFU         We Belong Together  4iHNK0tOyZPYnBU7nGAgpQ   \n",
       "\n",
       "    artist_name                album_id  duration release_date  popularity  \\\n",
       "0         Tamia  0WdxQHUdLZBGbscwYV72zM    294093         2004          56   \n",
       "1   Chris Brown  2gRm1k9fVkhTfZDHvBI2sR    229040   2005-11-29           0   \n",
       "2  Keyshia Cole  7mdy09EO4q6F9VWBtXDDjK    238333   2007-01-01          69   \n",
       "3      Fantasia  42DybH3gl3WcfXAQySOEiX    217346   2006-12-09          70   \n",
       "4  Mariah Carey  43iBTEWECK7hSnE0p6GgNo    201400   2005-01-01          70   \n",
       "\n",
       "   danceability  energy  ...  acousticness  instrumentalness  liveness  \\\n",
       "0         0.677   0.531  ...        0.2190           0.00000     0.173   \n",
       "1         0.605   0.633  ...        0.1190           0.00000     0.225   \n",
       "2         0.806   0.721  ...        0.1970           0.00000     0.209   \n",
       "3         0.569   0.596  ...        0.4570           0.00009     0.205   \n",
       "4         0.837   0.462  ...        0.0339           0.00000     0.090   \n",
       "\n",
       "   valence     tempo             playlist_id  genre       playlist_name  \\\n",
       "0    0.570  0.417156  37i9dQZF1DWYmmr74INQlb    rnb  I Love My '00s R&B   \n",
       "1    0.592  0.399555  37i9dQZF1DWYmmr74INQlb    rnb  I Love My '00s R&B   \n",
       "2    0.781  0.434845  37i9dQZF1DWYmmr74INQlb    rnb  I Love My '00s R&B   \n",
       "3    0.757  0.426451  37i9dQZF1DWYmmr74INQlb    rnb  I Love My '00s R&B   \n",
       "4    0.762  0.640982  37i9dQZF1DWYmmr74INQlb    rnb  I Love My '00s R&B   \n",
       "\n",
       "   duration_mins genre_id  \n",
       "0       4.901550        6  \n",
       "1       3.817333        6  \n",
       "2       3.972217        6  \n",
       "3       3.622433        6  \n",
       "4       3.356667        6  \n",
       "\n",
       "[5 rows x 24 columns]"
      ]
     },
     "execution_count": 20,
     "metadata": {},
     "output_type": "execute_result"
    }
   ],
   "source": [
    "tracks_df['genre_id'] = tracks_df[\"genre\"].cat.codes\n",
    "tracks_df.head()"
   ]
  },
  {
   "cell_type": "code",
   "execution_count": 21,
   "metadata": {
    "ExecuteTime": {
     "end_time": "2021-01-21T15:12:55.838100Z",
     "start_time": "2021-01-21T15:12:55.825564Z"
    }
   },
   "outputs": [
    {
     "data": {
      "text/plain": [
       "{6: 'rnb',\n",
       " 0: 'classical',\n",
       " 1: 'country',\n",
       " 2: 'electronic',\n",
       " 3: 'jazz',\n",
       " 4: 'pop',\n",
       " 7: 'rock',\n",
       " 5: 'rap'}"
      ]
     },
     "execution_count": 21,
     "metadata": {},
     "output_type": "execute_result"
    }
   ],
   "source": [
    "genre_lookup = dict(tracks_df.groupby('genre_id').head(1)[['genre_id','genre']].values)\n",
    "genre_lookup"
   ]
  },
  {
   "cell_type": "markdown",
   "metadata": {},
   "source": [
    "## 4. Train a KNN model"
   ]
  },
  {
   "cell_type": "code",
   "execution_count": 22,
   "metadata": {
    "ExecuteTime": {
     "end_time": "2021-01-21T15:12:56.757091Z",
     "start_time": "2021-01-21T15:12:55.844971Z"
    }
   },
   "outputs": [],
   "source": [
    "from sklearn.model_selection import train_test_split, cross_val_score\n",
    "from sklearn.neighbors import KNeighborsClassifier \n",
    "from sklearn.metrics import accuracy_score,roc_curve, auc, confusion_matrix, classification_report"
   ]
  },
  {
   "cell_type": "code",
   "execution_count": 23,
   "metadata": {
    "ExecuteTime": {
     "end_time": "2021-01-21T15:12:56.763506Z",
     "start_time": "2021-01-21T15:12:56.759866Z"
    }
   },
   "outputs": [],
   "source": [
    "#test plot for a genre and 2 predictors\n",
    "\n",
    "#fig = plt.figure()\n",
    "#ax= fig.add_subplot(111)\n",
    "\n",
    "#colormaps = ['Reds','Blues']\n",
    "#genre = 'pop'\n",
    "#label = [\"not \"+genre,genre]\n",
    "#for n,genre_bool in enumerate([0,1]):\n",
    "#    df=tracks_df[tracks_df['genre_'+genre]==genre_bool]\n",
    "#    sns.kdeplot(df['energy'],df['tempo'], ax=ax,\\\n",
    "#                shade=True, shade_lowest=False, alpha=0.5, cmap=colormaps[n],\\\n",
    "#                label=label[n])\n",
    "    \n",
    "#plt.legend(frameon=False)\n"
   ]
  },
  {
   "cell_type": "markdown",
   "metadata": {},
   "source": [
    "Tuning the model"
   ]
  },
  {
   "cell_type": "code",
   "execution_count": 24,
   "metadata": {
    "ExecuteTime": {
     "end_time": "2021-01-21T15:13:40.275752Z",
     "start_time": "2021-01-21T15:12:56.766924Z"
    },
    "scrolled": true
   },
   "outputs": [
    {
     "name": "stdout",
     "output_type": "stream",
     "text": [
      "\n",
      "Tuning kNN classification model with K-Fold=4...\n",
      "Shape of X_Train:(2752, 9)\n",
      "Shape of y_Train:(2752,)\n",
      "Shape of X_Test:(688, 9)\n",
      "Shape of y_Test:(688,)\n",
      "Finding best k...\n"
     ]
    },
    {
     "data": {
      "image/png": "[encoded data removed]",
      "text/plain": [
       "<Figure size 432x288 with 1 Axes>"
      ]
     },
     "metadata": {
      "needs_background": "light"
     },
     "output_type": "display_data"
    },
    {
     "name": "stdout",
     "output_type": "stream",
     "text": [
      "The optimal number of neighbors is 20 with score 58%\n",
      "\n",
      "Tuning kNN classification model with K-Fold=5...\n",
      "Shape of X_Train:(2752, 9)\n",
      "Shape of y_Train:(2752,)\n",
      "Shape of X_Test:(688, 9)\n",
      "Shape of y_Test:(688,)\n",
      "Finding best k...\n"
     ]
    },
    {
     "data": {
      "image/png": "[encoded data removed]",
      "text/plain": [
       "<Figure size 432x288 with 1 Axes>"
      ]
     },
     "metadata": {
      "needs_background": "light"
     },
     "output_type": "display_data"
    },
    {
     "name": "stdout",
     "output_type": "stream",
     "text": [
      "The optimal number of neighbors is 16 with score 57%\n",
      "\n",
      "Tuning kNN classification model with K-Fold=8...\n",
      "Shape of X_Train:(2752, 9)\n",
      "Shape of y_Train:(2752,)\n",
      "Shape of X_Test:(688, 9)\n",
      "Shape of y_Test:(688,)\n",
      "Finding best k...\n"
     ]
    },
    {
     "data": {
      "image/png": "[encoded data removed]",
      "text/plain": [
       "<Figure size 432x288 with 1 Axes>"
      ]
     },
     "metadata": {
      "needs_background": "light"
     },
     "output_type": "display_data"
    },
    {
     "name": "stdout",
     "output_type": "stream",
     "text": [
      "The optimal number of neighbors is 33 with score 58%\n",
      "\n",
      "Tuning kNN classification model with K-Fold=10...\n",
      "Shape of X_Train:(2752, 9)\n",
      "Shape of y_Train:(2752,)\n",
      "Shape of X_Test:(688, 9)\n",
      "Shape of y_Test:(688,)\n",
      "Finding best k...\n"
     ]
    },
    {
     "data": {
      "image/png": "[encoded data removed]",
      "text/plain": [
       "<Figure size 432x288 with 1 Axes>"
      ]
     },
     "metadata": {
      "needs_background": "light"
     },
     "output_type": "display_data"
    },
    {
     "name": "stdout",
     "output_type": "stream",
     "text": [
      "The optimal number of neighbors is 6 with score 58%\n"
     ]
    }
   ],
   "source": [
    "#Select audio features to use for the model\n",
    "feature_cols = ['danceability', 'energy', 'loudness', 'speechiness', 'acousticness', 'instrumentalness',\\\n",
    "                'liveness', 'valence', 'tempo']\n",
    "results_optimal_k = []\n",
    "\n",
    "kfolds= [4,5,8,10]\n",
    "\n",
    "for d in kfolds:\n",
    "    print('\\nTuning kNN classification model with K-Fold=%d...' % d)\n",
    "    # create feature matrix (X)\n",
    "    X = tracks_df[feature_cols]\n",
    "    y = tracks_df['genre_id']\n",
    "\n",
    "    # creating training set, test set and checking shapes \n",
    "    X_train,X_test,Y_train,Y_test = train_test_split(X,y, test_size=0.2)\n",
    "    print(\"Shape of X_Train:\"+str(X_train.shape))\n",
    "    print(\"Shape of y_Train:\"+str(Y_train.shape))\n",
    "    print(\"Shape of X_Test:\"+str(X_test.shape))\n",
    "    print(\"Shape of y_Test:\"+str(Y_test.shape))\n",
    "    \n",
    "    #train model\n",
    "    cv_scores = []\n",
    "    neighbors=np.arange(2,51)\n",
    "    print('Finding best k...')\n",
    "    \n",
    "    #Perform KNN using K= [1..50] and validate using k-fold k = 5\n",
    "    for k in neighbors:\n",
    "        #print('Fitting for k=%d' % k)\n",
    "        knn = KNeighborsClassifier(n_neighbors=k)\n",
    "        scores = cross_val_score(knn, X_train, Y_train, cv=5, scoring='accuracy')\n",
    "        cv_scores.append(scores.mean())\n",
    "        \n",
    "    # changeto misclassification error\n",
    "    mse = [1 - x for x in cv_scores]\n",
    "\n",
    "    # determining best k\n",
    "    optimal_k = neighbors[mse.index(min(mse))]\n",
    "    results_optimal_k.append(optimal_k)\n",
    "    \n",
    "    knn_optimal = KNeighborsClassifier(n_neighbors=k)\n",
    "    knn_optimal.fit(X, y)\n",
    "    # plot misclassification error vs k\n",
    "    plt.plot(neighbors, mse)\n",
    "    plt.xlabel(\"Number of Neighbors K\")\n",
    "    plt.ylabel(\"Misclassification Error\")\n",
    "    plt.show()\n",
    "    \n",
    "    print(\"The optimal number of neighbors is %d with score %d%%\" % (optimal_k, 100*(1-min(mse))))\n"
   ]
  },
  {
   "cell_type": "code",
   "execution_count": 25,
   "metadata": {
    "ExecuteTime": {
     "end_time": "2021-01-21T15:13:40.284369Z",
     "start_time": "2021-01-21T15:13:40.278341Z"
    }
   },
   "outputs": [
    {
     "data": {
      "text/plain": [
       "[20, 16, 33, 6]"
      ]
     },
     "execution_count": 25,
     "metadata": {},
     "output_type": "execute_result"
    }
   ],
   "source": [
    "#results_optimal_k = [38, 33, 17, 21, 13, 46, 26, 27, 10, 26]\n",
    "results_optimal_k"
   ]
  },
  {
   "cell_type": "markdown",
   "metadata": {},
   "source": [
    "## 5. Model Prediction"
   ]
  },
  {
   "cell_type": "code",
   "execution_count": 26,
   "metadata": {
    "ExecuteTime": {
     "end_time": "2021-01-21T15:13:40.347640Z",
     "start_time": "2021-01-21T15:13:40.287636Z"
    },
    "scrolled": true
   },
   "outputs": [
    {
     "data": {
      "text/html": [
       "<div>\n",
       "<style scoped>\n",
       "    .dataframe tbody tr th:only-of-type {\n",
       "        vertical-align: middle;\n",
       "    }\n",
       "\n",
       "    .dataframe tbody tr th {\n",
       "        vertical-align: top;\n",
       "    }\n",
       "\n",
       "    .dataframe thead th {\n",
       "        text-align: right;\n",
       "    }\n",
       "</style>\n",
       "<table border=\"1\" class=\"dataframe\">\n",
       "  <thead>\n",
       "    <tr style=\"text-align: right;\">\n",
       "      <th></th>\n",
       "      <th>track_id</th>\n",
       "      <th>track_name</th>\n",
       "      <th>artist_id</th>\n",
       "      <th>artist_name</th>\n",
       "      <th>album_id</th>\n",
       "      <th>duration</th>\n",
       "      <th>release_date</th>\n",
       "      <th>popularity</th>\n",
       "      <th>danceability</th>\n",
       "      <th>energy</th>\n",
       "      <th>key</th>\n",
       "      <th>loudness</th>\n",
       "      <th>mode</th>\n",
       "      <th>speechiness</th>\n",
       "      <th>acousticness</th>\n",
       "      <th>instrumentalness</th>\n",
       "      <th>liveness</th>\n",
       "      <th>valence</th>\n",
       "      <th>tempo</th>\n",
       "    </tr>\n",
       "  </thead>\n",
       "  <tbody>\n",
       "    <tr>\n",
       "      <th>0</th>\n",
       "      <td>0ofbQMrRDsUaVKq2mGLEAb</td>\n",
       "      <td>Havana</td>\n",
       "      <td>4nDoRrQiYLoBzwC5BhVJzF</td>\n",
       "      <td>Camila Cabello</td>\n",
       "      <td>5chBPOVY2I0bG5V3igb5QL</td>\n",
       "      <td>216896</td>\n",
       "      <td>2017-08-03</td>\n",
       "      <td>5</td>\n",
       "      <td>0.768</td>\n",
       "      <td>0.517</td>\n",
       "      <td>7</td>\n",
       "      <td>-4.323</td>\n",
       "      <td>0</td>\n",
       "      <td>0.0312</td>\n",
       "      <td>0.18600</td>\n",
       "      <td>0.000038</td>\n",
       "      <td>0.1040</td>\n",
       "      <td>0.418</td>\n",
       "      <td>104.992</td>\n",
       "    </tr>\n",
       "    <tr>\n",
       "      <th>1</th>\n",
       "      <td>0tgVpDi06FyKpA1z0VMD4v</td>\n",
       "      <td>Perfect</td>\n",
       "      <td>6eUKZXaKkcviH0Ku9w2n3V</td>\n",
       "      <td>Ed Sheeran</td>\n",
       "      <td>3T4tUhGYeRNVUGevb0wThu</td>\n",
       "      <td>263400</td>\n",
       "      <td>2017-03-03</td>\n",
       "      <td>86</td>\n",
       "      <td>0.599</td>\n",
       "      <td>0.448</td>\n",
       "      <td>8</td>\n",
       "      <td>-6.312</td>\n",
       "      <td>1</td>\n",
       "      <td>0.0232</td>\n",
       "      <td>0.16300</td>\n",
       "      <td>0.000000</td>\n",
       "      <td>0.1060</td>\n",
       "      <td>0.168</td>\n",
       "      <td>95.050</td>\n",
       "    </tr>\n",
       "    <tr>\n",
       "      <th>2</th>\n",
       "      <td>3hBBKuWJfxlIlnd9QFoC8k</td>\n",
       "      <td>What Lovers Do (feat. SZA)</td>\n",
       "      <td>04gDigrS5kc9YWfZHwBETP</td>\n",
       "      <td>Maroon 5</td>\n",
       "      <td>1Jmq5HEJeA9kNi2SgQul4U</td>\n",
       "      <td>199849</td>\n",
       "      <td>2017-11-03</td>\n",
       "      <td>5</td>\n",
       "      <td>0.795</td>\n",
       "      <td>0.615</td>\n",
       "      <td>5</td>\n",
       "      <td>-5.211</td>\n",
       "      <td>0</td>\n",
       "      <td>0.0671</td>\n",
       "      <td>0.07860</td>\n",
       "      <td>0.000003</td>\n",
       "      <td>0.0855</td>\n",
       "      <td>0.393</td>\n",
       "      <td>110.009</td>\n",
       "    </tr>\n",
       "    <tr>\n",
       "      <th>3</th>\n",
       "      <td>1mXVgsBdtIVeCLJnSnmtdV</td>\n",
       "      <td>Too Good At Goodbyes</td>\n",
       "      <td>2wY79sveU1sp5g7SokKOiI</td>\n",
       "      <td>Sam Smith</td>\n",
       "      <td>3TJz2UBNYJtlEly0sPeNrQ</td>\n",
       "      <td>201000</td>\n",
       "      <td>2017-11-03</td>\n",
       "      <td>81</td>\n",
       "      <td>0.681</td>\n",
       "      <td>0.372</td>\n",
       "      <td>5</td>\n",
       "      <td>-8.237</td>\n",
       "      <td>1</td>\n",
       "      <td>0.0432</td>\n",
       "      <td>0.64000</td>\n",
       "      <td>0.000000</td>\n",
       "      <td>0.1690</td>\n",
       "      <td>0.476</td>\n",
       "      <td>91.873</td>\n",
       "    </tr>\n",
       "    <tr>\n",
       "      <th>4</th>\n",
       "      <td>2ekn2ttSfGqwhhate0LSR0</td>\n",
       "      <td>New Rules</td>\n",
       "      <td>6M2wZ9GZgrQXHCFfjv46we</td>\n",
       "      <td>Dua Lipa</td>\n",
       "      <td>01sfgrNbnnPUEyz6GZYlt9</td>\n",
       "      <td>209320</td>\n",
       "      <td>2017-06-02</td>\n",
       "      <td>81</td>\n",
       "      <td>0.762</td>\n",
       "      <td>0.700</td>\n",
       "      <td>9</td>\n",
       "      <td>-6.021</td>\n",
       "      <td>0</td>\n",
       "      <td>0.0694</td>\n",
       "      <td>0.00261</td>\n",
       "      <td>0.000016</td>\n",
       "      <td>0.1530</td>\n",
       "      <td>0.608</td>\n",
       "      <td>116.073</td>\n",
       "    </tr>\n",
       "  </tbody>\n",
       "</table>\n",
       "</div>"
      ],
      "text/plain": [
       "                 track_id                  track_name               artist_id  \\\n",
       "0  0ofbQMrRDsUaVKq2mGLEAb                      Havana  4nDoRrQiYLoBzwC5BhVJzF   \n",
       "1  0tgVpDi06FyKpA1z0VMD4v                     Perfect  6eUKZXaKkcviH0Ku9w2n3V   \n",
       "2  3hBBKuWJfxlIlnd9QFoC8k  What Lovers Do (feat. SZA)  04gDigrS5kc9YWfZHwBETP   \n",
       "3  1mXVgsBdtIVeCLJnSnmtdV        Too Good At Goodbyes  2wY79sveU1sp5g7SokKOiI   \n",
       "4  2ekn2ttSfGqwhhate0LSR0                   New Rules  6M2wZ9GZgrQXHCFfjv46we   \n",
       "\n",
       "      artist_name                album_id  duration release_date  popularity  \\\n",
       "0  Camila Cabello  5chBPOVY2I0bG5V3igb5QL    216896   2017-08-03           5   \n",
       "1      Ed Sheeran  3T4tUhGYeRNVUGevb0wThu    263400   2017-03-03          86   \n",
       "2        Maroon 5  1Jmq5HEJeA9kNi2SgQul4U    199849   2017-11-03           5   \n",
       "3       Sam Smith  3TJz2UBNYJtlEly0sPeNrQ    201000   2017-11-03          81   \n",
       "4        Dua Lipa  01sfgrNbnnPUEyz6GZYlt9    209320   2017-06-02          81   \n",
       "\n",
       "   danceability  energy  key  loudness  mode  speechiness  acousticness  \\\n",
       "0         0.768   0.517    7    -4.323     0       0.0312       0.18600   \n",
       "1         0.599   0.448    8    -6.312     1       0.0232       0.16300   \n",
       "2         0.795   0.615    5    -5.211     0       0.0671       0.07860   \n",
       "3         0.681   0.372    5    -8.237     1       0.0432       0.64000   \n",
       "4         0.762   0.700    9    -6.021     0       0.0694       0.00261   \n",
       "\n",
       "   instrumentalness  liveness  valence    tempo  \n",
       "0          0.000038    0.1040    0.418  104.992  \n",
       "1          0.000000    0.1060    0.168   95.050  \n",
       "2          0.000003    0.0855    0.393  110.009  \n",
       "3          0.000000    0.1690    0.476   91.873  \n",
       "4          0.000016    0.1530    0.608  116.073  "
      ]
     },
     "execution_count": 26,
     "metadata": {},
     "output_type": "execute_result"
    }
   ],
   "source": [
    "chart_tracks_df = pd.read_csv(\"data/spotify_daily_charts_tracks.csv\")\n",
    "chart_tracks_df.head()"
   ]
  },
  {
   "cell_type": "code",
   "execution_count": 27,
   "metadata": {
    "ExecuteTime": {
     "end_time": "2021-01-21T15:13:40.365275Z",
     "start_time": "2021-01-21T15:13:40.350457Z"
    }
   },
   "outputs": [],
   "source": [
    "#normalize loudness and tempo\n",
    "chart_tracks_df['loudness'] = scaler.fit_transform(chart_tracks_df[['loudness']])\n",
    "chart_tracks_df['tempo'] =  scaler.fit_transform(chart_tracks_df[['tempo']])"
   ]
  },
  {
   "cell_type": "markdown",
   "metadata": {},
   "source": [
    "Test the model with external data by predicting the genres of the spotify charting tracks!"
   ]
  },
  {
   "cell_type": "code",
   "execution_count": 28,
   "metadata": {
    "ExecuteTime": {
     "end_time": "2021-01-21T15:13:49.302804Z",
     "start_time": "2021-01-21T15:13:40.369326Z"
    },
    "scrolled": true
   },
   "outputs": [
    {
     "name": "stdout",
     "output_type": "stream",
     "text": [
      "Predicting with optimal k: 6\n"
     ]
    }
   ],
   "source": [
    "#Predict genres of the spotify charts\n",
    "feature_cols = ['danceability', 'energy', 'loudness', 'speechiness', 'acousticness', 'instrumentalness',\\\n",
    "                'liveness', 'valence', 'tempo']\n",
    "genres = [genre_lookup[i] for i in np.arange(len(genre_names))]\n",
    "\n",
    "n=3 #pick kfold=10\n",
    "print(\"Predicting with optimal k: %d\" %(results_optimal_k[n]))\n",
    "\n",
    "knn_optimal = KNeighborsClassifier(n_neighbors=results_optimal_k[n])\n",
    "X = tracks_df[feature_cols]\n",
    "y = tracks_df['genre_id']\n",
    "knn_optimal.fit(X, y)\n",
    "\n",
    "chart_tracks_df['predicted_genre_id'] = chart_tracks_df.apply(lambda x:  knn_optimal.predict(x[feature_cols].values.reshape(1,-1))[0]\\\n",
    "                                               , axis=1)\n",
    "chart_tracks_df['predicted_genre'] = chart_tracks_df['predicted_genre_id'].apply(lambda x: genre_lookup[x])\n",
    "chart_tracks_df['predicted_genre_prob'] = chart_tracks_df.apply(lambda x:  np.max(knn_optimal.predict_proba(x[feature_cols].values.reshape(1,-1)))\\\n",
    "                                                    , axis=1)\n",
    "chart_tracks_df['all_genre_prob'] = chart_tracks_df.apply(lambda x:  knn_optimal.predict_proba(x[feature_cols].values.reshape(1,-1))[0]\\\n",
    "                                                    , axis=1)\n"
   ]
  },
  {
   "cell_type": "code",
   "execution_count": 29,
   "metadata": {
    "ExecuteTime": {
     "end_time": "2021-01-21T15:13:49.362188Z",
     "start_time": "2021-01-21T15:13:49.304806Z"
    },
    "scrolled": true
   },
   "outputs": [
    {
     "data": {
      "text/html": [
       "<div>\n",
       "<style scoped>\n",
       "    .dataframe tbody tr th:only-of-type {\n",
       "        vertical-align: middle;\n",
       "    }\n",
       "\n",
       "    .dataframe tbody tr th {\n",
       "        vertical-align: top;\n",
       "    }\n",
       "\n",
       "    .dataframe thead th {\n",
       "        text-align: right;\n",
       "    }\n",
       "</style>\n",
       "<table border=\"1\" class=\"dataframe\">\n",
       "  <thead>\n",
       "    <tr style=\"text-align: right;\">\n",
       "      <th></th>\n",
       "      <th>track_id</th>\n",
       "      <th>track_name</th>\n",
       "      <th>artist_id</th>\n",
       "      <th>artist_name</th>\n",
       "      <th>album_id</th>\n",
       "      <th>duration</th>\n",
       "      <th>release_date</th>\n",
       "      <th>popularity</th>\n",
       "      <th>danceability</th>\n",
       "      <th>energy</th>\n",
       "      <th>...</th>\n",
       "      <th>predicted_genre</th>\n",
       "      <th>predicted_genre_prob</th>\n",
       "      <th>predicted_classical_prob</th>\n",
       "      <th>predicted_country_prob</th>\n",
       "      <th>predicted_electronic_prob</th>\n",
       "      <th>predicted_jazz_prob</th>\n",
       "      <th>predicted_pop_prob</th>\n",
       "      <th>predicted_rap_prob</th>\n",
       "      <th>predicted_rnb_prob</th>\n",
       "      <th>predicted_rock_prob</th>\n",
       "    </tr>\n",
       "  </thead>\n",
       "  <tbody>\n",
       "    <tr>\n",
       "      <th>141</th>\n",
       "      <td>4VuS959DSpr82t3qBqCrWG</td>\n",
       "      <td>Supermarket Flowers</td>\n",
       "      <td>6eUKZXaKkcviH0Ku9w2n3V</td>\n",
       "      <td>Ed Sheeran</td>\n",
       "      <td>3T4tUhGYeRNVUGevb0wThu</td>\n",
       "      <td>221106</td>\n",
       "      <td>2017-03-03</td>\n",
       "      <td>78</td>\n",
       "      <td>0.589</td>\n",
       "      <td>0.242</td>\n",
       "      <td>...</td>\n",
       "      <td>jazz</td>\n",
       "      <td>1.0</td>\n",
       "      <td>0.0</td>\n",
       "      <td>0.0</td>\n",
       "      <td>0.0</td>\n",
       "      <td>1.0</td>\n",
       "      <td>0.0</td>\n",
       "      <td>0.0</td>\n",
       "      <td>0.0</td>\n",
       "      <td>0.0</td>\n",
       "    </tr>\n",
       "    <tr>\n",
       "      <th>1055</th>\n",
       "      <td>1Qi2wh8fFgDV7tl4Sj3f2K</td>\n",
       "      <td>Have Yourself A Merry Little Christmas</td>\n",
       "      <td>2wY79sveU1sp5g7SokKOiI</td>\n",
       "      <td>Sam Smith</td>\n",
       "      <td>3nCpXy6LlyXWuFR08tMycK</td>\n",
       "      <td>170964</td>\n",
       "      <td>2014-12-05</td>\n",
       "      <td>58</td>\n",
       "      <td>0.438</td>\n",
       "      <td>0.178</td>\n",
       "      <td>...</td>\n",
       "      <td>jazz</td>\n",
       "      <td>1.0</td>\n",
       "      <td>0.0</td>\n",
       "      <td>0.0</td>\n",
       "      <td>0.0</td>\n",
       "      <td>1.0</td>\n",
       "      <td>0.0</td>\n",
       "      <td>0.0</td>\n",
       "      <td>0.0</td>\n",
       "      <td>0.0</td>\n",
       "    </tr>\n",
       "    <tr>\n",
       "      <th>314</th>\n",
       "      <td>66y7x28jXOPrcmu3D5Zjh6</td>\n",
       "      <td>A Million Dreams (Reprise)</td>\n",
       "      <td>6Y20PijIkUoCtuvtkz37dO</td>\n",
       "      <td>Austyn Johnson</td>\n",
       "      <td>7ayBZIe1FHkNv0T5xFCX6F</td>\n",
       "      <td>60453</td>\n",
       "      <td>2017-12-08</td>\n",
       "      <td>67</td>\n",
       "      <td>0.253</td>\n",
       "      <td>0.139</td>\n",
       "      <td>...</td>\n",
       "      <td>classical</td>\n",
       "      <td>1.0</td>\n",
       "      <td>1.0</td>\n",
       "      <td>0.0</td>\n",
       "      <td>0.0</td>\n",
       "      <td>0.0</td>\n",
       "      <td>0.0</td>\n",
       "      <td>0.0</td>\n",
       "      <td>0.0</td>\n",
       "      <td>0.0</td>\n",
       "    </tr>\n",
       "    <tr>\n",
       "      <th>1425</th>\n",
       "      <td>14BG5B1EJSCyNpZt096xXc</td>\n",
       "      <td>Patawad, Paalam</td>\n",
       "      <td>0rZRTXEmmPmx6gt92tBqIc</td>\n",
       "      <td>Moira Dela Torre</td>\n",
       "      <td>4Lavp71TTVIdkw8yNY8LhA</td>\n",
       "      <td>323140</td>\n",
       "      <td>2019-06-14</td>\n",
       "      <td>59</td>\n",
       "      <td>0.472</td>\n",
       "      <td>0.288</td>\n",
       "      <td>...</td>\n",
       "      <td>jazz</td>\n",
       "      <td>1.0</td>\n",
       "      <td>0.0</td>\n",
       "      <td>0.0</td>\n",
       "      <td>0.0</td>\n",
       "      <td>1.0</td>\n",
       "      <td>0.0</td>\n",
       "      <td>0.0</td>\n",
       "      <td>0.0</td>\n",
       "      <td>0.0</td>\n",
       "    </tr>\n",
       "    <tr>\n",
       "      <th>674</th>\n",
       "      <td>1iSZPndzmY6NvL1jAtIvY1</td>\n",
       "      <td>I'm Upset</td>\n",
       "      <td>3TVXtAsR1Inumwj472S9r4</td>\n",
       "      <td>Drake</td>\n",
       "      <td>2o9McLtDM7mbODV7yZF2mc</td>\n",
       "      <td>214466</td>\n",
       "      <td>2018-06-29</td>\n",
       "      <td>0</td>\n",
       "      <td>0.899</td>\n",
       "      <td>0.587</td>\n",
       "      <td>...</td>\n",
       "      <td>rap</td>\n",
       "      <td>1.0</td>\n",
       "      <td>0.0</td>\n",
       "      <td>0.0</td>\n",
       "      <td>0.0</td>\n",
       "      <td>0.0</td>\n",
       "      <td>0.0</td>\n",
       "      <td>1.0</td>\n",
       "      <td>0.0</td>\n",
       "      <td>0.0</td>\n",
       "    </tr>\n",
       "  </tbody>\n",
       "</table>\n",
       "<p>5 rows × 30 columns</p>\n",
       "</div>"
      ],
      "text/plain": [
       "                    track_id                              track_name  \\\n",
       "141   4VuS959DSpr82t3qBqCrWG                     Supermarket Flowers   \n",
       "1055  1Qi2wh8fFgDV7tl4Sj3f2K  Have Yourself A Merry Little Christmas   \n",
       "314   66y7x28jXOPrcmu3D5Zjh6              A Million Dreams (Reprise)   \n",
       "1425  14BG5B1EJSCyNpZt096xXc                         Patawad, Paalam   \n",
       "674   1iSZPndzmY6NvL1jAtIvY1                               I'm Upset   \n",
       "\n",
       "                   artist_id       artist_name                album_id  \\\n",
       "141   6eUKZXaKkcviH0Ku9w2n3V        Ed Sheeran  3T4tUhGYeRNVUGevb0wThu   \n",
       "1055  2wY79sveU1sp5g7SokKOiI         Sam Smith  3nCpXy6LlyXWuFR08tMycK   \n",
       "314   6Y20PijIkUoCtuvtkz37dO    Austyn Johnson  7ayBZIe1FHkNv0T5xFCX6F   \n",
       "1425  0rZRTXEmmPmx6gt92tBqIc  Moira Dela Torre  4Lavp71TTVIdkw8yNY8LhA   \n",
       "674   3TVXtAsR1Inumwj472S9r4             Drake  2o9McLtDM7mbODV7yZF2mc   \n",
       "\n",
       "      duration release_date  popularity  danceability  energy  ...  \\\n",
       "141     221106   2017-03-03          78         0.589   0.242  ...   \n",
       "1055    170964   2014-12-05          58         0.438   0.178  ...   \n",
       "314      60453   2017-12-08          67         0.253   0.139  ...   \n",
       "1425    323140   2019-06-14          59         0.472   0.288  ...   \n",
       "674     214466   2018-06-29           0         0.899   0.587  ...   \n",
       "\n",
       "      predicted_genre  predicted_genre_prob  predicted_classical_prob  \\\n",
       "141              jazz                   1.0                       0.0   \n",
       "1055             jazz                   1.0                       0.0   \n",
       "314         classical                   1.0                       1.0   \n",
       "1425             jazz                   1.0                       0.0   \n",
       "674               rap                   1.0                       0.0   \n",
       "\n",
       "      predicted_country_prob  predicted_electronic_prob  predicted_jazz_prob  \\\n",
       "141                      0.0                        0.0                  1.0   \n",
       "1055                     0.0                        0.0                  1.0   \n",
       "314                      0.0                        0.0                  0.0   \n",
       "1425                     0.0                        0.0                  1.0   \n",
       "674                      0.0                        0.0                  0.0   \n",
       "\n",
       "      predicted_pop_prob  predicted_rap_prob  predicted_rnb_prob  \\\n",
       "141                  0.0                 0.0                 0.0   \n",
       "1055                 0.0                 0.0                 0.0   \n",
       "314                  0.0                 0.0                 0.0   \n",
       "1425                 0.0                 0.0                 0.0   \n",
       "674                  0.0                 1.0                 0.0   \n",
       "\n",
       "      predicted_rock_prob  \n",
       "141                   0.0  \n",
       "1055                  0.0  \n",
       "314                   0.0  \n",
       "1425                  0.0  \n",
       "674                   0.0  \n",
       "\n",
       "[5 rows x 30 columns]"
      ]
     },
     "execution_count": 29,
     "metadata": {},
     "output_type": "execute_result"
    }
   ],
   "source": [
    "#explode genre probabilities into separate columns\n",
    "charts_predicted_genre_prob = pd.DataFrame(chart_tracks_df[\"all_genre_prob\"].to_list(),\n",
    "                                           columns=['predicted_'+g+'_prob' for g in genres])\n",
    "charts_predicted_genre_prob['track_id'] = chart_tracks_df['track_id']\n",
    "chart_tracks_df = pd.merge(chart_tracks_df,charts_predicted_genre_prob, how='left', on='track_id')\n",
    "chart_tracks_df = chart_tracks_df.drop(columns='all_genre_prob')\n",
    "chart_tracks_df = chart_tracks_df.sort_values('predicted_genre_prob', ascending=False)\n",
    "chart_tracks_df.head()"
   ]
  },
  {
   "cell_type": "markdown",
   "metadata": {},
   "source": [
    "Check out tracks with highest assigned probability"
   ]
  },
  {
   "cell_type": "code",
   "execution_count": 30,
   "metadata": {
    "ExecuteTime": {
     "end_time": "2021-01-21T15:13:49.401423Z",
     "start_time": "2021-01-21T15:13:49.365144Z"
    }
   },
   "outputs": [
    {
     "data": {
      "text/html": [
       "<div>\n",
       "<style scoped>\n",
       "    .dataframe tbody tr th:only-of-type {\n",
       "        vertical-align: middle;\n",
       "    }\n",
       "\n",
       "    .dataframe tbody tr th {\n",
       "        vertical-align: top;\n",
       "    }\n",
       "\n",
       "    .dataframe thead th {\n",
       "        text-align: right;\n",
       "    }\n",
       "</style>\n",
       "<table border=\"1\" class=\"dataframe\">\n",
       "  <thead>\n",
       "    <tr style=\"text-align: right;\">\n",
       "      <th></th>\n",
       "      <th>artist_name</th>\n",
       "      <th>track_name</th>\n",
       "      <th>predicted_genre</th>\n",
       "      <th>predicted_genre_prob</th>\n",
       "    </tr>\n",
       "  </thead>\n",
       "  <tbody>\n",
       "    <tr>\n",
       "      <th>141</th>\n",
       "      <td>Ed Sheeran</td>\n",
       "      <td>Supermarket Flowers</td>\n",
       "      <td>jazz</td>\n",
       "      <td>1.000000</td>\n",
       "    </tr>\n",
       "    <tr>\n",
       "      <th>1055</th>\n",
       "      <td>Sam Smith</td>\n",
       "      <td>Have Yourself A Merry Little Christmas</td>\n",
       "      <td>jazz</td>\n",
       "      <td>1.000000</td>\n",
       "    </tr>\n",
       "    <tr>\n",
       "      <th>314</th>\n",
       "      <td>Austyn Johnson</td>\n",
       "      <td>A Million Dreams (Reprise)</td>\n",
       "      <td>classical</td>\n",
       "      <td>1.000000</td>\n",
       "    </tr>\n",
       "    <tr>\n",
       "      <th>1425</th>\n",
       "      <td>Moira Dela Torre</td>\n",
       "      <td>Patawad, Paalam</td>\n",
       "      <td>jazz</td>\n",
       "      <td>1.000000</td>\n",
       "    </tr>\n",
       "    <tr>\n",
       "      <th>674</th>\n",
       "      <td>Drake</td>\n",
       "      <td>I'm Upset</td>\n",
       "      <td>rap</td>\n",
       "      <td>1.000000</td>\n",
       "    </tr>\n",
       "    <tr>\n",
       "      <th>1165</th>\n",
       "      <td>Marshmello</td>\n",
       "      <td>Fly</td>\n",
       "      <td>electronic</td>\n",
       "      <td>1.000000</td>\n",
       "    </tr>\n",
       "    <tr>\n",
       "      <th>800</th>\n",
       "      <td>Unique Salonga</td>\n",
       "      <td>Jules</td>\n",
       "      <td>jazz</td>\n",
       "      <td>1.000000</td>\n",
       "    </tr>\n",
       "    <tr>\n",
       "      <th>730</th>\n",
       "      <td>Unique Salonga</td>\n",
       "      <td>Midnight Sky</td>\n",
       "      <td>jazz</td>\n",
       "      <td>1.000000</td>\n",
       "    </tr>\n",
       "    <tr>\n",
       "      <th>960</th>\n",
       "      <td>RM</td>\n",
       "      <td>forever rain</td>\n",
       "      <td>rock</td>\n",
       "      <td>1.000000</td>\n",
       "    </tr>\n",
       "    <tr>\n",
       "      <th>865</th>\n",
       "      <td>Eminem</td>\n",
       "      <td>Fall</td>\n",
       "      <td>rap</td>\n",
       "      <td>1.000000</td>\n",
       "    </tr>\n",
       "    <tr>\n",
       "      <th>1779</th>\n",
       "      <td>The 1975</td>\n",
       "      <td>Me &amp; You Together Song</td>\n",
       "      <td>rock</td>\n",
       "      <td>1.000000</td>\n",
       "    </tr>\n",
       "    <tr>\n",
       "      <th>2158</th>\n",
       "      <td>Jack Harlow</td>\n",
       "      <td>WHATS POPPIN (feat. DaBaby, Tory Lanez &amp; Lil W...</td>\n",
       "      <td>rap</td>\n",
       "      <td>1.000000</td>\n",
       "    </tr>\n",
       "    <tr>\n",
       "      <th>1043</th>\n",
       "      <td>Red Velvet</td>\n",
       "      <td>RBB (Really Bad Boy) - English Version</td>\n",
       "      <td>electronic</td>\n",
       "      <td>1.000000</td>\n",
       "    </tr>\n",
       "    <tr>\n",
       "      <th>2119</th>\n",
       "      <td>HONNE</td>\n",
       "      <td>dear P</td>\n",
       "      <td>classical</td>\n",
       "      <td>1.000000</td>\n",
       "    </tr>\n",
       "    <tr>\n",
       "      <th>1150</th>\n",
       "      <td>IV Of Spades</td>\n",
       "      <td>Take That Man</td>\n",
       "      <td>rock</td>\n",
       "      <td>1.000000</td>\n",
       "    </tr>\n",
       "    <tr>\n",
       "      <th>1646</th>\n",
       "      <td>My Chemical Romance</td>\n",
       "      <td>Welcome to the Black Parade</td>\n",
       "      <td>rock</td>\n",
       "      <td>1.000000</td>\n",
       "    </tr>\n",
       "    <tr>\n",
       "      <th>981</th>\n",
       "      <td>Queen</td>\n",
       "      <td>Bohemian Rhapsody - 2011 Mix</td>\n",
       "      <td>rock</td>\n",
       "      <td>1.000000</td>\n",
       "    </tr>\n",
       "    <tr>\n",
       "      <th>1145</th>\n",
       "      <td>Gary Valenciano</td>\n",
       "      <td>Pasko Na Sinta Ko</td>\n",
       "      <td>classical</td>\n",
       "      <td>1.000000</td>\n",
       "    </tr>\n",
       "    <tr>\n",
       "      <th>629</th>\n",
       "      <td>Drake</td>\n",
       "      <td>I'm Upset</td>\n",
       "      <td>rap</td>\n",
       "      <td>1.000000</td>\n",
       "    </tr>\n",
       "    <tr>\n",
       "      <th>492</th>\n",
       "      <td>Avicii</td>\n",
       "      <td>Without You (feat. Sandro Cavazza)</td>\n",
       "      <td>electronic</td>\n",
       "      <td>1.000000</td>\n",
       "    </tr>\n",
       "    <tr>\n",
       "      <th>2156</th>\n",
       "      <td>DJ Khaled</td>\n",
       "      <td>POPSTAR (feat. Drake)</td>\n",
       "      <td>rap</td>\n",
       "      <td>1.000000</td>\n",
       "    </tr>\n",
       "    <tr>\n",
       "      <th>1048</th>\n",
       "      <td>Red Velvet</td>\n",
       "      <td>RBB (Really Bad Boy)</td>\n",
       "      <td>electronic</td>\n",
       "      <td>1.000000</td>\n",
       "    </tr>\n",
       "    <tr>\n",
       "      <th>2151</th>\n",
       "      <td>Rich Brian</td>\n",
       "      <td>Love In My Pocket</td>\n",
       "      <td>rnb</td>\n",
       "      <td>1.000000</td>\n",
       "    </tr>\n",
       "    <tr>\n",
       "      <th>664</th>\n",
       "      <td>Panic! At The Disco</td>\n",
       "      <td>High Hopes</td>\n",
       "      <td>country</td>\n",
       "      <td>1.000000</td>\n",
       "    </tr>\n",
       "    <tr>\n",
       "      <th>1638</th>\n",
       "      <td>Kanye West</td>\n",
       "      <td>Use This Gospel</td>\n",
       "      <td>pop</td>\n",
       "      <td>0.833333</td>\n",
       "    </tr>\n",
       "    <tr>\n",
       "      <th>1795</th>\n",
       "      <td>Justin Bieber</td>\n",
       "      <td>Get Me</td>\n",
       "      <td>rnb</td>\n",
       "      <td>0.833333</td>\n",
       "    </tr>\n",
       "    <tr>\n",
       "      <th>1168</th>\n",
       "      <td>Russ</td>\n",
       "      <td>Missin You Crazy</td>\n",
       "      <td>electronic</td>\n",
       "      <td>0.833333</td>\n",
       "    </tr>\n",
       "    <tr>\n",
       "      <th>1326</th>\n",
       "      <td>BTS</td>\n",
       "      <td>Boy With Luv (feat. Halsey)</td>\n",
       "      <td>pop</td>\n",
       "      <td>0.833333</td>\n",
       "    </tr>\n",
       "    <tr>\n",
       "      <th>167</th>\n",
       "      <td>Maroon 5</td>\n",
       "      <td>She Will Be Loved - Radio Mix</td>\n",
       "      <td>country</td>\n",
       "      <td>0.833333</td>\n",
       "    </tr>\n",
       "    <tr>\n",
       "      <th>1701</th>\n",
       "      <td>Camila Cabello</td>\n",
       "      <td>Living Proof</td>\n",
       "      <td>rnb</td>\n",
       "      <td>0.833333</td>\n",
       "    </tr>\n",
       "    <tr>\n",
       "      <th>1982</th>\n",
       "      <td>Rachel Platten</td>\n",
       "      <td>Fight Song</td>\n",
       "      <td>pop</td>\n",
       "      <td>0.833333</td>\n",
       "    </tr>\n",
       "    <tr>\n",
       "      <th>251</th>\n",
       "      <td>Camila Cabello</td>\n",
       "      <td>Never Be the Same</td>\n",
       "      <td>pop</td>\n",
       "      <td>0.833333</td>\n",
       "    </tr>\n",
       "    <tr>\n",
       "      <th>256</th>\n",
       "      <td>Camila Cabello</td>\n",
       "      <td>Inside Out</td>\n",
       "      <td>rnb</td>\n",
       "      <td>0.833333</td>\n",
       "    </tr>\n",
       "    <tr>\n",
       "      <th>548</th>\n",
       "      <td>Selena Gomez</td>\n",
       "      <td>Back To You - From 13 Reasons Why – Season 2 S...</td>\n",
       "      <td>country</td>\n",
       "      <td>0.833333</td>\n",
       "    </tr>\n",
       "    <tr>\n",
       "      <th>518</th>\n",
       "      <td>Post Malone</td>\n",
       "      <td>Spoil My Night (feat. Swae Lee)</td>\n",
       "      <td>pop</td>\n",
       "      <td>0.833333</td>\n",
       "    </tr>\n",
       "    <tr>\n",
       "      <th>847</th>\n",
       "      <td>Kina Grannis</td>\n",
       "      <td>Can’t Help Falling in Love</td>\n",
       "      <td>classical</td>\n",
       "      <td>0.833333</td>\n",
       "    </tr>\n",
       "    <tr>\n",
       "      <th>1665</th>\n",
       "      <td>Camila Cabello</td>\n",
       "      <td>Living Proof</td>\n",
       "      <td>rnb</td>\n",
       "      <td>0.833333</td>\n",
       "    </tr>\n",
       "    <tr>\n",
       "      <th>1462</th>\n",
       "      <td>Ellie Goulding</td>\n",
       "      <td>Hate Me (with Juice WRLD)</td>\n",
       "      <td>country</td>\n",
       "      <td>0.833333</td>\n",
       "    </tr>\n",
       "    <tr>\n",
       "      <th>1846</th>\n",
       "      <td>BTS</td>\n",
       "      <td>Friends</td>\n",
       "      <td>country</td>\n",
       "      <td>0.833333</td>\n",
       "    </tr>\n",
       "    <tr>\n",
       "      <th>1449</th>\n",
       "      <td>Kina Grannis</td>\n",
       "      <td>Can't Help Falling In Love</td>\n",
       "      <td>classical</td>\n",
       "      <td>0.833333</td>\n",
       "    </tr>\n",
       "  </tbody>\n",
       "</table>\n",
       "</div>"
      ],
      "text/plain": [
       "              artist_name                                         track_name  \\\n",
       "141            Ed Sheeran                                Supermarket Flowers   \n",
       "1055            Sam Smith             Have Yourself A Merry Little Christmas   \n",
       "314        Austyn Johnson                         A Million Dreams (Reprise)   \n",
       "1425     Moira Dela Torre                                    Patawad, Paalam   \n",
       "674                 Drake                                          I'm Upset   \n",
       "1165           Marshmello                                                Fly   \n",
       "800        Unique Salonga                                              Jules   \n",
       "730        Unique Salonga                                       Midnight Sky   \n",
       "960                    RM                                       forever rain   \n",
       "865                Eminem                                               Fall   \n",
       "1779             The 1975                             Me & You Together Song   \n",
       "2158          Jack Harlow  WHATS POPPIN (feat. DaBaby, Tory Lanez & Lil W...   \n",
       "1043           Red Velvet             RBB (Really Bad Boy) - English Version   \n",
       "2119                HONNE                                             dear P   \n",
       "1150         IV Of Spades                                      Take That Man   \n",
       "1646  My Chemical Romance                        Welcome to the Black Parade   \n",
       "981                 Queen                       Bohemian Rhapsody - 2011 Mix   \n",
       "1145      Gary Valenciano                                  Pasko Na Sinta Ko   \n",
       "629                 Drake                                          I'm Upset   \n",
       "492                Avicii                 Without You (feat. Sandro Cavazza)   \n",
       "2156            DJ Khaled                              POPSTAR (feat. Drake)   \n",
       "1048           Red Velvet                               RBB (Really Bad Boy)   \n",
       "2151           Rich Brian                                  Love In My Pocket   \n",
       "664   Panic! At The Disco                                         High Hopes   \n",
       "1638           Kanye West                                    Use This Gospel   \n",
       "1795        Justin Bieber                                             Get Me   \n",
       "1168                 Russ                                   Missin You Crazy   \n",
       "1326                  BTS                        Boy With Luv (feat. Halsey)   \n",
       "167              Maroon 5                      She Will Be Loved - Radio Mix   \n",
       "1701       Camila Cabello                                       Living Proof   \n",
       "1982       Rachel Platten                                         Fight Song   \n",
       "251        Camila Cabello                                  Never Be the Same   \n",
       "256        Camila Cabello                                         Inside Out   \n",
       "548          Selena Gomez  Back To You - From 13 Reasons Why – Season 2 S...   \n",
       "518           Post Malone                    Spoil My Night (feat. Swae Lee)   \n",
       "847          Kina Grannis                         Can’t Help Falling in Love   \n",
       "1665       Camila Cabello                                       Living Proof   \n",
       "1462       Ellie Goulding                          Hate Me (with Juice WRLD)   \n",
       "1846                  BTS                                            Friends   \n",
       "1449         Kina Grannis                         Can't Help Falling In Love   \n",
       "\n",
       "     predicted_genre  predicted_genre_prob  \n",
       "141             jazz              1.000000  \n",
       "1055            jazz              1.000000  \n",
       "314        classical              1.000000  \n",
       "1425            jazz              1.000000  \n",
       "674              rap              1.000000  \n",
       "1165      electronic              1.000000  \n",
       "800             jazz              1.000000  \n",
       "730             jazz              1.000000  \n",
       "960             rock              1.000000  \n",
       "865              rap              1.000000  \n",
       "1779            rock              1.000000  \n",
       "2158             rap              1.000000  \n",
       "1043      electronic              1.000000  \n",
       "2119       classical              1.000000  \n",
       "1150            rock              1.000000  \n",
       "1646            rock              1.000000  \n",
       "981             rock              1.000000  \n",
       "1145       classical              1.000000  \n",
       "629              rap              1.000000  \n",
       "492       electronic              1.000000  \n",
       "2156             rap              1.000000  \n",
       "1048      electronic              1.000000  \n",
       "2151             rnb              1.000000  \n",
       "664          country              1.000000  \n",
       "1638             pop              0.833333  \n",
       "1795             rnb              0.833333  \n",
       "1168      electronic              0.833333  \n",
       "1326             pop              0.833333  \n",
       "167          country              0.833333  \n",
       "1701             rnb              0.833333  \n",
       "1982             pop              0.833333  \n",
       "251              pop              0.833333  \n",
       "256              rnb              0.833333  \n",
       "548          country              0.833333  \n",
       "518              pop              0.833333  \n",
       "847        classical              0.833333  \n",
       "1665             rnb              0.833333  \n",
       "1462         country              0.833333  \n",
       "1846         country              0.833333  \n",
       "1449       classical              0.833333  "
      ]
     },
     "execution_count": 30,
     "metadata": {},
     "output_type": "execute_result"
    }
   ],
   "source": [
    "chart_tracks_df.groupby('predicted_genre_id').head()[['artist_name','track_name','predicted_genre','predicted_genre_prob']]"
   ]
  },
  {
   "cell_type": "markdown",
   "metadata": {},
   "source": [
    "View histogram of predicted genre probabilities"
   ]
  },
  {
   "cell_type": "code",
   "execution_count": 31,
   "metadata": {
    "ExecuteTime": {
     "end_time": "2021-01-21T15:13:49.620237Z",
     "start_time": "2021-01-21T15:13:49.404373Z"
    }
   },
   "outputs": [
    {
     "data": {
      "text/plain": [
       "<matplotlib.axes._subplots.AxesSubplot at 0x7f6846d688e0>"
      ]
     },
     "execution_count": 31,
     "metadata": {},
     "output_type": "execute_result"
    },
    {
     "data": {
      "image/png": "[encoded data removed]",
      "text/plain": [
       "<Figure size 432x288 with 1 Axes>"
      ]
     },
     "metadata": {
      "needs_background": "light"
     },
     "output_type": "display_data"
    }
   ],
   "source": [
    "chart_tracks_df['predicted_genre_prob'].hist()"
   ]
  },
  {
   "cell_type": "markdown",
   "metadata": {
    "ExecuteTime": {
     "end_time": "2020-10-12T17:44:50.844307Z",
     "start_time": "2020-10-12T17:44:50.836325Z"
    }
   },
   "source": [
    "Check out tally of predicted genres"
   ]
  },
  {
   "cell_type": "code",
   "execution_count": 32,
   "metadata": {
    "ExecuteTime": {
     "end_time": "2021-01-21T15:13:49.631189Z",
     "start_time": "2021-01-21T15:13:49.623019Z"
    }
   },
   "outputs": [
    {
     "data": {
      "text/plain": [
       "rock          435\n",
       "jazz          420\n",
       "pop           401\n",
       "country       357\n",
       "rnb           335\n",
       "electronic    238\n",
       "rap            75\n",
       "classical      31\n",
       "Name: predicted_genre, dtype: int64"
      ]
     },
     "execution_count": 32,
     "metadata": {},
     "output_type": "execute_result"
    }
   ],
   "source": [
    "chart_tracks_df['predicted_genre'].value_counts()"
   ]
  },
  {
   "cell_type": "markdown",
   "metadata": {},
   "source": [
    ">Q **Spot Check**: Check out a song you're familiar with and see if the predicted genres and probabilities makes sense"
   ]
  },
  {
   "cell_type": "code",
   "execution_count": 33,
   "metadata": {
    "ExecuteTime": {
     "end_time": "2021-01-21T15:13:49.666835Z",
     "start_time": "2021-01-21T15:13:49.635007Z"
    }
   },
   "outputs": [
    {
     "data": {
      "text/html": [
       "<div>\n",
       "<style scoped>\n",
       "    .dataframe tbody tr th:only-of-type {\n",
       "        vertical-align: middle;\n",
       "    }\n",
       "\n",
       "    .dataframe tbody tr th {\n",
       "        vertical-align: top;\n",
       "    }\n",
       "\n",
       "    .dataframe thead th {\n",
       "        text-align: right;\n",
       "    }\n",
       "</style>\n",
       "<table border=\"1\" class=\"dataframe\">\n",
       "  <thead>\n",
       "    <tr style=\"text-align: right;\">\n",
       "      <th></th>\n",
       "      <th>track_id</th>\n",
       "      <th>track_name</th>\n",
       "      <th>artist_id</th>\n",
       "      <th>artist_name</th>\n",
       "      <th>album_id</th>\n",
       "      <th>duration</th>\n",
       "      <th>release_date</th>\n",
       "      <th>popularity</th>\n",
       "      <th>danceability</th>\n",
       "      <th>energy</th>\n",
       "      <th>...</th>\n",
       "      <th>predicted_genre</th>\n",
       "      <th>predicted_genre_prob</th>\n",
       "      <th>predicted_classical_prob</th>\n",
       "      <th>predicted_country_prob</th>\n",
       "      <th>predicted_electronic_prob</th>\n",
       "      <th>predicted_jazz_prob</th>\n",
       "      <th>predicted_pop_prob</th>\n",
       "      <th>predicted_rap_prob</th>\n",
       "      <th>predicted_rnb_prob</th>\n",
       "      <th>predicted_rock_prob</th>\n",
       "    </tr>\n",
       "  </thead>\n",
       "  <tbody>\n",
       "    <tr>\n",
       "      <th>2071</th>\n",
       "      <td>1IX47gefluXmKX4PrTBCRM</td>\n",
       "      <td>What is Love</td>\n",
       "      <td>7n2Ycct7Beij7Dj7meI4X0</td>\n",
       "      <td>TWICE</td>\n",
       "      <td>35LVzMbjGUCfYZYEP6YWyr</td>\n",
       "      <td>208240</td>\n",
       "      <td>2018-07-09</td>\n",
       "      <td>73</td>\n",
       "      <td>0.574</td>\n",
       "      <td>0.909</td>\n",
       "      <td>...</td>\n",
       "      <td>country</td>\n",
       "      <td>0.5</td>\n",
       "      <td>0.0</td>\n",
       "      <td>0.5</td>\n",
       "      <td>0.166667</td>\n",
       "      <td>0.0</td>\n",
       "      <td>0.166667</td>\n",
       "      <td>0.0</td>\n",
       "      <td>0.166667</td>\n",
       "      <td>0.0</td>\n",
       "    </tr>\n",
       "  </tbody>\n",
       "</table>\n",
       "<p>1 rows × 30 columns</p>\n",
       "</div>"
      ],
      "text/plain": [
       "                    track_id    track_name               artist_id  \\\n",
       "2071  1IX47gefluXmKX4PrTBCRM  What is Love  7n2Ycct7Beij7Dj7meI4X0   \n",
       "\n",
       "     artist_name                album_id  duration release_date  popularity  \\\n",
       "2071       TWICE  35LVzMbjGUCfYZYEP6YWyr    208240   2018-07-09          73   \n",
       "\n",
       "      danceability  energy  ...  predicted_genre  predicted_genre_prob  \\\n",
       "2071         0.574   0.909  ...          country                   0.5   \n",
       "\n",
       "      predicted_classical_prob  predicted_country_prob  \\\n",
       "2071                       0.0                     0.5   \n",
       "\n",
       "      predicted_electronic_prob  predicted_jazz_prob  predicted_pop_prob  \\\n",
       "2071                   0.166667                  0.0            0.166667   \n",
       "\n",
       "      predicted_rap_prob  predicted_rnb_prob  predicted_rock_prob  \n",
       "2071                 0.0            0.166667                  0.0  \n",
       "\n",
       "[1 rows x 30 columns]"
      ]
     },
     "execution_count": 33,
     "metadata": {},
     "output_type": "execute_result"
    }
   ],
   "source": [
    "chart_tracks_df[chart_tracks_df['track_name']=='What is Love']"
   ]
  },
  {
   "cell_type": "code",
   "execution_count": 34,
   "metadata": {
    "ExecuteTime": {
     "end_time": "2021-01-21T15:13:49.757245Z",
     "start_time": "2021-01-21T15:13:49.669794Z"
    }
   },
   "outputs": [],
   "source": [
    "#save data\n",
    "chart_tracks_df.to_csv(\"data/spotify_daily_charts_tracks_predicted_genres.csv\", index=False, encoding='utf-8')"
   ]
  },
  {
   "cell_type": "markdown",
   "metadata": {},
   "source": [
    "## Caveats\n",
    "1. Using playlist names as genre tags heavily rely on *user opinion* and not *extracted music features* (compare this from the methods used in the [GTZAN genre collection dataset](https://data-flair.training/blogs/python-project-music-genre-classification/)\n",
    "2. Playlists with dual genre names exists, and appear quite often in the dataset (e.g. Electronic Pop, Classical Rock)\n",
    "3. Although a dominant genre could be readily observed, recent music tend to incorporate many genres at a time and thus create less distinction when the model looks at the audio features.\n",
    "\n",
    ">Q: What other caveats could you deduce from the steps done above?\n"
   ]
  },
  {
   "cell_type": "markdown",
   "metadata": {},
   "source": [
    "## Model Improvement\n",
    "To enhance the model accuracy, try to do the following:\n",
    "1. Pick \"purer\" top-followed playlists for the training data. A quick way to do this is to pick playlists that contain pre 2000's music as majority as these are less hybridized than more recent songs.\n",
    "2. Try fewer but broader genres as categories (4-5 genres)\n",
    "3. Remove outlier songs! These are the songs that dont fit its playlist's description. A bit subjective (and tedious!).\n",
    "4. Limit the features used as predictors (could be inferred from the list of genres you're considering)\n"
   ]
  },
  {
   "cell_type": "markdown",
   "metadata": {},
   "source": [
    "## Day Deliverable\n",
    "*A. For your individual curiosities*\n",
    "1. Choose your own set of genres to be used as prediction values of the KNN model. You may select among the ones listed above or a completely new one (but you must already have the scraped playlist and tracks data for this new genre) \n",
    "\n",
    "2. Choose the features you want to use for the classification. Start by using all and then narrow down by removing one feature at a time and checking if the accuracy increases.\n",
    "\n",
    "3. Check if the model works by using it to predict genres of the spotify_daily_charts_tracks dataset. Do some spot checks and view the songs classified with the highest probabilities per genre\n",
    "\n",
    "\n",
    "*B. For your sprint project*\n",
    "4. Extract a tracks dataset that is relevant to the client you are targeting. \n",
    "   For example:\n",
    "   \n",
    "    - A client artist's full discography\n",
    "    \n",
    "    - Tracks from a popular playlist in spotify that your client artist appears in\n",
    "    \n",
    "    - Discographies of prospect artists to collaborate with \n",
    "    \n",
    "    - Popular tracks of the genre that your client artist is targeting to enter\n",
    "    \n",
    "    \n",
    "5. Using the model you tuned in (A), predict the genres of the tracks in (B.4). \n",
    "\n",
    "6. Do some spot checks and view the songs classified with the highest probabilities per genre. \n",
    "   What does the predicted classifications reveal about your tracks dataset?\n",
    "   \n",
    "\n"
   ]
  },
  {
   "cell_type": "code",
   "execution_count": null,
   "metadata": {},
   "outputs": [],
   "source": []
  }
 ],
 "metadata": {
  "kernelspec": {
   "display_name": "Python 3",
   "language": "python",
   "name": "python3"
  },
  "language_info": {
   "codemirror_mode": {
    "name": "ipython",
    "version": 3
   },
   "file_extension": ".py",
   "mimetype": "text/x-python",
   "name": "python",
   "nbconvert_exporter": "python",
   "pygments_lexer": "ipython3",
   "version": "3.8.5"
  }
 },
 "nbformat": 4,
 "nbformat_minor": 2
}
