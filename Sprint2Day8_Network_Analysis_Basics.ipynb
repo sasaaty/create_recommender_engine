{
 "cells": [
  {
   "cell_type": "markdown",
   "metadata": {},
   "source": [
    "# Network theory\n",
    "Network theory is the study of *graphs* as a representation of relations between discrete objects"
   ]
  },
  {
   "cell_type": "code",
   "execution_count": null,
   "metadata": {
    "ExecuteTime": {
     "end_time": "2021-01-19T16:25:27.742077Z",
     "start_time": "2021-01-19T16:25:27.736998Z"
    }
   },
   "outputs": [],
   "source": [
    "import networkx as nx\n",
    "%matplotlib inline"
   ]
  },
  {
   "cell_type": "markdown",
   "metadata": {},
   "source": [
    "#### Represent friendship network data"
   ]
  },
  {
   "cell_type": "code",
   "execution_count": null,
   "metadata": {
    "ExecuteTime": {
     "end_time": "2021-01-19T16:25:27.753598Z",
     "start_time": "2021-01-19T16:25:27.750280Z"
    }
   },
   "outputs": [],
   "source": [
    "# Declare list of names of friends\n",
    "friends =  [\"Al\",\"Benny\",\"Cath\",\"Diane\",\"Ned\",\"Maria\"]"
   ]
  },
  {
   "cell_type": "code",
   "execution_count": null,
   "metadata": {
    "ExecuteTime": {
     "end_time": "2021-01-27T15:40:22.057254Z",
     "start_time": "2021-01-27T15:40:22.053907Z"
    }
   },
   "outputs": [],
   "source": [
    "# Declare list of tuples of friend connections\n",
    "\n",
    "friends_connections = [(\"Benny\", \"Maria\"),(\"Benny\", \"Diane\"), (\"Diane\", \"Maria\"), # Maria Diane and Benny are quite close to each other\n",
    "(\"Cath\",\"Benny\"), (\"Cath\", \"Ned\"), (\"Cath\",\"Al\")] #Cath is close to Benny, Ned and Al but I dont see any 2 of those 3 hanging out."
   ]
  },
  {
   "cell_type": "markdown",
   "metadata": {},
   "source": [
    "#### Load data in a graph"
   ]
  },
  {
   "cell_type": "code",
   "execution_count": null,
   "metadata": {
    "ExecuteTime": {
     "end_time": "2021-01-19T16:25:27.769376Z",
     "start_time": "2021-01-19T16:25:27.765471Z"
    }
   },
   "outputs": [],
   "source": [
    "#initialize graph\n",
    "G = nx.Graph()"
   ]
  },
  {
   "cell_type": "code",
   "execution_count": null,
   "metadata": {
    "ExecuteTime": {
     "end_time": "2021-01-19T16:25:27.777019Z",
     "start_time": "2021-01-19T16:25:27.772684Z"
    }
   },
   "outputs": [],
   "source": [
    "#add friend names list as graph nodes\n",
    "G.add_nodes_from(friends)"
   ]
  },
  {
   "cell_type": "code",
   "execution_count": null,
   "metadata": {
    "ExecuteTime": {
     "end_time": "2021-01-19T16:26:07.854599Z",
     "start_time": "2021-01-19T16:26:07.851326Z"
    }
   },
   "outputs": [],
   "source": [
    "#add friend connections as graph edges\n",
    "G.add_edges_from(friends_connections)"
   ]
  },
  {
   "cell_type": "code",
   "execution_count": null,
   "metadata": {
    "ExecuteTime": {
     "end_time": "2021-01-19T16:26:08.357460Z",
     "start_time": "2021-01-19T16:26:08.119958Z"
    }
   },
   "outputs": [],
   "source": [
    "nx.draw(G, with_labels=True, node_size=2000, font_color='w' )\n"
   ]
  },
  {
   "cell_type": "markdown",
   "metadata": {},
   "source": [
    "#### Get shortest path between two nodes\n",
    "A path is made up of a series of edges that connects any 2 nodes of interest. \n",
    "\n",
    "A graph where all nodes can be reached from all other nodes is called a  *fully connected graph*\n",
    "\n",
    "A shortest path exists for any 2 nodes in a fully connected graph "
   ]
  },
  {
   "cell_type": "code",
   "execution_count": null,
   "metadata": {
    "ExecuteTime": {
     "end_time": "2021-01-20T15:26:34.207292Z",
     "start_time": "2021-01-20T15:26:34.198262Z"
    }
   },
   "outputs": [],
   "source": [
    "nx.shortest_path(G, source='Maria', target='Al')"
   ]
  },
  {
   "cell_type": "code",
   "execution_count": null,
   "metadata": {
    "ExecuteTime": {
     "end_time": "2021-01-20T15:31:52.259461Z",
     "start_time": "2021-01-20T15:31:52.253264Z"
    }
   },
   "outputs": [],
   "source": [
    "nx.shortest_path_length(G, source='Maria', target='Al')"
   ]
  },
  {
   "cell_type": "markdown",
   "metadata": {},
   "source": [
    "#### Compute network measures"
   ]
  },
  {
   "cell_type": "markdown",
   "metadata": {},
   "source": [
    "The degree of a node is the number of edges connected to it."
   ]
  },
  {
   "cell_type": "code",
   "execution_count": null,
   "metadata": {
    "ExecuteTime": {
     "end_time": "2021-01-19T16:26:10.613635Z",
     "start_time": "2021-01-19T16:26:10.607128Z"
    }
   },
   "outputs": [],
   "source": [
    "G.degree()"
   ]
  },
  {
   "cell_type": "markdown",
   "metadata": {},
   "source": [
    "The betweenness centrality value of a node is the fraction of instances when it is passed on for all possible shortest paths between any 2 nodes"
   ]
  },
  {
   "cell_type": "code",
   "execution_count": null,
   "metadata": {
    "ExecuteTime": {
     "end_time": "2021-01-19T16:26:11.511444Z",
     "start_time": "2021-01-19T16:26:11.505519Z"
    }
   },
   "outputs": [],
   "source": [
    "nx.betweenness_centrality(G)"
   ]
  },
  {
   "cell_type": "code",
   "execution_count": null,
   "metadata": {},
   "outputs": [],
   "source": []
  },
  {
   "cell_type": "code",
   "execution_count": null,
   "metadata": {},
   "outputs": [],
   "source": []
  }
 ],
 "metadata": {
  "kernelspec": {
   "display_name": "Python 3",
   "language": "python",
   "name": "python3"
  },
  "language_info": {
   "codemirror_mode": {
    "name": "ipython",
    "version": 3
   },
   "file_extension": ".py",
   "mimetype": "text/x-python",
   "name": "python",
   "nbconvert_exporter": "python",
   "pygments_lexer": "ipython3",
   "version": "3.8.5"
  }
 },
 "nbformat": 4,
 "nbformat_minor": 4
}
