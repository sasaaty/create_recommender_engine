{
 "cells": [
  {
   "cell_type": "markdown",
   "metadata": {},
   "source": [
    "# Network theory"
   ]
  },
  {
   "cell_type": "code",
   "execution_count": 2,
   "metadata": {
    "ExecuteTime": {
     "end_time": "2021-01-29T16:15:04.898622Z",
     "start_time": "2021-01-29T16:15:03.035817Z"
    }
   },
   "outputs": [],
   "source": [
    "import pandas as pd\n",
    "import numpy as np\n",
    "\n",
    "import seaborn as sns\n",
    "import matplotlib.pyplot as plt\n",
    "\n",
    "from sklearn.preprocessing import MinMaxScaler\n",
    "\n",
    "import networkx as nx\n",
    "\n",
    "%matplotlib inline"
   ]
  },
  {
   "cell_type": "markdown",
   "metadata": {},
   "source": [
    "### Load Data"
   ]
  },
  {
   "cell_type": "code",
   "execution_count": 3,
   "metadata": {
    "ExecuteTime": {
     "end_time": "2021-01-29T16:15:04.993704Z",
     "start_time": "2021-01-29T16:15:04.901110Z"
    }
   },
   "outputs": [
    {
     "data": {
      "text/html": [
       "<div>\n",
       "<style scoped>\n",
       "    .dataframe tbody tr th:only-of-type {\n",
       "        vertical-align: middle;\n",
       "    }\n",
       "\n",
       "    .dataframe tbody tr th {\n",
       "        vertical-align: top;\n",
       "    }\n",
       "\n",
       "    .dataframe thead th {\n",
       "        text-align: right;\n",
       "    }\n",
       "</style>\n",
       "<table border=\"1\" class=\"dataframe\">\n",
       "  <thead>\n",
       "    <tr style=\"text-align: right;\">\n",
       "      <th></th>\n",
       "      <th>track_id</th>\n",
       "      <th>track_name</th>\n",
       "      <th>artist_id</th>\n",
       "      <th>artist_name</th>\n",
       "      <th>album_id</th>\n",
       "      <th>duration</th>\n",
       "      <th>release_date</th>\n",
       "      <th>popularity</th>\n",
       "      <th>danceability</th>\n",
       "      <th>energy</th>\n",
       "      <th>...</th>\n",
       "      <th>predicted_genre</th>\n",
       "      <th>predicted_genre_prob</th>\n",
       "      <th>predicted_classical_prob</th>\n",
       "      <th>predicted_country_prob</th>\n",
       "      <th>predicted_electronic_prob</th>\n",
       "      <th>predicted_jazz_prob</th>\n",
       "      <th>predicted_pop_prob</th>\n",
       "      <th>predicted_rap_prob</th>\n",
       "      <th>predicted_rnb_prob</th>\n",
       "      <th>predicted_rock_prob</th>\n",
       "    </tr>\n",
       "  </thead>\n",
       "  <tbody>\n",
       "    <tr>\n",
       "      <th>0</th>\n",
       "      <td>4VuS959DSpr82t3qBqCrWG</td>\n",
       "      <td>Supermarket Flowers</td>\n",
       "      <td>6eUKZXaKkcviH0Ku9w2n3V</td>\n",
       "      <td>Ed Sheeran</td>\n",
       "      <td>3T4tUhGYeRNVUGevb0wThu</td>\n",
       "      <td>221106</td>\n",
       "      <td>2017-03-03</td>\n",
       "      <td>78</td>\n",
       "      <td>0.589</td>\n",
       "      <td>0.242</td>\n",
       "      <td>...</td>\n",
       "      <td>jazz</td>\n",
       "      <td>1.0</td>\n",
       "      <td>0.0</td>\n",
       "      <td>0.0</td>\n",
       "      <td>0.0</td>\n",
       "      <td>1.0</td>\n",
       "      <td>0.0</td>\n",
       "      <td>0.0</td>\n",
       "      <td>0.0</td>\n",
       "      <td>0.0</td>\n",
       "    </tr>\n",
       "    <tr>\n",
       "      <th>1</th>\n",
       "      <td>1Qi2wh8fFgDV7tl4Sj3f2K</td>\n",
       "      <td>Have Yourself A Merry Little Christmas</td>\n",
       "      <td>2wY79sveU1sp5g7SokKOiI</td>\n",
       "      <td>Sam Smith</td>\n",
       "      <td>3nCpXy6LlyXWuFR08tMycK</td>\n",
       "      <td>170964</td>\n",
       "      <td>2014-12-05</td>\n",
       "      <td>58</td>\n",
       "      <td>0.438</td>\n",
       "      <td>0.178</td>\n",
       "      <td>...</td>\n",
       "      <td>jazz</td>\n",
       "      <td>1.0</td>\n",
       "      <td>0.0</td>\n",
       "      <td>0.0</td>\n",
       "      <td>0.0</td>\n",
       "      <td>1.0</td>\n",
       "      <td>0.0</td>\n",
       "      <td>0.0</td>\n",
       "      <td>0.0</td>\n",
       "      <td>0.0</td>\n",
       "    </tr>\n",
       "    <tr>\n",
       "      <th>2</th>\n",
       "      <td>66y7x28jXOPrcmu3D5Zjh6</td>\n",
       "      <td>A Million Dreams (Reprise)</td>\n",
       "      <td>6Y20PijIkUoCtuvtkz37dO</td>\n",
       "      <td>Austyn Johnson</td>\n",
       "      <td>7ayBZIe1FHkNv0T5xFCX6F</td>\n",
       "      <td>60453</td>\n",
       "      <td>2017-12-08</td>\n",
       "      <td>67</td>\n",
       "      <td>0.253</td>\n",
       "      <td>0.139</td>\n",
       "      <td>...</td>\n",
       "      <td>classical</td>\n",
       "      <td>1.0</td>\n",
       "      <td>1.0</td>\n",
       "      <td>0.0</td>\n",
       "      <td>0.0</td>\n",
       "      <td>0.0</td>\n",
       "      <td>0.0</td>\n",
       "      <td>0.0</td>\n",
       "      <td>0.0</td>\n",
       "      <td>0.0</td>\n",
       "    </tr>\n",
       "    <tr>\n",
       "      <th>3</th>\n",
       "      <td>14BG5B1EJSCyNpZt096xXc</td>\n",
       "      <td>Patawad, Paalam</td>\n",
       "      <td>0rZRTXEmmPmx6gt92tBqIc</td>\n",
       "      <td>Moira Dela Torre</td>\n",
       "      <td>4Lavp71TTVIdkw8yNY8LhA</td>\n",
       "      <td>323140</td>\n",
       "      <td>2019-06-14</td>\n",
       "      <td>59</td>\n",
       "      <td>0.472</td>\n",
       "      <td>0.288</td>\n",
       "      <td>...</td>\n",
       "      <td>jazz</td>\n",
       "      <td>1.0</td>\n",
       "      <td>0.0</td>\n",
       "      <td>0.0</td>\n",
       "      <td>0.0</td>\n",
       "      <td>1.0</td>\n",
       "      <td>0.0</td>\n",
       "      <td>0.0</td>\n",
       "      <td>0.0</td>\n",
       "      <td>0.0</td>\n",
       "    </tr>\n",
       "    <tr>\n",
       "      <th>4</th>\n",
       "      <td>1iSZPndzmY6NvL1jAtIvY1</td>\n",
       "      <td>I'm Upset</td>\n",
       "      <td>3TVXtAsR1Inumwj472S9r4</td>\n",
       "      <td>Drake</td>\n",
       "      <td>2o9McLtDM7mbODV7yZF2mc</td>\n",
       "      <td>214466</td>\n",
       "      <td>2018-06-29</td>\n",
       "      <td>0</td>\n",
       "      <td>0.899</td>\n",
       "      <td>0.587</td>\n",
       "      <td>...</td>\n",
       "      <td>rap</td>\n",
       "      <td>1.0</td>\n",
       "      <td>0.0</td>\n",
       "      <td>0.0</td>\n",
       "      <td>0.0</td>\n",
       "      <td>0.0</td>\n",
       "      <td>0.0</td>\n",
       "      <td>1.0</td>\n",
       "      <td>0.0</td>\n",
       "      <td>0.0</td>\n",
       "    </tr>\n",
       "  </tbody>\n",
       "</table>\n",
       "<p>5 rows × 30 columns</p>\n",
       "</div>"
      ],
      "text/plain": [
       "                 track_id                              track_name  \\\n",
       "0  4VuS959DSpr82t3qBqCrWG                     Supermarket Flowers   \n",
       "1  1Qi2wh8fFgDV7tl4Sj3f2K  Have Yourself A Merry Little Christmas   \n",
       "2  66y7x28jXOPrcmu3D5Zjh6              A Million Dreams (Reprise)   \n",
       "3  14BG5B1EJSCyNpZt096xXc                         Patawad, Paalam   \n",
       "4  1iSZPndzmY6NvL1jAtIvY1                               I'm Upset   \n",
       "\n",
       "                artist_id       artist_name                album_id  duration  \\\n",
       "0  6eUKZXaKkcviH0Ku9w2n3V        Ed Sheeran  3T4tUhGYeRNVUGevb0wThu    221106   \n",
       "1  2wY79sveU1sp5g7SokKOiI         Sam Smith  3nCpXy6LlyXWuFR08tMycK    170964   \n",
       "2  6Y20PijIkUoCtuvtkz37dO    Austyn Johnson  7ayBZIe1FHkNv0T5xFCX6F     60453   \n",
       "3  0rZRTXEmmPmx6gt92tBqIc  Moira Dela Torre  4Lavp71TTVIdkw8yNY8LhA    323140   \n",
       "4  3TVXtAsR1Inumwj472S9r4             Drake  2o9McLtDM7mbODV7yZF2mc    214466   \n",
       "\n",
       "  release_date  popularity  danceability  energy  ...  predicted_genre  \\\n",
       "0   2017-03-03          78         0.589   0.242  ...             jazz   \n",
       "1   2014-12-05          58         0.438   0.178  ...             jazz   \n",
       "2   2017-12-08          67         0.253   0.139  ...        classical   \n",
       "3   2019-06-14          59         0.472   0.288  ...             jazz   \n",
       "4   2018-06-29           0         0.899   0.587  ...              rap   \n",
       "\n",
       "   predicted_genre_prob  predicted_classical_prob  predicted_country_prob  \\\n",
       "0                   1.0                       0.0                     0.0   \n",
       "1                   1.0                       0.0                     0.0   \n",
       "2                   1.0                       1.0                     0.0   \n",
       "3                   1.0                       0.0                     0.0   \n",
       "4                   1.0                       0.0                     0.0   \n",
       "\n",
       "   predicted_electronic_prob  predicted_jazz_prob  predicted_pop_prob  \\\n",
       "0                        0.0                  1.0                 0.0   \n",
       "1                        0.0                  1.0                 0.0   \n",
       "2                        0.0                  0.0                 0.0   \n",
       "3                        0.0                  1.0                 0.0   \n",
       "4                        0.0                  0.0                 0.0   \n",
       "\n",
       "   predicted_rap_prob  predicted_rnb_prob  predicted_rock_prob  \n",
       "0                 0.0                 0.0                  0.0  \n",
       "1                 0.0                 0.0                  0.0  \n",
       "2                 0.0                 0.0                  0.0  \n",
       "3                 0.0                 0.0                  0.0  \n",
       "4                 1.0                 0.0                  0.0  \n",
       "\n",
       "[5 rows x 30 columns]"
      ]
     },
     "execution_count": 3,
     "metadata": {},
     "output_type": "execute_result"
    }
   ],
   "source": [
    "#load data\n",
    "chart_tracks_df = pd.read_csv(\"data/spotify_daily_charts_tracks_predicted_genres.csv\")\n",
    "\n",
    "#normalize loudness and tempo\n",
    "scaler = MinMaxScaler()\n",
    "chart_tracks_df['loudness'] = scaler.fit_transform(chart_tracks_df[['loudness']])\n",
    "chart_tracks_df['tempo'] =  scaler.fit_transform(chart_tracks_df[['tempo']])\n",
    "chart_tracks_df.head()\n"
   ]
  },
  {
   "cell_type": "code",
   "execution_count": 4,
   "metadata": {
    "ExecuteTime": {
     "end_time": "2021-01-29T16:15:05.003857Z",
     "start_time": "2021-01-29T16:15:04.997731Z"
    }
   },
   "outputs": [
    {
     "data": {
      "text/plain": [
       "(2292, 30)"
      ]
     },
     "execution_count": 4,
     "metadata": {},
     "output_type": "execute_result"
    }
   ],
   "source": [
    "chart_tracks_df.shape"
   ]
  },
  {
   "cell_type": "markdown",
   "metadata": {},
   "source": [
    "#### Limit  pool to songs that have reached top 50 from 2019 to present"
   ]
  },
  {
   "cell_type": "code",
   "execution_count": 5,
   "metadata": {
    "ExecuteTime": {
     "end_time": "2021-01-29T16:15:05.374248Z",
     "start_time": "2021-01-29T16:15:05.008810Z"
    }
   },
   "outputs": [
    {
     "data": {
      "text/html": [
       "<div>\n",
       "<style scoped>\n",
       "    .dataframe tbody tr th:only-of-type {\n",
       "        vertical-align: middle;\n",
       "    }\n",
       "\n",
       "    .dataframe tbody tr th {\n",
       "        vertical-align: top;\n",
       "    }\n",
       "\n",
       "    .dataframe thead th {\n",
       "        text-align: right;\n",
       "    }\n",
       "</style>\n",
       "<table border=\"1\" class=\"dataframe\">\n",
       "  <thead>\n",
       "    <tr style=\"text-align: right;\">\n",
       "      <th></th>\n",
       "      <th>position</th>\n",
       "      <th>track_id</th>\n",
       "      <th>track_name</th>\n",
       "      <th>artist</th>\n",
       "      <th>streams</th>\n",
       "    </tr>\n",
       "    <tr>\n",
       "      <th>date</th>\n",
       "      <th></th>\n",
       "      <th></th>\n",
       "      <th></th>\n",
       "      <th></th>\n",
       "      <th></th>\n",
       "    </tr>\n",
       "  </thead>\n",
       "  <tbody>\n",
       "    <tr>\n",
       "      <th>2018-01-01</th>\n",
       "      <td>1</td>\n",
       "      <td>0ofbQMrRDsUaVKq2mGLEAb</td>\n",
       "      <td>Havana</td>\n",
       "      <td>Camila Cabello</td>\n",
       "      <td>155633</td>\n",
       "    </tr>\n",
       "    <tr>\n",
       "      <th>2018-01-01</th>\n",
       "      <td>2</td>\n",
       "      <td>0tgVpDi06FyKpA1z0VMD4v</td>\n",
       "      <td>Perfect</td>\n",
       "      <td>Ed Sheeran</td>\n",
       "      <td>134756</td>\n",
       "    </tr>\n",
       "    <tr>\n",
       "      <th>2018-01-01</th>\n",
       "      <td>3</td>\n",
       "      <td>3hBBKuWJfxlIlnd9QFoC8k</td>\n",
       "      <td>What Lovers Do (feat. SZA)</td>\n",
       "      <td>Maroon 5</td>\n",
       "      <td>130898</td>\n",
       "    </tr>\n",
       "    <tr>\n",
       "      <th>2018-01-01</th>\n",
       "      <td>4</td>\n",
       "      <td>1mXVgsBdtIVeCLJnSnmtdV</td>\n",
       "      <td>Too Good At Goodbyes</td>\n",
       "      <td>Sam Smith</td>\n",
       "      <td>130798</td>\n",
       "    </tr>\n",
       "    <tr>\n",
       "      <th>2018-01-01</th>\n",
       "      <td>5</td>\n",
       "      <td>2ekn2ttSfGqwhhate0LSR0</td>\n",
       "      <td>New Rules</td>\n",
       "      <td>Dua Lipa</td>\n",
       "      <td>125472</td>\n",
       "    </tr>\n",
       "  </tbody>\n",
       "</table>\n",
       "</div>"
      ],
      "text/plain": [
       "            position                track_id                  track_name  \\\n",
       "date                                                                       \n",
       "2018-01-01         1  0ofbQMrRDsUaVKq2mGLEAb                      Havana   \n",
       "2018-01-01         2  0tgVpDi06FyKpA1z0VMD4v                     Perfect   \n",
       "2018-01-01         3  3hBBKuWJfxlIlnd9QFoC8k  What Lovers Do (feat. SZA)   \n",
       "2018-01-01         4  1mXVgsBdtIVeCLJnSnmtdV        Too Good At Goodbyes   \n",
       "2018-01-01         5  2ekn2ttSfGqwhhate0LSR0                   New Rules   \n",
       "\n",
       "                    artist  streams  \n",
       "date                                 \n",
       "2018-01-01  Camila Cabello   155633  \n",
       "2018-01-01      Ed Sheeran   134756  \n",
       "2018-01-01        Maroon 5   130898  \n",
       "2018-01-01       Sam Smith   130798  \n",
       "2018-01-01        Dua Lipa   125472  "
      ]
     },
     "execution_count": 5,
     "metadata": {},
     "output_type": "execute_result"
    }
   ],
   "source": [
    "charts_df = pd.read_csv(\"data/spotify_daily_charts.csv\")\n",
    "#transform date column into a datetime column\n",
    "charts_df = charts_df.set_index(pd.to_datetime(charts_df['date'])).drop('date',1)\n",
    "charts_df.head()"
   ]
  },
  {
   "cell_type": "code",
   "execution_count": 62,
   "metadata": {
    "ExecuteTime": {
     "end_time": "2021-01-29T17:22:28.558420Z",
     "start_time": "2021-01-29T17:22:28.236628Z"
    }
   },
   "outputs": [
    {
     "data": {
      "text/plain": [
       "458"
      ]
     },
     "execution_count": 62,
     "metadata": {},
     "output_type": "execute_result"
    }
   ],
   "source": [
    "tracks_in_top50 = charts_df[(charts_df['position']<=50)][\"2019-01-01\":]['track_id'].unique()\n",
    "track_names_dict = {t:chart_tracks_df[chart_tracks_df['track_id']==t]['track_name'].values[0]\n",
    "                        for t in tracks_in_top50}\n",
    "len(tracks_in_top50)"
   ]
  },
  {
   "cell_type": "markdown",
   "metadata": {},
   "source": [
    "### 3. Building a Recommendation Graph Structure: Audio Features"
   ]
  },
  {
   "cell_type": "code",
   "execution_count": 54,
   "metadata": {
    "ExecuteTime": {
     "end_time": "2021-01-29T17:17:50.200313Z",
     "start_time": "2021-01-29T17:17:50.196000Z"
    }
   },
   "outputs": [],
   "source": [
    "from sklearn.metrics.pairwise import cosine_similarity\n",
    "import itertools"
   ]
  },
  {
   "cell_type": "code",
   "execution_count": 60,
   "metadata": {
    "ExecuteTime": {
     "end_time": "2021-01-29T17:20:22.455793Z",
     "start_time": "2021-01-29T17:20:22.426764Z"
    }
   },
   "outputs": [
    {
     "data": {
      "text/plain": [
       "104653"
      ]
     },
     "execution_count": 60,
     "metadata": {},
     "output_type": "execute_result"
    }
   ],
   "source": [
    "feature_cols = ['danceability', 'energy', 'loudness', 'speechiness', 'acousticness',\\\n",
    "                'instrumentalness','liveness', 'valence', 'tempo']\n",
    "track_pairs = [pair for pair in itertools.combinations(tracks_in_top50,2)]\n",
    "len(track_pairs)"
   ]
  },
  {
   "cell_type": "code",
   "execution_count": 156,
   "metadata": {
    "ExecuteTime": {
     "end_time": "2021-01-30T01:47:30.881937Z",
     "start_time": "2021-01-30T01:47:30.878578Z"
    },
    "scrolled": true
   },
   "outputs": [],
   "source": [
    "#create edge list\n",
    "feature_cols = ['danceability', 'energy', 'loudness', 'speechiness', 'acousticness',\\\n",
    "                'instrumentalness','liveness', 'valence', 'tempo']\n",
    "\n",
    "#loop over all tracks\n",
    "distances=np.zeros(len(track_pairs))\n",
    "for n,tracks in enumerate(track_pairs):\n",
    "    if (n % 1000 == 0):\n",
    "        print( \"Computed pairwise distances for %d/%d track pairs...\" % (n+1,len(track_pairs)))\n",
    "\n",
    "    track1_measures = chart_tracks_df[chart_tracks_df['track_id']==tracks[0]]\\\n",
    "                                     [feature_cols].values.reshape(1, -1)\n",
    "    track2_measures = chart_tracks_df[chart_tracks_df['track_id']==tracks[1]]\\\n",
    "                                         [feature_cols].values.reshape(1, -1) \n",
    "    distances[n] = 1-cosine_similarity(track1_measures,track2_measures).flatten()[0]\n",
    "distances_df = pd.DataFrame({'track1':[t[0] for t in track_pairs],\\\n",
    "                             'track1_name':[track_names_dict[t[0]] for t in track_pairs],\\\n",
    "                            'track2':[t[1] for t in track_pairs],\\\n",
    "                            'track2_name':[track_names_dict[t[1]] for t in track_pairs],\\\n",
    "                            'distance': distances})\n",
    "distances_df"
   ]
  },
  {
   "cell_type": "code",
   "execution_count": 138,
   "metadata": {
    "ExecuteTime": {
     "end_time": "2021-01-29T18:11:44.165961Z",
     "start_time": "2021-01-29T18:11:43.638607Z"
    }
   },
   "outputs": [
    {
     "name": "stdout",
     "output_type": "stream",
     "text": [
      "0.018573232184581134\n"
     ]
    },
    {
     "data": {
      "image/png": "[encoded data removed]",
      "text/plain": [
       "<Figure size 432x288 with 1 Axes>"
      ]
     },
     "metadata": {
      "needs_background": "light"
     },
     "output_type": "display_data"
    }
   ],
   "source": [
    "sns.histplot(distances_df['distance'])\n",
    "plt.axvline(distances_df['distance'].quantile(0.1), color='r')\n",
    "print(distances_df['distance'].quantile(0.1))"
   ]
  },
  {
   "cell_type": "code",
   "execution_count": 139,
   "metadata": {
    "ExecuteTime": {
     "end_time": "2021-01-29T18:11:48.500935Z",
     "start_time": "2021-01-29T18:11:48.491480Z"
    }
   },
   "outputs": [
    {
     "name": "stdout",
     "output_type": "stream",
     "text": [
      "4908\n"
     ]
    }
   ],
   "source": [
    "# Set distance cutoff\n",
    "relevant_distances_df = distances_df[distances_df['distance']<=0.018]\n",
    "print(len(relevant_distances_df))"
   ]
  },
  {
   "cell_type": "code",
   "execution_count": 140,
   "metadata": {
    "ExecuteTime": {
     "end_time": "2021-01-29T18:11:49.140991Z",
     "start_time": "2021-01-29T18:11:49.133797Z"
    }
   },
   "outputs": [
    {
     "data": {
      "text/plain": [
       "427"
      ]
     },
     "execution_count": 140,
     "metadata": {},
     "output_type": "execute_result"
    }
   ],
   "source": [
    "#number of \n",
    "len(pd.concat([relevant_distances_df['track1'],relevant_distances_df['track2']]).unique())"
   ]
  },
  {
   "cell_type": "markdown",
   "metadata": {},
   "source": [
    "#### Load Data in a Graph"
   ]
  },
  {
   "cell_type": "code",
   "execution_count": 141,
   "metadata": {
    "ExecuteTime": {
     "end_time": "2021-01-29T18:11:51.749577Z",
     "start_time": "2021-01-29T18:11:51.724933Z"
    }
   },
   "outputs": [
    {
     "data": {
      "text/plain": [
       "<networkx.classes.graph.Graph at 0x7f25a32bd940>"
      ]
     },
     "execution_count": 141,
     "metadata": {},
     "output_type": "execute_result"
    }
   ],
   "source": [
    "G = nx.from_pandas_edgelist(relevant_distances_df,\\\n",
    "                           source='track1_name', target='track2_name',\\\n",
    "                           edge_attr='distance')\n",
    "G"
   ]
  },
  {
   "cell_type": "code",
   "execution_count": 142,
   "metadata": {
    "ExecuteTime": {
     "end_time": "2021-01-29T18:11:52.399107Z",
     "start_time": "2021-01-29T18:11:52.178011Z"
    }
   },
   "outputs": [
    {
     "data": {
      "text/plain": [
       "<matplotlib.axes._subplots.AxesSubplot at 0x7f25a356e790>"
      ]
     },
     "execution_count": 142,
     "metadata": {},
     "output_type": "execute_result"
    },
    {
     "data": {
      "image/png": "[encoded data removed]",
      "text/plain": [
       "<Figure size 432x288 with 1 Axes>"
      ]
     },
     "metadata": {
      "needs_background": "light"
     },
     "output_type": "display_data"
    }
   ],
   "source": [
    "degrees = [G.degree(n) for n in G.nodes()]\n",
    "sns.histplot(degrees)"
   ]
  },
  {
   "cell_type": "code",
   "execution_count": 153,
   "metadata": {
    "ExecuteTime": {
     "end_time": "2021-01-30T01:44:26.058471Z",
     "start_time": "2021-01-30T01:44:25.524654Z"
    }
   },
   "outputs": [
    {
     "data": {
      "image/png": "[encoded data removed]",
      "text/plain": [
       "<Figure size 432x288 with 1 Axes>"
      ]
     },
     "metadata": {},
     "output_type": "display_data"
    }
   ],
   "source": [
    "nx.draw_spring(G,node_size=10, font_color='k' )"
   ]
  },
  {
   "cell_type": "code",
   "execution_count": 143,
   "metadata": {
    "ExecuteTime": {
     "end_time": "2021-01-29T18:11:53.179263Z",
     "start_time": "2021-01-29T18:11:52.558574Z"
    }
   },
   "outputs": [
    {
     "data": {
      "text/plain": [
       "[('Midnight Sky', 0.12292326740341247),\n",
       " ('Kahit Ayaw Mo Na', 0.0660484519859361),\n",
       " ('thank u, next', 0.061654841891337436),\n",
       " ('Wrong', 0.05202463488844577),\n",
       " ('Circles', 0.045658757363878914),\n",
       " ('Speechless (Full)', 0.04099633824880603),\n",
       " ('Kathang Isip', 0.04091728371663486),\n",
       " ('I Choose - From The Netflix Original Film The Willoughbys',\n",
       "  0.03924346808474942),\n",
       " ('Dance Monkey', 0.03675147668436197),\n",
       " ('Balang Araw', 0.031130177079953563),\n",
       " ('Psycho', 0.030021717099012024),\n",
       " ('Akala', 0.028993155164855566),\n",
       " ('OXYGEN', 0.028559599899197992),\n",
       " ('Lose', 0.028536421314747307),\n",
       " ('Supalonely', 0.02698216934651098),\n",
       " ('Dalaga', 0.026906598479753095),\n",
       " (\"always, i'll care\", 0.02678117986305481),\n",
       " ('Trampoline (with ZAYN)', 0.026402660018830907),\n",
       " ('mirrorball', 0.02550812725836366),\n",
       " ('Stay Gold', 0.02538754865613892),\n",
       " ('Zebbiana', 0.024738457258910697),\n",
       " ('peace', 0.023854286604354367),\n",
       " ('Sad Forever', 0.023821749697366206),\n",
       " ('Forever (feat. Post Malone & Clever)', 0.02321690352905507),\n",
       " (\"I Don't Wanna Love You Anymore\", 0.022304209346116682),\n",
       " ('Make It With You', 0.02161074357643988),\n",
       " ('Break My Heart', 0.021134713879511904),\n",
       " ('All Night (BTS World Original Soundtrack) [Pt. 3]', 0.020702920329002148),\n",
       " ('Thru These Tears', 0.020209856798502658),\n",
       " ('Girls Like You (feat. Cardi B)', 0.020030340151475395),\n",
       " ('betty', 0.01943136674036399),\n",
       " ('Your eyes tell', 0.019351180458975156),\n",
       " ('Masyado Pang Maaga', 0.019104325714284144),\n",
       " ('THE SCOTTS', 0.018334349286449825),\n",
       " ('Lights Up', 0.018040032171149724),\n",
       " ('epiphany', 0.018016561918470654),\n",
       " ('Afterglow', 0.017998542069530565),\n",
       " ('Free Woman', 0.01792021274218964),\n",
       " ('Daechwita', 0.017896739882799596),\n",
       " ('Kapit - From \"Alone / Together\"', 0.017895368143638662),\n",
       " ('Dancing With A Stranger (with Normani)', 0.01778075518597435),\n",
       " ('Changes', 0.017125403810279168),\n",
       " ('Ruin My Life', 0.016796581811331167),\n",
       " ('Catriona', 0.016573581036389614),\n",
       " ('Without Me', 0.01582674961609282),\n",
       " ('Please Me', 0.01567689144309687),\n",
       " ('Paalam', 0.015291968623108606),\n",
       " ('Nang Iwan', 0.015287267106088432),\n",
       " ('Death By A Thousand Cuts', 0.015256369532269947),\n",
       " (\"Don't Know What To Do\", 0.01510209976419108),\n",
       " ('Be Alright', 0.014952579313814232),\n",
       " ('Kick It', 0.014946660679161877),\n",
       " ('Before You Go', 0.014650064675229857),\n",
       " ('I.F.L.Y.', 0.014512414241447925),\n",
       " ('hoax', 0.014233589167184719),\n",
       " ('Paradise', 0.013694801743287115),\n",
       " ('Patawad, Paalam', 0.013631240677718306),\n",
       " ('Isa Pang Araw', 0.013578878576305489),\n",
       " ('Dahan', 0.013407547709097774),\n",
       " ('Fall', 0.013219145036388292),\n",
       " ('Binibini', 0.01308490335798125),\n",
       " ('eight(Prod.&Feat. SUGA of BTS)', 0.013081392747903618),\n",
       " ('Black Swan', 0.012892732223247197),\n",
       " ('This Feeling', 0.012612399695767119),\n",
       " ('The Middle', 0.012588453021810487),\n",
       " ('Sana', 0.012418460860292522),\n",
       " ('How You Like That', 0.012374516411701415),\n",
       " ('Kiss and Make Up', 0.012189002162393877),\n",
       " ('DDU-DU DDU-DU', 0.012046423418763318),\n",
       " ('Tala', 0.011523043776461262),\n",
       " ('Best Part (feat. Daniel Caesar)', 0.01148570410189345),\n",
       " ('the last great american dynasty', 0.011485033717712015),\n",
       " ('Rare', 0.011467409727871511),\n",
       " ('A Perfect Christmas - Recorded at OnQ Studios, Manila',\n",
       "  0.011462946210340823),\n",
       " ('Sanctuary', 0.011392539211530309),\n",
       " ('Level of Concern', 0.011245862779122175),\n",
       " ('okay', 0.010875526412374359),\n",
       " ('Not Shy', 0.01078550623168806),\n",
       " ('Dream Glow (BTS World Original Soundtrack) - Pt. 1', 0.010770788591007942),\n",
       " ('Kahit Di Mo Alam', 0.010561820331711007),\n",
       " ('good guys', 0.010132243651771865),\n",
       " ('illicit affairs', 0.010002422030941401),\n",
       " ('Missin You Crazy', 0.009958308992043583),\n",
       " ('Happier', 0.009834722742820948),\n",
       " ('Know Your Worth', 0.009435889875868807),\n",
       " ('The Man', 0.009431694862225039),\n",
       " ('Binalewala - Original Version', 0.009422478680167386),\n",
       " ('SOLO', 0.009344340900782016),\n",
       " ('Sa Ngalan Ng Pag-Ibig', 0.009177602579544633),\n",
       " ('How Do You Sleep?', 0.00914835844824999),\n",
       " ('Never Really Over', 0.008956813016979339),\n",
       " ('Mariposa', 0.008925074463611482),\n",
       " ('Into the Unknown', 0.008743335033283305),\n",
       " ('Yummy', 0.008714128921514587),\n",
       " ('Say So', 0.008631001989454273),\n",
       " (\"It's You\", 0.00860620875099857),\n",
       " ('if this is the last time', 0.008594349267299331),\n",
       " ('bloodline', 0.008460323177870658),\n",
       " ('Higa', 0.008433348811039977),\n",
       " ('Pangga', 0.008365465498431254),\n",
       " (\"Don't Start Now\", 0.0083510355478168),\n",
       " ('HOME', 0.008194501926589066),\n",
       " (\"fuck, i'm lonely\", 0.008133860284277216),\n",
       " (\"fuck, i'm lonely (with Anne-Marie) - from “13 Reasons Why: Season 3”\",\n",
       "  0.008133860284277216),\n",
       " ('My Time', 0.008121614276643973),\n",
       " ('Daisies', 0.008071079444790354),\n",
       " ('Louder than bombs', 0.007999910743747903),\n",
       " ('Bulong', 0.007693933549745537),\n",
       " ('Mundo', 0.007594245490778934),\n",
       " ('I Like Me Better', 0.007458057484827693),\n",
       " ('Can You Feel the Love Tonight', 0.0074343015292271586),\n",
       " ('MORE & MORE', 0.007292484251063036),\n",
       " ('Sweet but Psycho', 0.0070007930348903406),\n",
       " ('Blueming', 0.006482705731887288),\n",
       " ('Pauwi Nako', 0.006471372868432936),\n",
       " ('Lose Somebody', 0.006190512135347569),\n",
       " ('10,000 Hours (with Justin Bieber)', 0.006138125361705883),\n",
       " ('Miracle Nights', 0.006066985360432164),\n",
       " ('A Whole New World - From \"Aladdin\"', 0.006025923986872727),\n",
       " ('you!', 0.0059991039690954805),\n",
       " ('Imahe', 0.005985592367005506),\n",
       " ('Sunday Best', 0.0059816193311405),\n",
       " ('Blueberry Faygo', 0.005945049980025392),\n",
       " ('Here With Me', 0.005939414588317221),\n",
       " (\"If I Can't Have You\", 0.005915037830724917),\n",
       " ('MORE & MORE - English Version', 0.005876689958478843),\n",
       " ('달라달라 DALLA DALLA', 0.005871340484025381),\n",
       " ('달라달라 (DALLA DALLA)', 0.005871340484025381),\n",
       " ('exile (feat. Bon Iver)', 0.005860094160932705),\n",
       " ('Ex', 0.005819890682221254),\n",
       " ('Go Crazy', 0.005819246734101635),\n",
       " (\"Rawstarr 'Til I Die\", 0.005709421493395426),\n",
       " ('Earth', 0.005708202297804567),\n",
       " ('Lover', 0.005705101031510527),\n",
       " ('Lucid Dreams', 0.005705101031510527),\n",
       " ('Lover (Remix) [feat. Shawn Mendes]', 0.005705101031510527),\n",
       " ('Hindi Tayo Pwede', 0.005704592700333847),\n",
       " ('Ayy Macarena', 0.00567920905352927),\n",
       " ('Nakikinig Ka Ba Sa Akin', 0.0054905523654007965),\n",
       " ('Bagay Tayo', 0.0054861239217767945),\n",
       " ('my tears ricochet', 0.005394349682423049),\n",
       " ('Señorita', 0.005356735831221661),\n",
       " ('Bounty', 0.00528512047687871),\n",
       " ('Rain On Me (with Ariana Grande)', 0.005236230410113713),\n",
       " ('Thick And Thin', 0.005225896598163944),\n",
       " ('Be Kind (with Halsey)', 0.005169835306234575),\n",
       " ('cardigan', 0.0051458681327753355),\n",
       " ('Don’t Call Me Angel (Charlie’s Angels) (with Miley Cyrus & Lana Del Rey)',\n",
       "  0.004963739035423794),\n",
       " ('Saturday Nights', 0.004866861016359815),\n",
       " ('Godzilla (feat. Juice WRLD)', 0.004511897571079476),\n",
       " ('IDGAF', 0.004502260172414809),\n",
       " ('When I Look At You', 0.004467504440469367),\n",
       " ('Intentions', 0.004358824032383879),\n",
       " ('ON', 0.004341868338185797),\n",
       " ('Jamais Vu', 0.004331264797769524),\n",
       " ('ily (i love you baby) (feat. Emilee)', 0.004297032282410621),\n",
       " ('Feelings', 0.004293378411908094),\n",
       " ('A Brand New Day (BTS World Original Soundtrack) [Pt. 2]',\n",
       "  0.004278447847427269),\n",
       " ('Feel Special', 0.00426521978832006),\n",
       " ('Marikit', 0.004252016751758171),\n",
       " ('Malayo Ka Man', 0.004175884783677356),\n",
       " ('Miss Americana & The Heartbreak Prince', 0.004112973274831847),\n",
       " ('Old Town Road (feat. Billy Ray Cyrus) - Remix', 0.0041028765346148265),\n",
       " ('Old Town Road - Remix', 0.0041028765346148265),\n",
       " ('Chinita Girl', 0.0040044503020685955),\n",
       " ('Weak', 0.003975673746659078),\n",
       " ('Cross Me (feat. Chance the Rapper & PnB Rock)', 0.003921386797624441),\n",
       " ('Adore You', 0.003907564093901807),\n",
       " ('Beautiful Scars', 0.003887900525667566),\n",
       " ('Intentions (feat. Quavo)', 0.003878189283093321),\n",
       " ('Sweet Night', 0.003831743304693887),\n",
       " (\"Nobody's Love\", 0.003761206591163594),\n",
       " ('You Need To Calm Down', 0.0036551049074079944),\n",
       " ('Memories', 0.003587259922006743),\n",
       " ('Like That (feat. Gucci Mane)', 0.003519107608219914),\n",
       " (\"i'm so tired...\", 0.003463168580958131),\n",
       " ('After Hours', 0.0033376099527633028),\n",
       " ('At My Worst', 0.0032829037630282723),\n",
       " ('Dynamite', 0.003267100963505159),\n",
       " ('8 Letters', 0.003130350001924938),\n",
       " (\"I Don't Care (with Justin Bieber)\", 0.0030863824695355853),\n",
       " ('Jingle Bell Rock', 0.0030398831881847926),\n",
       " ('MAKE ME GO', 0.0029522438851556226),\n",
       " ('Hope Not', 0.002907932060245171),\n",
       " ('Talk', 0.0028841450917065346),\n",
       " ('Talk (feat. Disclosure)', 0.0028841450917065346),\n",
       " ('Who Do You Love', 0.002827789164905757),\n",
       " ('the 1', 0.002730483721885244),\n",
       " ('Someone You Loved', 0.0027217601156297065),\n",
       " ('Beautiful People (feat. Khalid)', 0.0026799148980878357),\n",
       " ('august', 0.002662427773896948),\n",
       " ('Araw-Araw', 0.002548110479966423),\n",
       " ('seven', 0.002537793562661905),\n",
       " ('Taki Taki (with Selena Gomez, Ozuna & Cardi B)', 0.0025277184857663794),\n",
       " ('mad woman', 0.0024912724360079096),\n",
       " ('Cruel Summer', 0.0024420921084181654),\n",
       " ('ROCKSTAR (feat. Roddy Ricch)', 0.0024418564945778453),\n",
       " ('Neneng B', 0.0023984999474634086),\n",
       " ('Buwan', 0.002382307317068622),\n",
       " ('ME! (feat. Brendon Urie of Panic! At The Disco)', 0.002374512187589581),\n",
       " ('What do you think?', 0.0023369170932815383),\n",
       " ('WANNABE', 0.0022746565960766896),\n",
       " ('2002', 0.0022549517469285054),\n",
       " ('Blinding Lights', 0.0022187086790866496),\n",
       " ('Shallow', 0.0021717597244655103),\n",
       " ('Close To Me (with Diplo) (feat. Swae Lee)', 0.0021536339854016516),\n",
       " ('Sucker', 0.002039680053524509),\n",
       " ('invisible string', 0.0020275820471312065),\n",
       " ('Physical', 0.0019430820244232241),\n",
       " ('Into the Unknown - Panic! At The Disco Version', 0.0019317927537357102),\n",
       " ('Mean It', 0.0019034113539935114),\n",
       " (\"break up with your girlfriend, i'm bored\", 0.0018590138733300629),\n",
       " ('Dalaga (Stripped)', 0.0017981869987496741),\n",
       " ('00:00 (Zero O’Clock)', 0.0017953636748993126),\n",
       " ('Make You Mine', 0.001749164113182441),\n",
       " ('Sa Susunod Na Lang', 0.0017387901124008137),\n",
       " ('Boy With Luv (feat. Halsey)', 0.0016551832137366037),\n",
       " ('BIRTHDAY', 0.0016169459347329614),\n",
       " ('Mikrokosmos', 0.0015502562745674591),\n",
       " ('Dynamite - Acoustic Remix', 0.001545387221729183),\n",
       " ('Stupid Love', 0.0014833012099348605),\n",
       " ('Ang Huling El Bimbo', 0.0014122903975463592),\n",
       " ('Kill This Love', 0.00132928719450391),\n",
       " ('needy', 0.0013151028352077498),\n",
       " ('Yellow Hearts', 0.001313613768777234),\n",
       " ('Santa Tell Me', 0.0013031343517123314),\n",
       " (\"Mary's Boy Child\", 0.001284745622534789),\n",
       " ('Huling Sandali (Tayo Sa Huling Buwan Ng Taon Official Soundtrack)',\n",
       "  0.0012790194680577997),\n",
       " ('With A Smile', 0.0012683628865762502),\n",
       " ('London Boy', 0.0011890119113189127),\n",
       " ('Miloves (Otw Sayo)', 0.001184109061022004),\n",
       " ('this is me trying', 0.0011835638130386673),\n",
       " ('Paper Rings', 0.0011619015180106156),\n",
       " ('you broke me first', 0.0011275346898462354),\n",
       " ('ON (Feat. Sia)', 0.0010940241345978388),\n",
       " ('Alice', 0.001092798837500288),\n",
       " ('Falling', 0.0010613332433556675),\n",
       " ('Savage', 0.0010566799573692622),\n",
       " ('Maybe The Night', 0.0010271298493583932),\n",
       " ('Lose You To Love Me', 0.0010095910639289932),\n",
       " ('Filter', 0.000950972528584921),\n",
       " ('Sour Candy (with BLACKPINK)', 0.0009366164103720507),\n",
       " ('Love Somebody', 0.0009334393122613831),\n",
       " ('Moonlight', 0.0009255201661140958),\n",
       " ('CIVIL WAR - Bonus', 0.0008007140162091591),\n",
       " (\"SUGA's Interlude\", 0.0007836145695589089),\n",
       " ('In Your Eyes', 0.0007820572698887377),\n",
       " ('Toosie Slide', 0.0007742229504602424),\n",
       " ('Wow.', 0.0007255949093425134),\n",
       " ('Rewrite The Stars (with James Arthur & Anne-Marie)', 0.0006764176325993567),\n",
       " ('DDU-DU DDU-DU - Remix', 0.0006610534925499053),\n",
       " ('Watermelon Sugar', 0.0006559764554310193),\n",
       " ('Uuwian', 0.0006427590718905869),\n",
       " ('KLWKN', 0.0005698450508407783),\n",
       " ('Dionysus', 0.0005308604273381577),\n",
       " ('Say So (feat. Nicki Minaj)', 0.0005189055670085404),\n",
       " ('Tattoos Together', 0.000508375577479105),\n",
       " ('ROXANNE', 0.00047418967696973295),\n",
       " ('Goodbyes (Feat. Young Thug)', 0.0004554832507586011),\n",
       " ('Araw-Araw Love', 0.00044394830937172973),\n",
       " ('Outta My Head (with John Mayer)', 0.0004438892969307384),\n",
       " ('Heartless', 0.00041241051012508165),\n",
       " ('On My Way', 0.00040577887466592576),\n",
       " ('Fun Tonight', 0.0004001185516321355),\n",
       " ('Show Yourself', 0.00039427462189444513),\n",
       " ('Call You Mine', 0.00039378349915746117),\n",
       " ('Big Plans', 0.0003865494970603023),\n",
       " ('Ivana', 0.0003845712699345946),\n",
       " ('Beautiful (feat. Camila Cabello)', 0.0003699793072508112),\n",
       " (\"Kung 'Di Rin Lang Ikaw\", 0.0002975226230873525),\n",
       " ('The Archer', 0.000267313915031484),\n",
       " ('Hindi Na Nga', 0.0002654432440458961),\n",
       " ('911', 0.00025407065699098246),\n",
       " ('Doors', 0.0002511241126685403),\n",
       " ('I’m Ready (with Demi Lovato)', 0.00024914133753476867),\n",
       " ('Sunflower - Spider-Man: Into the Spider-Verse', 0.00021742218224580378),\n",
       " ('Banana (feat. Shaggy) - DJ FLe - Minisiren Remix', 0.00021266684681821334),\n",
       " ('Ice Cream (with Selena Gomez)', 0.00020952190715739272),\n",
       " ('Friends', 0.0001938845648145636),\n",
       " ('Liar', 0.00016377752727861537),\n",
       " ('Titig', 0.0001613016891301116),\n",
       " ('Savage Remix (feat. Beyoncé)', 0.00013596289765751803),\n",
       " ('Tagpuan', 0.00012831954392895957),\n",
       " ('All I Want for Christmas Is You', 0.00010648530969453631),\n",
       " ('Ikaw At Ako', 8.566323141036955e-05),\n",
       " ('FANCY', 6.89833373011353e-05),\n",
       " ('214 - From \"Alone/Together\"', 5.4754839621308465e-05),\n",
       " ('Eastside (with Halsey & Khalid)', 5.2988554472234e-05),\n",
       " ('Leaves', 5.1702184335653154e-05),\n",
       " (\"'Di Na Muli\", 4.257666407756311e-05),\n",
       " ('Monster', 4.1724905874002434e-05),\n",
       " ('Look At Her Now', 3.8510901552949376e-05),\n",
       " ('MONOPOLY (with Victoria Monét)', 1.7662851490744665e-05),\n",
       " ('imagine', 1.4816499137464754e-05),\n",
       " ('You Got It', 8.654891131855054e-06),\n",
       " ('I Think He Knows', 7.72865105720933e-06),\n",
       " ('A Whole New World (End Title) - From \"Aladdin\"', 3.982799845952228e-06),\n",
       " ('High Hopes', 7.359521454476944e-07),\n",
       " ('Undecided', 0.0),\n",
       " ('Love Someone', 0.0),\n",
       " ('Christmas in Our Hearts', 0.0),\n",
       " ('If the World Was Ending - feat. Julia Michaels', 0.0),\n",
       " ('Easier', 0.0),\n",
       " ('You Are The Reason', 0.0),\n",
       " ('NASA', 0.0),\n",
       " ('Pasensya Ka Na', 0.0),\n",
       " ('Vibe With Me', 0.0),\n",
       " (\"Say You Won't Let Go\", 0.0),\n",
       " ('7 rings', 0.0),\n",
       " ('I Want You Back', 0.0),\n",
       " ('Best Part of Me (feat. YEBBA)', 0.0),\n",
       " ('WAP (feat. Megan Thee Stallion)', 0.0),\n",
       " ('Naaalala Ka / Maging Sino Ka Man (Spotify Jams: OPM Love Songs - Recorded at Kodama Studios, Philippines)',\n",
       "  0.0),\n",
       " (\"'Di Na Babalik\", 0.0),\n",
       " ('HIGHEST IN THE ROOM', 0.0),\n",
       " ('bad guy', 0.0),\n",
       " ('bad guy (with Justin Bieber)', 0.0),\n",
       " ('Filipina Girl', 0.0),\n",
       " ('Repeat', 0.0),\n",
       " ('Make It Right', 0.0),\n",
       " ('Make It Right (feat. Lauv)', 0.0),\n",
       " ('Intro : Persona', 0.0),\n",
       " ('Drugs & The Internet', 0.0),\n",
       " ('Pagtingin', 0.0),\n",
       " ('Lifetime', 0.0),\n",
       " ('Kabilang Buhay', 0.0),\n",
       " ('Could I Love You Any More (feat. Jason Mraz)', 0.0),\n",
       " ('Mabagal', 0.0),\n",
       " ('Heather', 0.0),\n",
       " ('Who (feat. BTS)', 0.0),\n",
       " ('Sa Susunod na Habang Buhay', 0.0),\n",
       " ('Can We Kiss Forever?', 0.0),\n",
       " ('Mistletoe', 0.0),\n",
       " ('Savage Love (Laxed - Siren Beat)', 0.0),\n",
       " ('Your Song', 0.0),\n",
       " ('Teka Lang', 0.0),\n",
       " ('Gimme Love', 0.0),\n",
       " ('Alapaap / Overdrive', 0.0)]"
      ]
     },
     "execution_count": 143,
     "metadata": {},
     "output_type": "execute_result"
    }
   ],
   "source": [
    "#get sorted betweenness centrality\n",
    "sorted(nx.betweenness_centrality(G).items(), key=lambda item: item[1], reverse=True)"
   ]
  },
  {
   "cell_type": "code",
   "execution_count": 144,
   "metadata": {
    "ExecuteTime": {
     "end_time": "2021-01-29T18:11:53.189295Z",
     "start_time": "2021-01-29T18:11:53.182804Z"
    }
   },
   "outputs": [
    {
     "data": {
      "text/plain": [
       "{'FANCY': 0,\n",
       " 'Rewrite The Stars (with James Arthur & Anne-Marie)': 1,\n",
       " 'Close To Me (with Diplo) (feat. Swae Lee)': 1,\n",
       " '달라달라 DALLA DALLA': 1,\n",
       " '달라달라 (DALLA DALLA)': 1,\n",
       " 'ROXANNE': 1,\n",
       " 'Rain On Me (with Ariana Grande)': 1,\n",
       " 'Sour Candy (with BLACKPINK)': 1}"
      ]
     },
     "execution_count": 144,
     "metadata": {},
     "output_type": "execute_result"
    }
   ],
   "source": [
    "neighbor_recommendations = nx.single_source_shortest_path_length(G, 'FANCY', cutoff=1)\n",
    "neighbor_recommendations"
   ]
  },
  {
   "cell_type": "code",
   "execution_count": 127,
   "metadata": {
    "ExecuteTime": {
     "end_time": "2021-01-29T18:03:22.671257Z",
     "start_time": "2021-01-29T18:03:22.667917Z"
    }
   },
   "outputs": [],
   "source": [
    "def get_random_neighbor(G,node, collected_list):\n",
    "    return [n for n in G.neighbors(node) if n not in collected_list][0]"
   ]
  },
  {
   "cell_type": "code",
   "execution_count": 129,
   "metadata": {
    "ExecuteTime": {
     "end_time": "2021-01-29T18:06:27.919090Z",
     "start_time": "2021-01-29T18:06:27.912053Z"
    }
   },
   "outputs": [
    {
     "data": {
      "text/plain": [
       "['Rewrite The Stars (with James Arthur & Anne-Marie)',\n",
       " 'Close To Me (with Diplo) (feat. Swae Lee)',\n",
       " 'DDU-DU DDU-DU',\n",
       " 'Sa Ngalan Ng Pag-Ibig',\n",
       " 'Bulong',\n",
       " 'Kahit Di Mo Alam',\n",
       " \"Kung 'Di Rin Lang Ikaw\",\n",
       " 'Hindi Na Nga',\n",
       " 'Love Someone',\n",
       " \"break up with your girlfriend, i'm bored\"]"
      ]
     },
     "execution_count": 129,
     "metadata": {},
     "output_type": "execute_result"
    }
   ],
   "source": [
    "target_recoms=10\n",
    "recommendations = []\n",
    "seed_track=\"FANCY\"\n",
    "current_node = seed_track\n",
    "for i in np.arange(target_recoms):\n",
    "    recommendations.append(get_random_neighbor(G, current_node, recommendations))\n",
    "    current_node=recommendations[-1]\n",
    "recommendations        "
   ]
  },
  {
   "cell_type": "code",
   "execution_count": 155,
   "metadata": {
    "ExecuteTime": {
     "end_time": "2021-01-30T01:46:13.584238Z",
     "start_time": "2021-01-30T01:46:13.319929Z"
    }
   },
   "outputs": [
    {
     "data": {
      "image/png": "[encoded data removed]",
      "text/plain": [
       "<Figure size 432x288 with 1 Axes>"
      ]
     },
     "metadata": {},
     "output_type": "display_data"
    }
   ],
   "source": [
    "Grecos = G.subgraph(recommendations)\n",
    "nx.draw_spring(Grecos, with_labels=True, node_size=100, font_color='k' )\n"
   ]
  },
  {
   "cell_type": "markdown",
   "metadata": {},
   "source": [
    "### 3. Building a Recommendation Graph Structure: Predicted Genre Score"
   ]
  },
  {
   "cell_type": "code",
   "execution_count": 160,
   "metadata": {
    "ExecuteTime": {
     "end_time": "2021-01-30T01:55:06.040187Z",
     "start_time": "2021-01-30T01:50:35.535209Z"
    }
   },
   "outputs": [
    {
     "name": "stdout",
     "output_type": "stream",
     "text": [
      "Computed pairwise distances for 1/104653 track pairs...\n",
      "Computed pairwise distances for 1001/104653 track pairs...\n",
      "Computed pairwise distances for 2001/104653 track pairs...\n",
      "Computed pairwise distances for 3001/104653 track pairs...\n",
      "Computed pairwise distances for 4001/104653 track pairs...\n",
      "Computed pairwise distances for 5001/104653 track pairs...\n",
      "Computed pairwise distances for 6001/104653 track pairs...\n",
      "Computed pairwise distances for 7001/104653 track pairs...\n",
      "Computed pairwise distances for 8001/104653 track pairs...\n",
      "Computed pairwise distances for 9001/104653 track pairs...\n",
      "Computed pairwise distances for 10001/104653 track pairs...\n",
      "Computed pairwise distances for 11001/104653 track pairs...\n",
      "Computed pairwise distances for 12001/104653 track pairs...\n",
      "Computed pairwise distances for 13001/104653 track pairs...\n",
      "Computed pairwise distances for 14001/104653 track pairs...\n",
      "Computed pairwise distances for 15001/104653 track pairs...\n",
      "Computed pairwise distances for 16001/104653 track pairs...\n",
      "Computed pairwise distances for 17001/104653 track pairs...\n",
      "Computed pairwise distances for 18001/104653 track pairs...\n",
      "Computed pairwise distances for 19001/104653 track pairs...\n",
      "Computed pairwise distances for 20001/104653 track pairs...\n",
      "Computed pairwise distances for 21001/104653 track pairs...\n",
      "Computed pairwise distances for 22001/104653 track pairs...\n",
      "Computed pairwise distances for 23001/104653 track pairs...\n",
      "Computed pairwise distances for 24001/104653 track pairs...\n",
      "Computed pairwise distances for 25001/104653 track pairs...\n",
      "Computed pairwise distances for 26001/104653 track pairs...\n",
      "Computed pairwise distances for 27001/104653 track pairs...\n",
      "Computed pairwise distances for 28001/104653 track pairs...\n",
      "Computed pairwise distances for 29001/104653 track pairs...\n",
      "Computed pairwise distances for 30001/104653 track pairs...\n",
      "Computed pairwise distances for 31001/104653 track pairs...\n",
      "Computed pairwise distances for 32001/104653 track pairs...\n",
      "Computed pairwise distances for 33001/104653 track pairs...\n",
      "Computed pairwise distances for 34001/104653 track pairs...\n",
      "Computed pairwise distances for 35001/104653 track pairs...\n",
      "Computed pairwise distances for 36001/104653 track pairs...\n",
      "Computed pairwise distances for 37001/104653 track pairs...\n",
      "Computed pairwise distances for 38001/104653 track pairs...\n",
      "Computed pairwise distances for 39001/104653 track pairs...\n",
      "Computed pairwise distances for 40001/104653 track pairs...\n",
      "Computed pairwise distances for 41001/104653 track pairs...\n",
      "Computed pairwise distances for 42001/104653 track pairs...\n",
      "Computed pairwise distances for 43001/104653 track pairs...\n",
      "Computed pairwise distances for 44001/104653 track pairs...\n",
      "Computed pairwise distances for 45001/104653 track pairs...\n",
      "Computed pairwise distances for 46001/104653 track pairs...\n",
      "Computed pairwise distances for 47001/104653 track pairs...\n",
      "Computed pairwise distances for 48001/104653 track pairs...\n",
      "Computed pairwise distances for 49001/104653 track pairs...\n",
      "Computed pairwise distances for 50001/104653 track pairs...\n",
      "Computed pairwise distances for 51001/104653 track pairs...\n",
      "Computed pairwise distances for 52001/104653 track pairs...\n",
      "Computed pairwise distances for 53001/104653 track pairs...\n",
      "Computed pairwise distances for 54001/104653 track pairs...\n",
      "Computed pairwise distances for 55001/104653 track pairs...\n",
      "Computed pairwise distances for 56001/104653 track pairs...\n",
      "Computed pairwise distances for 57001/104653 track pairs...\n",
      "Computed pairwise distances for 58001/104653 track pairs...\n",
      "Computed pairwise distances for 59001/104653 track pairs...\n",
      "Computed pairwise distances for 60001/104653 track pairs...\n",
      "Computed pairwise distances for 61001/104653 track pairs...\n",
      "Computed pairwise distances for 62001/104653 track pairs...\n",
      "Computed pairwise distances for 63001/104653 track pairs...\n",
      "Computed pairwise distances for 64001/104653 track pairs...\n",
      "Computed pairwise distances for 65001/104653 track pairs...\n",
      "Computed pairwise distances for 66001/104653 track pairs...\n",
      "Computed pairwise distances for 67001/104653 track pairs...\n",
      "Computed pairwise distances for 68001/104653 track pairs...\n",
      "Computed pairwise distances for 69001/104653 track pairs...\n",
      "Computed pairwise distances for 70001/104653 track pairs...\n",
      "Computed pairwise distances for 71001/104653 track pairs...\n",
      "Computed pairwise distances for 72001/104653 track pairs...\n",
      "Computed pairwise distances for 73001/104653 track pairs...\n",
      "Computed pairwise distances for 74001/104653 track pairs...\n",
      "Computed pairwise distances for 75001/104653 track pairs...\n",
      "Computed pairwise distances for 76001/104653 track pairs...\n",
      "Computed pairwise distances for 77001/104653 track pairs...\n",
      "Computed pairwise distances for 78001/104653 track pairs...\n",
      "Computed pairwise distances for 79001/104653 track pairs...\n",
      "Computed pairwise distances for 80001/104653 track pairs...\n",
      "Computed pairwise distances for 81001/104653 track pairs...\n",
      "Computed pairwise distances for 82001/104653 track pairs...\n",
      "Computed pairwise distances for 83001/104653 track pairs...\n",
      "Computed pairwise distances for 84001/104653 track pairs...\n",
      "Computed pairwise distances for 85001/104653 track pairs...\n",
      "Computed pairwise distances for 86001/104653 track pairs...\n",
      "Computed pairwise distances for 87001/104653 track pairs...\n",
      "Computed pairwise distances for 88001/104653 track pairs...\n",
      "Computed pairwise distances for 89001/104653 track pairs...\n",
      "Computed pairwise distances for 90001/104653 track pairs...\n",
      "Computed pairwise distances for 91001/104653 track pairs...\n",
      "Computed pairwise distances for 92001/104653 track pairs...\n",
      "Computed pairwise distances for 93001/104653 track pairs...\n",
      "Computed pairwise distances for 94001/104653 track pairs...\n",
      "Computed pairwise distances for 95001/104653 track pairs...\n",
      "Computed pairwise distances for 96001/104653 track pairs...\n",
      "Computed pairwise distances for 97001/104653 track pairs...\n",
      "Computed pairwise distances for 98001/104653 track pairs...\n",
      "Computed pairwise distances for 99001/104653 track pairs...\n",
      "Computed pairwise distances for 100001/104653 track pairs...\n",
      "Computed pairwise distances for 101001/104653 track pairs...\n",
      "Computed pairwise distances for 102001/104653 track pairs...\n",
      "Computed pairwise distances for 103001/104653 track pairs...\n",
      "Computed pairwise distances for 104001/104653 track pairs...\n"
     ]
    },
    {
     "data": {
      "text/html": [
       "<div>\n",
       "<style scoped>\n",
       "    .dataframe tbody tr th:only-of-type {\n",
       "        vertical-align: middle;\n",
       "    }\n",
       "\n",
       "    .dataframe tbody tr th {\n",
       "        vertical-align: top;\n",
       "    }\n",
       "\n",
       "    .dataframe thead th {\n",
       "        text-align: right;\n",
       "    }\n",
       "</style>\n",
       "<table border=\"1\" class=\"dataframe\">\n",
       "  <thead>\n",
       "    <tr style=\"text-align: right;\">\n",
       "      <th></th>\n",
       "      <th>track1</th>\n",
       "      <th>track1_name</th>\n",
       "      <th>track2</th>\n",
       "      <th>track2_name</th>\n",
       "      <th>distance</th>\n",
       "    </tr>\n",
       "  </thead>\n",
       "  <tbody>\n",
       "    <tr>\n",
       "      <th>0</th>\n",
       "      <td>2rPE9A1vEgShuZxxzR2tZH</td>\n",
       "      <td>thank u, next</td>\n",
       "      <td>5f9808hpiCpuNyqqdXmpF2</td>\n",
       "      <td>Buwan</td>\n",
       "      <td>1.000000</td>\n",
       "    </tr>\n",
       "    <tr>\n",
       "      <th>1</th>\n",
       "      <td>2rPE9A1vEgShuZxxzR2tZH</td>\n",
       "      <td>thank u, next</td>\n",
       "      <td>2BgD4nRyx9EZ5o8YEnjRSV</td>\n",
       "      <td>Kung 'Di Rin Lang Ikaw</td>\n",
       "      <td>0.552786</td>\n",
       "    </tr>\n",
       "    <tr>\n",
       "      <th>2</th>\n",
       "      <td>2rPE9A1vEgShuZxxzR2tZH</td>\n",
       "      <td>thank u, next</td>\n",
       "      <td>1X4l4i472kW5ofFP8Xo0x0</td>\n",
       "      <td>Sana</td>\n",
       "      <td>0.811018</td>\n",
       "    </tr>\n",
       "    <tr>\n",
       "      <th>3</th>\n",
       "      <td>2rPE9A1vEgShuZxxzR2tZH</td>\n",
       "      <td>thank u, next</td>\n",
       "      <td>5V2AX2WTOHl2FKtftvisV6</td>\n",
       "      <td>Kahit Ayaw Mo Na</td>\n",
       "      <td>0.329180</td>\n",
       "    </tr>\n",
       "    <tr>\n",
       "      <th>4</th>\n",
       "      <td>2rPE9A1vEgShuZxxzR2tZH</td>\n",
       "      <td>thank u, next</td>\n",
       "      <td>00mBzIWv5gHOYxwuEJXjOG</td>\n",
       "      <td>Sa Ngalan Ng Pag-Ibig</td>\n",
       "      <td>0.329180</td>\n",
       "    </tr>\n",
       "    <tr>\n",
       "      <th>...</th>\n",
       "      <td>...</td>\n",
       "      <td>...</td>\n",
       "      <td>...</td>\n",
       "      <td>...</td>\n",
       "      <td>...</td>\n",
       "    </tr>\n",
       "    <tr>\n",
       "      <th>104648</th>\n",
       "      <td>45bE4HXI0AwGZXfZtMp8JR</td>\n",
       "      <td>you broke me first</td>\n",
       "      <td>0ri0Han4IRJhzvERHOZTMr</td>\n",
       "      <td>At My Worst</td>\n",
       "      <td>0.180108</td>\n",
       "    </tr>\n",
       "    <tr>\n",
       "      <th>104649</th>\n",
       "      <td>45bE4HXI0AwGZXfZtMp8JR</td>\n",
       "      <td>you broke me first</td>\n",
       "      <td>4lsHZ92XCFOQfzJFBTluk8</td>\n",
       "      <td>You Got It</td>\n",
       "      <td>0.455669</td>\n",
       "    </tr>\n",
       "    <tr>\n",
       "      <th>104650</th>\n",
       "      <td>5vPO5ouEv8iedKWxzmSv7b</td>\n",
       "      <td>Lose</td>\n",
       "      <td>0ri0Han4IRJhzvERHOZTMr</td>\n",
       "      <td>At My Worst</td>\n",
       "      <td>0.239361</td>\n",
       "    </tr>\n",
       "    <tr>\n",
       "      <th>104651</th>\n",
       "      <td>5vPO5ouEv8iedKWxzmSv7b</td>\n",
       "      <td>Lose</td>\n",
       "      <td>4lsHZ92XCFOQfzJFBTluk8</td>\n",
       "      <td>You Got It</td>\n",
       "      <td>0.614242</td>\n",
       "    </tr>\n",
       "    <tr>\n",
       "      <th>104652</th>\n",
       "      <td>0ri0Han4IRJhzvERHOZTMr</td>\n",
       "      <td>At My Worst</td>\n",
       "      <td>4lsHZ92XCFOQfzJFBTluk8</td>\n",
       "      <td>You Got It</td>\n",
       "      <td>0.178416</td>\n",
       "    </tr>\n",
       "  </tbody>\n",
       "</table>\n",
       "<p>104653 rows × 5 columns</p>\n",
       "</div>"
      ],
      "text/plain": [
       "                        track1         track1_name                  track2  \\\n",
       "0       2rPE9A1vEgShuZxxzR2tZH       thank u, next  5f9808hpiCpuNyqqdXmpF2   \n",
       "1       2rPE9A1vEgShuZxxzR2tZH       thank u, next  2BgD4nRyx9EZ5o8YEnjRSV   \n",
       "2       2rPE9A1vEgShuZxxzR2tZH       thank u, next  1X4l4i472kW5ofFP8Xo0x0   \n",
       "3       2rPE9A1vEgShuZxxzR2tZH       thank u, next  5V2AX2WTOHl2FKtftvisV6   \n",
       "4       2rPE9A1vEgShuZxxzR2tZH       thank u, next  00mBzIWv5gHOYxwuEJXjOG   \n",
       "...                        ...                 ...                     ...   \n",
       "104648  45bE4HXI0AwGZXfZtMp8JR  you broke me first  0ri0Han4IRJhzvERHOZTMr   \n",
       "104649  45bE4HXI0AwGZXfZtMp8JR  you broke me first  4lsHZ92XCFOQfzJFBTluk8   \n",
       "104650  5vPO5ouEv8iedKWxzmSv7b                Lose  0ri0Han4IRJhzvERHOZTMr   \n",
       "104651  5vPO5ouEv8iedKWxzmSv7b                Lose  4lsHZ92XCFOQfzJFBTluk8   \n",
       "104652  0ri0Han4IRJhzvERHOZTMr         At My Worst  4lsHZ92XCFOQfzJFBTluk8   \n",
       "\n",
       "                   track2_name  distance  \n",
       "0                        Buwan  1.000000  \n",
       "1       Kung 'Di Rin Lang Ikaw  0.552786  \n",
       "2                         Sana  0.811018  \n",
       "3             Kahit Ayaw Mo Na  0.329180  \n",
       "4        Sa Ngalan Ng Pag-Ibig  0.329180  \n",
       "...                        ...       ...  \n",
       "104648             At My Worst  0.180108  \n",
       "104649              You Got It  0.455669  \n",
       "104650             At My Worst  0.239361  \n",
       "104651              You Got It  0.614242  \n",
       "104652              You Got It  0.178416  \n",
       "\n",
       "[104653 rows x 5 columns]"
      ]
     },
     "execution_count": 160,
     "metadata": {},
     "output_type": "execute_result"
    }
   ],
   "source": [
    "#create edge list\n",
    "feature_cols = [col for col in chart_tracks_df.columns if \"_prob\" in col][1:]\n",
    "\n",
    "#loop over all tracks\n",
    "distances=np.zeros(len(track_pairs))\n",
    "for n,tracks in enumerate(track_pairs):\n",
    "    if (n % 1000 == 0):\n",
    "        print( \"Computed pairwise distances for %d/%d track pairs...\" % (n+1,len(track_pairs)))\n",
    "\n",
    "    track1_measures = chart_tracks_df[chart_tracks_df['track_id']==tracks[0]]\\\n",
    "                                     [feature_cols].values.reshape(1, -1)\n",
    "    track2_measures = chart_tracks_df[chart_tracks_df['track_id']==tracks[1]]\\\n",
    "                                         [feature_cols].values.reshape(1, -1) \n",
    "    distances[n] = 1-cosine_similarity(track1_measures,track2_measures).flatten()[0]\n",
    "    \n",
    "\n",
    "distances_df = pd.DataFrame({'track1':[t[0] for t in track_pairs],\\\n",
    "                             'track1_name':[track_names_dict[t[0]] for t in track_pairs],\\\n",
    "                            'track2':[t[1] for t in track_pairs],\\\n",
    "                            'track2_name':[track_names_dict[t[1]] for t in track_pairs],\\\n",
    "                            'distance': distances})\n",
    "distances_df"
   ]
  },
  {
   "cell_type": "code",
   "execution_count": 167,
   "metadata": {
    "ExecuteTime": {
     "end_time": "2021-01-30T04:15:32.928160Z",
     "start_time": "2021-01-30T04:15:32.397956Z"
    }
   },
   "outputs": [
    {
     "name": "stdout",
     "output_type": "stream",
     "text": [
      "0.17841616374225078\n",
      "0.16333997346592444\n"
     ]
    },
    {
     "data": {
      "image/png": "[encoded data removed]",
      "text/plain": [
       "<Figure size 432x288 with 1 Axes>"
      ]
     },
     "metadata": {
      "needs_background": "light"
     },
     "output_type": "display_data"
    }
   ],
   "source": [
    "sns.histplot(distances_df['distance'])\n",
    "plt.axvline(distances_df['distance'].quantile(0.1), color='r')\n",
    "plt.axvline(distances_df[distances_df['distance']<0.9]['distance'].quantile(0.1), color='r')\n",
    "print(distances_df['distance'].quantile(0.1))\n",
    "print(distances_df[distances_df['distance']<0.9]['distance'].quantile(0.1))"
   ]
  },
  {
   "cell_type": "code",
   "execution_count": 168,
   "metadata": {
    "ExecuteTime": {
     "end_time": "2021-01-30T04:15:54.236398Z",
     "start_time": "2021-01-30T04:15:54.226422Z"
    }
   },
   "outputs": [
    {
     "name": "stdout",
     "output_type": "stream",
     "text": [
      "8706\n"
     ]
    }
   ],
   "source": [
    "# Set distance cutoff\n",
    "relevant_distances_df = distances_df[distances_df['distance']<=0.16]\n",
    "print(len(relevant_distances_df))"
   ]
  },
  {
   "cell_type": "code",
   "execution_count": 169,
   "metadata": {
    "ExecuteTime": {
     "end_time": "2021-01-30T04:15:56.104570Z",
     "start_time": "2021-01-30T04:15:56.094498Z"
    }
   },
   "outputs": [
    {
     "data": {
      "text/plain": [
       "457"
      ]
     },
     "execution_count": 169,
     "metadata": {},
     "output_type": "execute_result"
    }
   ],
   "source": [
    "#number of tracks\n",
    "len(pd.concat([relevant_distances_df['track1'],relevant_distances_df['track2']]).unique())"
   ]
  },
  {
   "cell_type": "code",
   "execution_count": 198,
   "metadata": {
    "ExecuteTime": {
     "end_time": "2021-01-30T07:16:20.040597Z",
     "start_time": "2021-01-30T07:16:19.990469Z"
    }
   },
   "outputs": [],
   "source": [
    "# Build graph from pandas\n",
    "G = nx.from_pandas_edgelist(relevant_distances_df,\\\n",
    "                           source='track1_name', target='track2_name',\\\n",
    "                           edge_attr='distance')"
   ]
  },
  {
   "cell_type": "code",
   "execution_count": 199,
   "metadata": {
    "ExecuteTime": {
     "end_time": "2021-01-30T07:16:20.712398Z",
     "start_time": "2021-01-30T07:16:20.489973Z"
    }
   },
   "outputs": [
    {
     "data": {
      "text/plain": [
       "<matplotlib.axes._subplots.AxesSubplot at 0x7f259b829f70>"
      ]
     },
     "execution_count": 199,
     "metadata": {},
     "output_type": "execute_result"
    },
    {
     "data": {
      "image/png": "[encoded data removed]",
      "text/plain": [
       "<Figure size 432x288 with 1 Axes>"
      ]
     },
     "metadata": {
      "needs_background": "light"
     },
     "output_type": "display_data"
    }
   ],
   "source": [
    "degrees = [G.degree(n) for n in G.nodes()]\n",
    "sns.histplot(degrees)"
   ]
  },
  {
   "cell_type": "code",
   "execution_count": 200,
   "metadata": {
    "ExecuteTime": {
     "end_time": "2021-01-30T07:16:21.579687Z",
     "start_time": "2021-01-30T07:16:20.900385Z"
    }
   },
   "outputs": [
    {
     "data": {
      "image/png": "[encoded data removed]",
      "text/plain": [
       "<Figure size 432x288 with 1 Axes>"
      ]
     },
     "metadata": {},
     "output_type": "display_data"
    }
   ],
   "source": [
    "nx.draw_spring(G,node_size=10, font_color='k' )"
   ]
  },
  {
   "cell_type": "code",
   "execution_count": 201,
   "metadata": {
    "ExecuteTime": {
     "end_time": "2021-01-30T07:16:21.665570Z",
     "start_time": "2021-01-30T07:16:21.639628Z"
    }
   },
   "outputs": [
    {
     "ename": "TypeError",
     "evalue": "unhashable type: 'list'",
     "output_type": "error",
     "traceback": [
      "\u001b[0;31m---------------------------------------------------------------------------\u001b[0m",
      "\u001b[0;31mTypeError\u001b[0m                                 Traceback (most recent call last)",
      "\u001b[0;32m<ipython-input-201-87404ceff541>\u001b[0m in \u001b[0;36m<module>\u001b[0;34m\u001b[0m\n\u001b[1;32m      5\u001b[0m \u001b[0;34m\u001b[0m\u001b[0m\n\u001b[1;32m      6\u001b[0m \u001b[0;32mfor\u001b[0m \u001b[0mi\u001b[0m \u001b[0;32min\u001b[0m \u001b[0mnp\u001b[0m\u001b[0;34m.\u001b[0m\u001b[0marange\u001b[0m\u001b[0;34m(\u001b[0m\u001b[0mtarget_recoms\u001b[0m\u001b[0;34m)\u001b[0m\u001b[0;34m:\u001b[0m\u001b[0;34m\u001b[0m\u001b[0;34m\u001b[0m\u001b[0m\n\u001b[0;32m----> 7\u001b[0;31m     \u001b[0mrecommendations\u001b[0m\u001b[0;34m.\u001b[0m\u001b[0mappend\u001b[0m\u001b[0;34m(\u001b[0m\u001b[0mget_random_neighbor\u001b[0m\u001b[0;34m(\u001b[0m\u001b[0mG\u001b[0m\u001b[0;34m,\u001b[0m \u001b[0mcurrent_node\u001b[0m\u001b[0;34m,\u001b[0m \u001b[0mrecommendations\u001b[0m\u001b[0;34m)\u001b[0m\u001b[0;34m)\u001b[0m\u001b[0;34m\u001b[0m\u001b[0;34m\u001b[0m\u001b[0m\n\u001b[0m\u001b[1;32m      8\u001b[0m     \u001b[0mcurrent_node\u001b[0m\u001b[0;34m=\u001b[0m\u001b[0mrecommendations\u001b[0m\u001b[0;34m\u001b[0m\u001b[0;34m\u001b[0m\u001b[0m\n\u001b[1;32m      9\u001b[0m \u001b[0mrecommendations\u001b[0m\u001b[0;34m\u001b[0m\u001b[0;34m\u001b[0m\u001b[0m\n",
      "\u001b[0;32m<ipython-input-127-d783b483341d>\u001b[0m in \u001b[0;36mget_random_neighbor\u001b[0;34m(G, node, collected_list)\u001b[0m\n\u001b[1;32m      1\u001b[0m \u001b[0;32mdef\u001b[0m \u001b[0mget_random_neighbor\u001b[0m\u001b[0;34m(\u001b[0m\u001b[0mG\u001b[0m\u001b[0;34m,\u001b[0m\u001b[0mnode\u001b[0m\u001b[0;34m,\u001b[0m \u001b[0mcollected_list\u001b[0m\u001b[0;34m)\u001b[0m\u001b[0;34m:\u001b[0m\u001b[0;34m\u001b[0m\u001b[0;34m\u001b[0m\u001b[0m\n\u001b[0;32m----> 2\u001b[0;31m     \u001b[0;32mreturn\u001b[0m \u001b[0;34m[\u001b[0m\u001b[0mn\u001b[0m \u001b[0;32mfor\u001b[0m \u001b[0mn\u001b[0m \u001b[0;32min\u001b[0m \u001b[0mG\u001b[0m\u001b[0;34m.\u001b[0m\u001b[0mneighbors\u001b[0m\u001b[0;34m(\u001b[0m\u001b[0mnode\u001b[0m\u001b[0;34m)\u001b[0m \u001b[0;32mif\u001b[0m \u001b[0mn\u001b[0m \u001b[0;32mnot\u001b[0m \u001b[0;32min\u001b[0m \u001b[0mcollected_list\u001b[0m\u001b[0;34m]\u001b[0m\u001b[0;34m[\u001b[0m\u001b[0;36m0\u001b[0m\u001b[0;34m]\u001b[0m\u001b[0;34m\u001b[0m\u001b[0;34m\u001b[0m\u001b[0m\n\u001b[0m",
      "\u001b[0;32m~/anaconda3/lib/python3.8/site-packages/networkx/classes/graph.py\u001b[0m in \u001b[0;36mneighbors\u001b[0;34m(self, n)\u001b[0m\n\u001b[1;32m   1236\u001b[0m         \"\"\"\n\u001b[1;32m   1237\u001b[0m         \u001b[0;32mtry\u001b[0m\u001b[0;34m:\u001b[0m\u001b[0;34m\u001b[0m\u001b[0;34m\u001b[0m\u001b[0m\n\u001b[0;32m-> 1238\u001b[0;31m             \u001b[0;32mreturn\u001b[0m \u001b[0miter\u001b[0m\u001b[0;34m(\u001b[0m\u001b[0mself\u001b[0m\u001b[0;34m.\u001b[0m\u001b[0m_adj\u001b[0m\u001b[0;34m[\u001b[0m\u001b[0mn\u001b[0m\u001b[0;34m]\u001b[0m\u001b[0;34m)\u001b[0m\u001b[0;34m\u001b[0m\u001b[0;34m\u001b[0m\u001b[0m\n\u001b[0m\u001b[1;32m   1239\u001b[0m         \u001b[0;32mexcept\u001b[0m \u001b[0mKeyError\u001b[0m\u001b[0;34m:\u001b[0m\u001b[0;34m\u001b[0m\u001b[0;34m\u001b[0m\u001b[0m\n\u001b[1;32m   1240\u001b[0m             \u001b[0;32mraise\u001b[0m \u001b[0mNetworkXError\u001b[0m\u001b[0;34m(\u001b[0m\u001b[0;34m\"The node %s is not in the graph.\"\u001b[0m \u001b[0;34m%\u001b[0m \u001b[0;34m(\u001b[0m\u001b[0mn\u001b[0m\u001b[0;34m,\u001b[0m\u001b[0;34m)\u001b[0m\u001b[0;34m)\u001b[0m\u001b[0;34m\u001b[0m\u001b[0;34m\u001b[0m\u001b[0m\n",
      "\u001b[0;31mTypeError\u001b[0m: unhashable type: 'list'"
     ]
    }
   ],
   "source": [
    "seed_track=\"Kill This Love\"\n",
    "\n",
    "target_num_recoms=10\n",
    "recommendations = []\n",
    "current_node = seed_track\n",
    "recommendations.append(seed_track)\n",
    "for i in np.arange(target_recoms):\n",
    "    recommendations.append(get_random_neighbor(G, current_node, recommendations))\n",
    "    current_node=recommendations[-1]\n",
    "recommendations        "
   ]
  },
  {
   "cell_type": "code",
   "execution_count": 188,
   "metadata": {
    "ExecuteTime": {
     "end_time": "2021-01-30T04:28:01.266653Z",
     "start_time": "2021-01-30T04:28:01.262053Z"
    }
   },
   "outputs": [],
   "source": [
    "#chart_tracks_df[chart_tracks_df['track_name'].isin(['FANCY','Sa Ngalan Ng Pag-Ibig'])]"
   ]
  },
  {
   "cell_type": "code",
   "execution_count": 189,
   "metadata": {
    "ExecuteTime": {
     "end_time": "2021-01-30T04:28:02.326091Z",
     "start_time": "2021-01-30T04:28:02.063764Z"
    }
   },
   "outputs": [
    {
     "data": {
      "image/png": "[encoded data removed]",
      "text/plain": [
       "<Figure size 432x288 with 1 Axes>"
      ]
     },
     "metadata": {},
     "output_type": "display_data"
    }
   ],
   "source": [
    "Grecos = G.subgraph(recommendations)\n",
    "nx.draw_spring(Grecos, with_labels=True, node_size=100, font_color='k' )\n"
   ]
  },
  {
   "cell_type": "code",
   "execution_count": null,
   "metadata": {},
   "outputs": [],
   "source": [
    "#recommendations are all nodes  paths between\n",
    "nx.shortest_path(G, source='Tagpuan', target='WAP (feat. Megan Thee Stallion)')"
   ]
  }
 ],
 "metadata": {
  "kernelspec": {
   "display_name": "Python 3",
   "language": "python",
   "name": "python3"
  },
  "language_info": {
   "codemirror_mode": {
    "name": "ipython",
    "version": 3
   },
   "file_extension": ".py",
   "mimetype": "text/x-python",
   "name": "python",
   "nbconvert_exporter": "python",
   "pygments_lexer": "ipython3",
   "version": "3.8.5"
  }
 },
 "nbformat": 4,
 "nbformat_minor": 4
}
