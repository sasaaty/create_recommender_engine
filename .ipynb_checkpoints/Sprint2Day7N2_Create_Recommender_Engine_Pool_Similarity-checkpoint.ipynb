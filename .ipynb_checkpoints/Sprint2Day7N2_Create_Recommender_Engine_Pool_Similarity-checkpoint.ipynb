{
 "cells": [
  {
   "cell_type": "markdown",
   "metadata": {},
   "source": [
    "# Tracks Genre Classification\n",
    "\n",
    "- What does each playlist set sound like? What are their defining characteristics?\n",
    "\n",
    "- Using user-marked playlist genres as training data, can we build a model to correctly classify songs from a separate track dataset?"
   ]
  },
  {
   "cell_type": "code",
   "execution_count": null,
   "metadata": {
    "ExecuteTime": {
     "end_time": "2020-10-12T16:35:31.736159Z",
     "start_time": "2020-10-12T16:35:31.730175Z"
    }
   },
   "outputs": [],
   "source": [
    "import pandas as pd\n",
    "import numpy as np\n",
    "\n",
    "import seaborn as sns\n",
    "import matplotlib.pyplot as plt\n",
    "%matplotlib inline"
   ]
  },
  {
   "cell_type": "markdown",
   "metadata": {},
   "source": [
    "## 1. Read the training data"
   ]
  },
  {
   "cell_type": "code",
   "execution_count": null,
   "metadata": {
    "ExecuteTime": {
     "end_time": "2020-10-12T16:35:31.907134Z",
     "start_time": "2020-10-12T16:35:31.738152Z"
    }
   },
   "outputs": [],
   "source": [
    "#genre_names = [\"R&B\", \"Classical\", \"Country\", \"Electronic\", \"Hiphop\",\"Jazz\", \"Pop\", \"Rock\", \"Reggae\", \"Rap\"]\n",
    "genre_names = [\"R&B\", \"Classical\", \"Country\", \"Electronic\",\"Jazz\", \"Pop\", \"Rock\", \"Rap\"]\n",
    "\n",
    "playlist_df_list = []\n",
    "track_df_list = []\n",
    "for genre in genre_names:\n",
    "    # read and process the playlist data for keyword\n",
    "\n",
    "    pdf = pd.read_csv('data/'+genre.lower()+'_playlist_data.csv')\n",
    "    pdf['genre'] = genre.lower().replace('&','n')\n",
    "    playlist_df_list.append(pdf)\n",
    "\n",
    "    tdf = pd.read_csv('data/'+genre.lower()+'_playlist_tracks_data.csv')\n",
    "    tdf['genre'] = genre.lower().replace('&','n')\n",
    "    track_df_list.append(tdf)\n",
    "        \n",
    "        \n",
    "playlist_df = pd.concat(playlist_df_list)\n",
    "tracks_df = pd.concat(track_df_list)\n"
   ]
  },
  {
   "cell_type": "code",
   "execution_count": null,
   "metadata": {
    "ExecuteTime": {
     "end_time": "2020-10-12T16:35:31.914717Z",
     "start_time": "2020-10-12T16:35:31.909693Z"
    }
   },
   "outputs": [],
   "source": [
    "#check shape\n",
    "playlist_df.shape, tracks_df.shape"
   ]
  },
  {
   "cell_type": "code",
   "execution_count": null,
   "metadata": {
    "ExecuteTime": {
     "end_time": "2020-10-12T16:35:31.924655Z",
     "start_time": "2020-10-12T16:35:31.916674Z"
    }
   },
   "outputs": [],
   "source": [
    "#check columns\n",
    "print(\"Playlist dataset columns: %s \\n\" % playlist_df.columns.values)\n",
    "print(\"Tracks dataset columns: %s\" % tracks_df.columns.values)"
   ]
  },
  {
   "cell_type": "code",
   "execution_count": null,
   "metadata": {
    "ExecuteTime": {
     "end_time": "2020-10-12T16:35:31.937619Z",
     "start_time": "2020-10-12T16:35:31.925651Z"
    }
   },
   "outputs": [],
   "source": [
    "#check null rows\n",
    "playlist_df[playlist_df.isnull().any(1)]\n",
    "#tracks_df[tracks_df.isnull().any(1)]\n"
   ]
  },
  {
   "cell_type": "code",
   "execution_count": null,
   "metadata": {
    "ExecuteTime": {
     "end_time": "2020-10-12T16:35:31.963589Z",
     "start_time": "2020-10-12T16:35:31.939614Z"
    }
   },
   "outputs": [],
   "source": [
    "#remove null rows\n",
    "tracks_df = tracks_df[~tracks_df.isnull().any(1)]\n",
    "tracks_df.shape"
   ]
  },
  {
   "cell_type": "code",
   "execution_count": null,
   "metadata": {
    "ExecuteTime": {
     "end_time": "2020-10-12T16:35:31.972527Z",
     "start_time": "2020-10-12T16:35:31.964546Z"
    }
   },
   "outputs": [],
   "source": [
    "# How many unique tracks are in the combined dataset?\n",
    "len(tracks_df['track_id'].unique())"
   ]
  },
  {
   "cell_type": "code",
   "execution_count": null,
   "metadata": {
    "ExecuteTime": {
     "end_time": "2020-10-12T16:35:31.988512Z",
     "start_time": "2020-10-12T16:35:31.974520Z"
    }
   },
   "outputs": [],
   "source": [
    "#retain only distinct tracks per keyword\n",
    "tracks_df =tracks_df.drop_duplicates(subset='track_id')\n",
    "tracks_df.shape"
   ]
  },
  {
   "cell_type": "code",
   "execution_count": null,
   "metadata": {
    "ExecuteTime": {
     "end_time": "2020-10-12T16:35:32.123160Z",
     "start_time": "2020-10-12T16:35:31.990477Z"
    }
   },
   "outputs": [],
   "source": [
    "# What is the distribution of playlist's total tracks?\n",
    "playlist_df['playlist_total_tracks'].hist()"
   ]
  },
  {
   "cell_type": "code",
   "execution_count": null,
   "metadata": {
    "ExecuteTime": {
     "end_time": "2020-10-12T16:35:32.267737Z",
     "start_time": "2020-10-12T16:35:32.124120Z"
    }
   },
   "outputs": [],
   "source": [
    "# What is the distribution of playlist's total tracks?\n",
    "playlist_df['total_followers'].hist()"
   ]
  },
  {
   "cell_type": "code",
   "execution_count": null,
   "metadata": {
    "ExecuteTime": {
     "end_time": "2020-10-12T16:35:32.277710Z",
     "start_time": "2020-10-12T16:35:32.268735Z"
    }
   },
   "outputs": [],
   "source": [
    "#tally of tracks\n",
    "#tracks_df['genre'].value_counts()\n",
    "tracks_df['genre'].value_counts(normalize=True)"
   ]
  },
  {
   "cell_type": "markdown",
   "metadata": {},
   "source": [
    "## 2. Refine the training data"
   ]
  },
  {
   "cell_type": "code",
   "execution_count": null,
   "metadata": {
    "ExecuteTime": {
     "end_time": "2020-10-12T16:35:32.296659Z",
     "start_time": "2020-10-12T16:35:32.278708Z"
    }
   },
   "outputs": [],
   "source": [
    "#get top playlists\n",
    "top_playlists_df = playlist_df.groupby('genre').head(5)\n",
    "top_playlists_df.head()"
   ]
  },
  {
   "cell_type": "code",
   "execution_count": null,
   "metadata": {
    "ExecuteTime": {
     "end_time": "2020-10-12T16:35:32.311663Z",
     "start_time": "2020-10-12T16:35:32.298654Z"
    }
   },
   "outputs": [],
   "source": [
    "tracks_df = tracks_df[tracks_df['playlist_id'].isin(top_playlists_df['playlist_id'].values)]\n",
    "tracks_df['genre'].value_counts()"
   ]
  },
  {
   "cell_type": "markdown",
   "metadata": {},
   "source": [
    "## 3. Feature Engineering"
   ]
  },
  {
   "cell_type": "markdown",
   "metadata": {},
   "source": [
    "##### Conversions/Normalizations"
   ]
  },
  {
   "cell_type": "code",
   "execution_count": null,
   "metadata": {
    "ExecuteTime": {
     "end_time": "2020-10-12T16:35:32.317603Z",
     "start_time": "2020-10-12T16:35:32.313614Z"
    }
   },
   "outputs": [],
   "source": [
    "#convert duration from ms to mins\n",
    "tracks_df['duration_mins']=tracks_df['duration']/60000"
   ]
  },
  {
   "cell_type": "code",
   "execution_count": null,
   "metadata": {
    "ExecuteTime": {
     "end_time": "2020-10-12T16:35:32.333560Z",
     "start_time": "2020-10-12T16:35:32.319598Z"
    }
   },
   "outputs": [],
   "source": [
    "#Normalize loudness\n",
    "from sklearn.preprocessing import MinMaxScaler\n",
    "scaler = MinMaxScaler()\n",
    "\n",
    "tracks_df['loudness'] = scaler.fit_transform(tracks_df[['loudness']])\n",
    "tracks_df['loudness'].describe()\n"
   ]
  },
  {
   "cell_type": "code",
   "execution_count": null,
   "metadata": {
    "ExecuteTime": {
     "end_time": "2020-10-12T16:35:32.349518Z",
     "start_time": "2020-10-12T16:35:32.336555Z"
    }
   },
   "outputs": [],
   "source": [
    "#Normalize tempo\n",
    "tracks_df['tempo'] =  scaler.fit_transform(tracks_df[['tempo']])\n",
    "#check\n",
    "tracks_df['tempo'].describe()\n"
   ]
  },
  {
   "cell_type": "markdown",
   "metadata": {},
   "source": [
    "###### Categorical Encoding"
   ]
  },
  {
   "cell_type": "code",
   "execution_count": null,
   "metadata": {
    "ExecuteTime": {
     "end_time": "2020-10-12T16:35:32.360489Z",
     "start_time": "2020-10-12T16:35:32.351515Z"
    }
   },
   "outputs": [],
   "source": [
    "tracks_df[\"genre\"] = tracks_df[\"genre\"].astype('category')\n",
    "tracks_df.dtypes"
   ]
  },
  {
   "cell_type": "code",
   "execution_count": null,
   "metadata": {
    "ExecuteTime": {
     "end_time": "2020-10-12T16:35:32.388450Z",
     "start_time": "2020-10-12T16:35:32.362484Z"
    }
   },
   "outputs": [],
   "source": [
    "tracks_df['genre_id'] = tracks_df[\"genre\"].cat.codes\n",
    "tracks_df.head()"
   ]
  },
  {
   "cell_type": "code",
   "execution_count": null,
   "metadata": {
    "ExecuteTime": {
     "end_time": "2020-10-12T16:35:32.398514Z",
     "start_time": "2020-10-12T16:35:32.389410Z"
    }
   },
   "outputs": [],
   "source": [
    "genre_lookup = dict(tracks_df.groupby('genre_id').head(1)[['genre_id','genre']].values)\n",
    "genre_lookup"
   ]
  },
  {
   "cell_type": "markdown",
   "metadata": {},
   "source": [
    "## 4. Train a KNN model"
   ]
  },
  {
   "cell_type": "code",
   "execution_count": null,
   "metadata": {
    "ExecuteTime": {
     "end_time": "2020-10-12T16:35:32.406367Z",
     "start_time": "2020-10-12T16:35:32.401380Z"
    }
   },
   "outputs": [],
   "source": [
    "from sklearn.model_selection import train_test_split, cross_val_score\n",
    "from sklearn.neighbors import KNeighborsClassifier \n",
    "from sklearn.metrics import accuracy_score,roc_curve, auc, confusion_matrix, classification_report"
   ]
  },
  {
   "cell_type": "code",
   "execution_count": null,
   "metadata": {
    "ExecuteTime": {
     "end_time": "2020-10-12T16:35:32.412351Z",
     "start_time": "2020-10-12T16:35:32.407362Z"
    }
   },
   "outputs": [],
   "source": [
    "#test plot for a genre and 2 predictors\n",
    "\n",
    "#fig = plt.figure()\n",
    "#ax= fig.add_subplot(111)\n",
    "\n",
    "#colormaps = ['Reds','Blues']\n",
    "#genre = 'pop'\n",
    "#label = [\"not \"+genre,genre]\n",
    "#for n,genre_bool in enumerate([0,1]):\n",
    "#    df=tracks_df[tracks_df['genre_'+genre]==genre_bool]\n",
    "#    sns.kdeplot(df['energy'],df['tempo'], ax=ax,\\\n",
    "#                shade=True, shade_lowest=False, alpha=0.5, cmap=colormaps[n],\\\n",
    "#                label=label[n])\n",
    "    \n",
    "#plt.legend(frameon=False)\n"
   ]
  },
  {
   "cell_type": "markdown",
   "metadata": {},
   "source": [
    "Tuning the model"
   ]
  },
  {
   "cell_type": "code",
   "execution_count": null,
   "metadata": {
    "ExecuteTime": {
     "end_time": "2020-10-12T16:36:04.624209Z",
     "start_time": "2020-10-12T16:35:32.413347Z"
    },
    "scrolled": true
   },
   "outputs": [],
   "source": [
    "#Select audio features to use for the model\n",
    "feature_cols = ['danceability', 'energy', 'loudness', 'speechiness', 'acousticness', 'instrumentalness',\\\n",
    "                'liveness', 'valence', 'tempo']\n",
    "results_optimal_k = []\n",
    "\n",
    "kfolds= [4,5,8,10]\n",
    "\n",
    "for d in kfolds:\n",
    "    print('\\nTuning kNN classification model with K-Fold=%d...' % d)\n",
    "    # create feature matrix (X)\n",
    "    X = tracks_df[feature_cols]\n",
    "    y = tracks_df['genre_id']\n",
    "\n",
    "    # creating training set, test set and checking shapes \n",
    "    X_train,X_test,Y_train,Y_test = train_test_split(X,y, test_size=0.2)\n",
    "    print(\"Shape of X_Train:\"+str(X_train.shape))\n",
    "    print(\"Shape of y_Train:\"+str(Y_train.shape))\n",
    "    print(\"Shape of X_Test:\"+str(X_test.shape))\n",
    "    print(\"Shape of y_Test:\"+str(Y_test.shape))\n",
    "    \n",
    "    #train model\n",
    "    cv_scores = []\n",
    "    neighbors=np.arange(2,51)\n",
    "    print('Finding best k...')\n",
    "    \n",
    "    #Perform KNN using K= [1..50] and validate using k-fold k = 5\n",
    "    for k in neighbors:\n",
    "        #print('Fitting for k=%d' % k)\n",
    "        knn = KNeighborsClassifier(n_neighbors=k)\n",
    "        scores = cross_val_score(knn, X_train, Y_train, cv=5, scoring='accuracy')\n",
    "        cv_scores.append(scores.mean())\n",
    "        \n",
    "    # changeto misclassification error\n",
    "    mse = [1 - x for x in cv_scores]\n",
    "\n",
    "    # determining best k\n",
    "    optimal_k = neighbors[mse.index(min(mse))]\n",
    "    results_optimal_k.append(optimal_k)\n",
    "    \n",
    "    knn_optimal = KNeighborsClassifier(n_neighbors=k)\n",
    "    knn_optimal.fit(X, y)\n",
    "    # plot misclassification error vs k\n",
    "    plt.plot(neighbors, mse)\n",
    "    plt.xlabel(\"Number of Neighbors K\")\n",
    "    plt.ylabel(\"Misclassification Error\")\n",
    "    plt.show()\n",
    "    \n",
    "    print(\"The optimal number of neighbors is %d with score %d%%\" % (optimal_k, 100*(1-min(mse))))\n"
   ]
  },
  {
   "cell_type": "code",
   "execution_count": null,
   "metadata": {
    "ExecuteTime": {
     "end_time": "2020-10-12T16:36:04.632185Z",
     "start_time": "2020-10-12T16:36:04.626203Z"
    }
   },
   "outputs": [],
   "source": [
    "#results_optimal_k = [38, 33, 17, 21, 13, 46, 26, 27, 10, 26]\n",
    "results_optimal_k"
   ]
  },
  {
   "cell_type": "markdown",
   "metadata": {},
   "source": [
    "## 5. Model Prediction"
   ]
  },
  {
   "cell_type": "code",
   "execution_count": null,
   "metadata": {
    "ExecuteTime": {
     "end_time": "2020-10-12T17:48:18.867539Z",
     "start_time": "2020-10-12T17:48:18.834573Z"
    },
    "scrolled": true
   },
   "outputs": [],
   "source": [
    "chart_tracks_df = pd.read_csv(\"data/spotify_daily_charts_tracks.csv\")\n",
    "chart_tracks_df.head()"
   ]
  },
  {
   "cell_type": "code",
   "execution_count": null,
   "metadata": {
    "ExecuteTime": {
     "end_time": "2020-10-12T17:48:19.167896Z",
     "start_time": "2020-10-12T17:48:19.154702Z"
    }
   },
   "outputs": [],
   "source": [
    "#normalize loudness and tempo\n",
    "chart_tracks_df['loudness'] = scaler.fit_transform(chart_tracks_df[['loudness']])\n",
    "chart_tracks_df['tempo'] =  scaler.fit_transform(chart_tracks_df[['tempo']])"
   ]
  },
  {
   "cell_type": "markdown",
   "metadata": {},
   "source": [
    "Test the model with external data by predicting the genres of the spotify charting tracks!"
   ]
  },
  {
   "cell_type": "code",
   "execution_count": null,
   "metadata": {
    "ExecuteTime": {
     "end_time": "2020-10-12T17:48:26.905646Z",
     "start_time": "2020-10-12T17:48:19.757995Z"
    },
    "scrolled": true
   },
   "outputs": [],
   "source": [
    "#Predict genres of the spotify charts\n",
    "feature_cols = ['danceability', 'energy', 'loudness', 'speechiness', 'acousticness', 'instrumentalness',\\\n",
    "                'liveness', 'valence', 'tempo']\n",
    "genres = [genre_lookup[i] for i in np.arange(len(genre_names))]\n",
    "\n",
    "n=3 #pick kfold=10\n",
    "print(\"Predicting with optimal k: %d\" %(results_optimal_k[n]))\n",
    "\n",
    "knn_optimal = KNeighborsClassifier(n_neighbors=results_optimal_k[n])\n",
    "X = tracks_df[feature_cols]\n",
    "y = tracks_df['genre_id']\n",
    "knn_optimal.fit(X, y)\n",
    "\n",
    "chart_tracks_df['predicted_genre_id'] = chart_tracks_df.apply(lambda x:  knn_optimal.predict(x[feature_cols].values.reshape(1,-1))[0]\\\n",
    "                                               , axis=1)\n",
    "chart_tracks_df['predicted_genre'] = chart_tracks_df['predicted_genre_id'].apply(lambda x: genre_lookup[x])\n",
    "chart_tracks_df['predicted_genre_prob'] = chart_tracks_df.apply(lambda x:  np.max(knn_optimal.predict_proba(x[feature_cols].values.reshape(1,-1)))\\\n",
    "                                                    , axis=1)\n",
    "chart_tracks_df['all_genre_prob'] = chart_tracks_df.apply(lambda x:  knn_optimal.predict_proba(x[feature_cols].values.reshape(1,-1))[0]\\\n",
    "                                                    , axis=1)\n"
   ]
  },
  {
   "cell_type": "code",
   "execution_count": null,
   "metadata": {
    "ExecuteTime": {
     "end_time": "2020-10-12T17:48:26.946851Z",
     "start_time": "2020-10-12T17:48:26.907572Z"
    },
    "scrolled": true
   },
   "outputs": [],
   "source": [
    "#explode genre probabilities into separate columns\n",
    "charts_predicted_genre_prob = pd.DataFrame(chart_tracks_df[\"all_genre_prob\"].to_list(),\n",
    "                                           columns=['predicted_'+g+'_prob' for g in genres])\n",
    "charts_predicted_genre_prob['track_id'] = chart_tracks_df['track_id']\n",
    "chart_tracks_df = pd.merge(chart_tracks_df,charts_predicted_genre_prob, how='left', on='track_id')\n",
    "chart_tracks_df = chart_tracks_df.drop(columns='all_genre_prob')\n",
    "chart_tracks_df = chart_tracks_df.sort_values('predicted_genre_prob', ascending=False)\n",
    "chart_tracks_df.head()"
   ]
  },
  {
   "cell_type": "markdown",
   "metadata": {},
   "source": [
    "Check out tracks with highest assigned probability"
   ]
  },
  {
   "cell_type": "code",
   "execution_count": null,
   "metadata": {
    "ExecuteTime": {
     "end_time": "2020-10-12T17:48:26.972791Z",
     "start_time": "2020-10-12T17:48:26.948846Z"
    }
   },
   "outputs": [],
   "source": [
    "chart_tracks_df.groupby('predicted_genre_id').head()[['artist_name','track_name','predicted_genre','predicted_genre_prob']]"
   ]
  },
  {
   "cell_type": "markdown",
   "metadata": {},
   "source": [
    "View histogram of predicted genre probabilities"
   ]
  },
  {
   "cell_type": "code",
   "execution_count": null,
   "metadata": {
    "ExecuteTime": {
     "end_time": "2020-10-12T17:48:27.233631Z",
     "start_time": "2020-10-12T17:48:26.975774Z"
    }
   },
   "outputs": [],
   "source": [
    "chart_tracks_df['predicted_genre_prob'].hist()"
   ]
  },
  {
   "cell_type": "markdown",
   "metadata": {
    "ExecuteTime": {
     "end_time": "2020-10-12T17:44:50.844307Z",
     "start_time": "2020-10-12T17:44:50.836325Z"
    }
   },
   "source": [
    "Check out tally of predicted genres"
   ]
  },
  {
   "cell_type": "code",
   "execution_count": null,
   "metadata": {
    "ExecuteTime": {
     "end_time": "2020-10-12T17:48:27.241606Z",
     "start_time": "2020-10-12T17:48:27.234626Z"
    }
   },
   "outputs": [],
   "source": [
    "chart_tracks_df['predicted_genre'].value_counts()"
   ]
  },
  {
   "cell_type": "markdown",
   "metadata": {},
   "source": [
    ">Q **Spot Check**: Check out a song you're familiar with and see if the predicted genres and probabilities makes sense"
   ]
  },
  {
   "cell_type": "code",
   "execution_count": null,
   "metadata": {
    "ExecuteTime": {
     "end_time": "2020-10-12T17:48:27.271526Z",
     "start_time": "2020-10-12T17:48:27.242605Z"
    }
   },
   "outputs": [],
   "source": [
    "chart_tracks_df[chart_tracks_df['track_name']=='What is Love']"
   ]
  },
  {
   "cell_type": "code",
   "execution_count": null,
   "metadata": {
    "ExecuteTime": {
     "end_time": "2020-10-12T17:48:27.341376Z",
     "start_time": "2020-10-12T17:48:27.272524Z"
    }
   },
   "outputs": [],
   "source": [
    "#save data\n",
    "chart_tracks_df.to_csv(\"data/spotify_daily_charts_tracks_predicted_genres.csv\", index=False, encoding='utf-8')"
   ]
  },
  {
   "cell_type": "markdown",
   "metadata": {},
   "source": [
    "## Caveats\n",
    "1. Using playlist names as genre tags heavily rely on *user opinion* and not *extracted music features* (compare this from the methods used in the [GTZAN genre collection dataset](https://data-flair.training/blogs/python-project-music-genre-classification/)\n",
    "2. Playlists with dual genre names exists, and appear quite often in the dataset (e.g. Electronic Pop, Classical Rock)\n",
    "3. Although a dominant genre could be readily observed, recent music tend to incorporate many genres at a time and thus create less distinction when the model looks at the audio features.\n",
    "\n",
    ">Q: What other caveats could you deduce from the steps done above?\n"
   ]
  },
  {
   "cell_type": "markdown",
   "metadata": {},
   "source": [
    "## Model Improvement\n",
    "To enhance the model accuracy, try to do the following:\n",
    "1. Pick \"purer\" top-followed playlists for the training data. A quick way to do this is to pick playlists that contain pre 2000's music as majority as these are less hybridized than more recent songs.\n",
    "2. Try fewer but broader genres as categories (4-5 genres)\n",
    "3. Remove outlier songs! These are the songs that dont fit its playlist's description. A bit subjective (and tedious!).\n",
    "4. Limit the features used as predictors (could be inferred from the list of genres you're considering)\n"
   ]
  },
  {
   "cell_type": "markdown",
   "metadata": {},
   "source": [
    "## Day Deliverable\n",
    "*A. For your individual curiosities*\n",
    "1. Choose your own set of genres to be used as prediction values of the KNN model. You may select among the ones listed above or a completely new one (but you must already have the scraped playlist and tracks data for this new genre) \n",
    "\n",
    "2. Choose the features you want to use for the classification. Start by using all and then narrow down by removing one feature at a time and checking if the accuracy increases.\n",
    "\n",
    "3. Check if the model works by using it to predict genres of the spotify_daily_charts_tracks dataset. Do some spot checks and view the songs classified with the highest probabilities per genre\n",
    "\n",
    "\n",
    "*B. For your sprint project*\n",
    "4. Extract a tracks dataset that is relevant to the client you are targeting. \n",
    "   For example:\n",
    "    - A client artist's full discography\n",
    "    - Tracks from a popular playlist in spotify that your client artist appears in\n",
    "    - Discographies of prospect artists to collaborate with \n",
    "    - Popular tracks of the genre that your client artist is targeting to enter\n",
    "    \n",
    "    \n",
    "5. Using the model you tuned in (A), predict the genres of the tracks in (B.4). \n",
    "\n",
    "6. Do some spot checks and view the songs classified with the highest probabilities per genre. \n",
    "   What does the predicted classifications reveal about your tracks dataset?\n",
    "   \n",
    "\n"
   ]
  },
  {
   "cell_type": "code",
   "execution_count": null,
   "metadata": {},
   "outputs": [],
   "source": []
  }
 ],
 "metadata": {
  "kernelspec": {
   "display_name": "Python 3",
   "language": "python",
   "name": "python3"
  },
  "language_info": {
   "codemirror_mode": {
    "name": "ipython",
    "version": 3
   },
   "file_extension": ".py",
   "mimetype": "text/x-python",
   "name": "python",
   "nbconvert_exporter": "python",
   "pygments_lexer": "ipython3",
   "version": "3.8.5"
  }
 },
 "nbformat": 4,
 "nbformat_minor": 2
}
