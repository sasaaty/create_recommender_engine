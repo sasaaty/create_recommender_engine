{
 "cells": [
  {
   "cell_type": "markdown",
   "metadata": {},
   "source": [
    "# Content-Based Recommendation Engine"
   ]
  },
  {
   "cell_type": "code",
   "execution_count": null,
   "metadata": {
    "ExecuteTime": {
     "end_time": "2020-10-14T09:15:42.548625Z",
     "start_time": "2020-10-14T09:15:40.796420Z"
    }
   },
   "outputs": [],
   "source": [
    "import pandas as pd\n",
    "import numpy as np\n",
    "\n",
    "import seaborn as sns\n",
    "import matplotlib.pyplot as plt\n",
    "\n",
    "from sklearn.preprocessing import MinMaxScaler\n",
    "\n",
    "\n",
    "%matplotlib inline"
   ]
  },
  {
   "cell_type": "markdown",
   "metadata": {},
   "source": [
    "## 1. Read the recommendation pool"
   ]
  },
  {
   "cell_type": "code",
   "execution_count": null,
   "metadata": {
    "ExecuteTime": {
     "end_time": "2020-10-14T09:15:42.622181Z",
     "start_time": "2020-10-14T09:15:42.550619Z"
    }
   },
   "outputs": [],
   "source": [
    "#read data\n",
    "chart_tracks_df=pd.read_csv(\"data/spotify_daily_charts_tracks_predicted_genres.csv\")\n",
    "#normalize loudness and tempo\n",
    "scaler = MinMaxScaler()\n",
    "chart_tracks_df['loudness'] = scaler.fit_transform(chart_tracks_df[['loudness']])\n",
    "chart_tracks_df['tempo'] =  scaler.fit_transform(chart_tracks_df[['tempo']])\n",
    "chart_tracks_df.head()"
   ]
  },
  {
   "cell_type": "code",
   "execution_count": null,
   "metadata": {
    "ExecuteTime": {
     "end_time": "2020-10-14T09:15:42.629123Z",
     "start_time": "2020-10-14T09:15:42.624133Z"
    }
   },
   "outputs": [],
   "source": [
    "chart_tracks_df.shape"
   ]
  },
  {
   "cell_type": "markdown",
   "metadata": {},
   "source": [
    "## 2. Input Seed Track\n"
   ]
  },
  {
   "cell_type": "code",
   "execution_count": null,
   "metadata": {
    "ExecuteTime": {
     "end_time": "2020-10-14T09:15:42.636138Z",
     "start_time": "2020-10-14T09:15:42.632113Z"
    }
   },
   "outputs": [],
   "source": [
    "feature_cols = ['danceability', 'energy', 'loudness', 'speechiness', 'acousticness', 'instrumentalness',\\\n",
    "                'liveness', 'valence', 'tempo']"
   ]
  },
  {
   "cell_type": "code",
   "execution_count": null,
   "metadata": {
    "ExecuteTime": {
     "end_time": "2020-10-14T09:15:42.648070Z",
     "start_time": "2020-10-14T09:15:42.637098Z"
    }
   },
   "outputs": [],
   "source": [
    "seed_track_data = chart_tracks_df[chart_tracks_df['track_name']=='The Scientist'].iloc[0]\n",
    "seed_track_data[feature_cols]"
   ]
  },
  {
   "cell_type": "markdown",
   "metadata": {},
   "source": [
    "## 3. Explore Similarity Measures"
   ]
  },
  {
   "cell_type": "code",
   "execution_count": null,
   "metadata": {
    "ExecuteTime": {
     "end_time": "2020-10-14T09:15:42.690956Z",
     "start_time": "2020-10-14T09:15:42.650065Z"
    }
   },
   "outputs": [],
   "source": [
    "from sklearn.metrics.pairwise import euclidean_distances, manhattan_distances, cosine_similarity\n"
   ]
  },
  {
   "cell_type": "markdown",
   "metadata": {},
   "source": [
    "##### Use audio features only"
   ]
  },
  {
   "cell_type": "markdown",
   "metadata": {},
   "source": [
    "Euclidean"
   ]
  },
  {
   "cell_type": "code",
   "execution_count": null,
   "metadata": {
    "ExecuteTime": {
     "end_time": "2020-10-14T09:15:45.225344Z",
     "start_time": "2020-10-14T09:15:42.694944Z"
    }
   },
   "outputs": [],
   "source": [
    "chart_tracks_df['euclidean_dist'] = chart_tracks_df.apply(lambda x: euclidean_distances(x[feature_cols].values.reshape(-1, 1),\\\n",
    "                                                                  seed_track_data[feature_cols].values.reshape(-1, 1))\\\n",
    "                                                                  .flatten()[0], axis=1)\n",
    "#get top 10 nearest to seed_track_data\n",
    "recommendation_df = chart_tracks_df[chart_tracks_df['track_id']!=seed_track_data['track_id']].sort_values('euclidean_dist')[:10]\n",
    "recommendation_df[['track_name','artist_name','euclidean_dist','predicted_genre']+feature_cols]"
   ]
  },
  {
   "cell_type": "markdown",
   "metadata": {},
   "source": [
    "Manhattan"
   ]
  },
  {
   "cell_type": "code",
   "execution_count": null,
   "metadata": {
    "ExecuteTime": {
     "end_time": "2020-10-14T09:15:47.641448Z",
     "start_time": "2020-10-14T09:15:45.227292Z"
    }
   },
   "outputs": [],
   "source": [
    "chart_tracks_df['manhattan_dist'] = chart_tracks_df.apply(lambda x: manhattan_distances(x[feature_cols].values.reshape(-1, 1),\\\n",
    "                                                                  seed_track_data[feature_cols].values.reshape(-1, 1))\\\n",
    "                                                                  .flatten()[0], axis=1)\n",
    "#get top 10 nearest to seed_track_data\n",
    "recommendation_df = chart_tracks_df[chart_tracks_df['track_id']!=seed_track_data['track_id']].sort_values('manhattan_dist')[:10]\n",
    "recommendation_df[['track_name','artist_name','manhattan_dist','predicted_genre']+feature_cols]"
   ]
  },
  {
   "cell_type": "markdown",
   "metadata": {},
   "source": [
    "Cosine"
   ]
  },
  {
   "cell_type": "code",
   "execution_count": null,
   "metadata": {
    "ExecuteTime": {
     "end_time": "2020-10-14T09:15:50.541334Z",
     "start_time": "2020-10-14T09:15:47.643388Z"
    }
   },
   "outputs": [],
   "source": [
    "chart_tracks_df['cosine_dist'] = chart_tracks_df.apply(lambda x: 1-cosine_similarity(x[feature_cols].values.reshape(1, -1),\\\n",
    "                                                                  seed_track_data[feature_cols].values.reshape(1, -1))\\\n",
    "                                                                  .flatten()[0], axis=1)\n",
    "#get top 10 nearest to seed_track_data\n",
    "recommendation_df = chart_tracks_df[chart_tracks_df['track_id']!=seed_track_data['track_id']].sort_values('cosine_dist')[:10]\n",
    "recommendation_df[['track_name','artist_name','cosine_dist','predicted_genre']+feature_cols]"
   ]
  },
  {
   "cell_type": "markdown",
   "metadata": {
    "ExecuteTime": {
     "end_time": "2020-10-14T08:54:20.394786Z",
     "start_time": "2020-10-14T08:54:20.390756Z"
    }
   },
   "source": [
    "View histograms of the 3 similarity measures"
   ]
  },
  {
   "cell_type": "code",
   "execution_count": null,
   "metadata": {
    "ExecuteTime": {
     "end_time": "2020-10-14T09:15:50.913604Z",
     "start_time": "2020-10-14T09:15:50.542296Z"
    }
   },
   "outputs": [],
   "source": [
    "chart_tracks_df[['euclidean_dist','manhattan_dist','cosine_dist']].hist()"
   ]
  },
  {
   "cell_type": "markdown",
   "metadata": {},
   "source": [
    "## 4. Modify similarity criteria"
   ]
  },
  {
   "cell_type": "markdown",
   "metadata": {},
   "source": [
    "##### Audio features and with same predicted genre"
   ]
  },
  {
   "cell_type": "code",
   "execution_count": null,
   "metadata": {
    "ExecuteTime": {
     "end_time": "2020-10-14T09:18:03.168269Z",
     "start_time": "2020-10-14T09:18:02.622998Z"
    }
   },
   "outputs": [],
   "source": [
    "#get top 10 nearest to seed_track_data\n",
    "recommendation_df = chart_tracks_df[chart_tracks_df['predicted_genre']==seed_track_data['predicted_genre']]\\\n",
    "                                    [chart_tracks_df['track_id']!=seed_track_data['track_id']]\\\n",
    "                                    .sort_values('cosine_dist')[:10]\n",
    "recommendation_df[['track_name','artist_name','cosine_dist','predicted_genre']+feature_cols]"
   ]
  },
  {
   "cell_type": "markdown",
   "metadata": {},
   "source": [
    "###### Audio features and genre probabilities"
   ]
  },
  {
   "cell_type": "code",
   "execution_count": null,
   "metadata": {
    "ExecuteTime": {
     "end_time": "2020-10-14T09:15:53.830167Z",
     "start_time": "2020-10-14T09:15:50.941679Z"
    }
   },
   "outputs": [],
   "source": [
    "genre_cols = [col for col in chart_tracks_df.columns if ('predicted_' in col)&('genre' not in col)]\n",
    "cols = feature_cols + genre_cols\n",
    "chart_tracks_df['cosine_dist_mod'] = chart_tracks_df.apply(lambda x: 1-cosine_similarity(x[cols].values.reshape(1, -1),\\\n",
    "                                                                  seed_track_data[cols].values.reshape(1, -1))\\\n",
    "                                                                  .flatten()[0], axis=1)\n",
    "recommendation_df = chart_tracks_df[chart_tracks_df['track_id']!=seed_track_data['track_id']]\\\n",
    "                                   .sort_values('cosine_dist_mod')[:10]\n",
    "recommendation_df[['track_name','artist_name','cosine_dist_mod','predicted_genre']+cols]"
   ]
  },
  {
   "cell_type": "markdown",
   "metadata": {},
   "source": [
    "## Day Deliverable\n",
    "\n",
    "*Groupwork*\n",
    "1. Explore different seed tracks configurations:\n",
    "    - A single track\n",
    "    - A *representative track* made by aggregating the audio features and genre probabilities of all tracks in a chosen album/genre\n",
    "    - A *hypothetical track* with specified desired audio feature values\n",
    "    \n",
    "    \n",
    "2. For each choice of seed track in (1), repeat notebook Steps 2-4 and discuss if the recommended tracks make sense. As a user, would you listen to the recommended tracks?\n",
    "\n",
    "3. In addition to (2), check if the top 10 tracks with the **worst** similarity measure (i.e. most dissimilar to the seed track) make sense. As a user, do you agree that these are the tracks to be first discarded from the recommendation pool?\n"
   ]
  },
  {
   "cell_type": "code",
   "execution_count": null,
   "metadata": {},
   "outputs": [],
   "source": []
  }
 ],
 "metadata": {
  "kernelspec": {
   "display_name": "Python 3",
   "language": "python",
   "name": "python3"
  },
  "language_info": {
   "codemirror_mode": {
    "name": "ipython",
    "version": 3
   },
   "file_extension": ".py",
   "mimetype": "text/x-python",
   "name": "python",
   "nbconvert_exporter": "python",
   "pygments_lexer": "ipython3",
   "version": "3.8.5"
  }
 },
 "nbformat": 4,
 "nbformat_minor": 2
}
