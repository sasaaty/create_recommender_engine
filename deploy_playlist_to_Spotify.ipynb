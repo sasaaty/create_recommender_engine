{
 "cells": [
  {
   "cell_type": "code",
   "execution_count": null,
   "metadata": {
    "ExecuteTime": {
     "end_time": "2020-10-14T12:54:20.816053Z",
     "start_time": "2020-10-14T12:54:20.811068Z"
    }
   },
   "outputs": [],
   "source": [
    "import spotipy\n",
    "from spotipy.oauth2 import SpotifyClientCredentials\n",
    "\n",
    "import keyring\n",
    "import time"
   ]
  },
  {
   "cell_type": "code",
   "execution_count": null,
   "metadata": {
    "ExecuteTime": {
     "end_time": "2020-10-14T12:54:56.632535Z",
     "start_time": "2020-10-14T12:54:20.823398Z"
    }
   },
   "outputs": [],
   "source": [
    "client_id=keyring.get_password('spotify', 'cid')\n",
    "client_secret=keyring.get_password('spotify', 'secret') \n",
    "redirect_uri='https://localhost:8888/callback/'\n",
    "\n",
    "username = '12154733675'\n",
    "scope_playlist = 'playlist-modify-public'\n",
    "scope_user = 'user-library-modify'\n",
    "\n",
    "#Credentials to access the Spotify Music Data\n",
    "manager = SpotifyClientCredentials(client_id,client_secret)\n",
    "sp = spotipy.Spotify(client_credentials_manager=manager)\n",
    "\n",
    "#Credentials to access the library  \n",
    "token_user= spotipy.util.prompt_for_user_token(username,scope_user,client_id,client_secret,redirect_uri) \n",
    "sp_user = spotipy.Spotify(auth=token_user)\n",
    "\n",
    "#Credentials to access the playlists\n",
    "token_playlist= spotipy.util.prompt_for_user_token(username,scope_playlist,client_id,client_secret,redirect_uri) \n",
    "sp_playlist = spotipy.Spotify(auth=token_playlist)"
   ]
  },
  {
   "cell_type": "code",
   "execution_count": 35,
   "metadata": {
    "ExecuteTime": {
     "end_time": "2020-10-14T13:11:42.233373Z",
     "start_time": "2020-10-14T13:11:42.229395Z"
    }
   },
   "outputs": [],
   "source": [
    "track_id_list = ['0W5hTAWn8Tq0Qfhg1XP3YW','2FXd6kKCtBIc6UfN1gH1pA', '3xngVLz4NYEshyX3aRRXgf',\\\n",
    "       '5NhDDt5Zy8yGOECN3PLRdE', '7iXrqFaV5tK4Fri4mrO8jP',\\\n",
    "       '6R6ZoHTypt5lt68MWbzZXv', '1IWNylpZ477gIVUDpJL66u',\\\n",
    "       '3OtQmFLS5b3pTgIf44GQFJ', '5yNEdBlZMxpcVtGKz5NFk5',\\\n",
    "       '3tdKcnxykcmJcssYDGxoC2', '5QO79kh1waicV47BqGRL3g']"
   ]
  },
  {
   "cell_type": "code",
   "execution_count": null,
   "metadata": {
    "ExecuteTime": {
     "end_time": "2020-10-14T13:09:30.652415Z",
     "start_time": "2020-10-14T13:09:30.355372Z"
    }
   },
   "outputs": [],
   "source": [
    "new_playlist_name = \"Eskwelabs: Recommendations for seed track: The Scientist\"    \n",
    "new_playlist = sp_playlist.user_playlist_create(username, name=new_playlist_name)\n",
    "new_playlist"
   ]
  },
  {
   "cell_type": "code",
   "execution_count": 36,
   "metadata": {
    "ExecuteTime": {
     "end_time": "2020-10-14T13:11:45.615512Z",
     "start_time": "2020-10-14T13:11:45.608045Z"
    }
   },
   "outputs": [
    {
     "data": {
      "text/plain": [
       "'39hecOLf72PlT4EBpIXmVE'"
      ]
     },
     "execution_count": 36,
     "metadata": {},
     "output_type": "execute_result"
    }
   ],
   "source": [
    "new_playlist['id']"
   ]
  },
  {
   "cell_type": "code",
   "execution_count": 37,
   "metadata": {
    "ExecuteTime": {
     "end_time": "2020-10-14T13:11:46.838526Z",
     "start_time": "2020-10-14T13:11:46.708873Z"
    }
   },
   "outputs": [
    {
     "data": {
      "text/plain": [
       "{'snapshot_id': 'MywwMzNkYzQ5YTIzZDBhMzc0NjE3OGJhZjY4Y2U3Y2QzN2MzZWNiNmQ1'}"
      ]
     },
     "execution_count": 37,
     "metadata": {},
     "output_type": "execute_result"
    }
   ],
   "source": [
    "playlist_id=new_playlist['id']\n",
    "sp_playlist.user_playlist_add_tracks(username, playlist_id, track_id_list)"
   ]
  },
  {
   "cell_type": "code",
   "execution_count": null,
   "metadata": {},
   "outputs": [],
   "source": []
  }
 ],
 "metadata": {
  "kernelspec": {
   "display_name": "Python 3",
   "language": "python",
   "name": "python3"
  },
  "language_info": {
   "codemirror_mode": {
    "name": "ipython",
    "version": 3
   },
   "file_extension": ".py",
   "mimetype": "text/x-python",
   "name": "python",
   "nbconvert_exporter": "python",
   "pygments_lexer": "ipython3",
   "version": "3.8.5"
  }
 },
 "nbformat": 4,
 "nbformat_minor": 4
}
